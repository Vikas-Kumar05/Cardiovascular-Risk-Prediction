{
  "nbformat": 4,
  "nbformat_minor": 0,
  "metadata": {
    "colab": {
      "private_outputs": true,
      "provenance": [],
      "collapsed_sections": [
        "yQaldy8SH6Dl",
        "mDgbUHAGgjLW",
        "O_i_v8NEhb9l",
        "HhfV-JJviCcP",
        "Y3lxredqlCYt",
        "3RnN4peoiCZX",
        "x71ZqKXriCWQ",
        "7hBIi_osiCS2",
        "JlHwYmJAmNHm",
        "35m5QtbWiB9F",
        "PoPl-ycgm1ru",
        "H0kj-8xxnORC",
        "nA9Y7ga8ng1Z",
        "PBTbrJXOngz2",
        "u3PMJOP6ngxN",
        "dauF4eBmngu3",
        "bKJF3rekwFvQ",
        "MSa1f5Uengrz",
        "GF8Ens_Soomf",
        "0wOQAZs5pc--",
        "K5QZ13OEpz2H",
        "lQ7QKXXCp7Bj",
        "448CDAPjqfQr",
        "KSlN3yHqYklG",
        "t6dVpIINYklI",
        "ijmpgYnKYklI",
        "-JiQyfWJYklI",
        "EM7whBJCYoAo",
        "fge-S5ZAYoAp",
        "85gYPyotYoAp",
        "RoGjAbkUYoAp",
        "4Of9eVA-YrdM",
        "iky9q4vBYrdO",
        "F6T5p64dYrdO",
        "y-Ehk30pYrdP",
        "bamQiAODYuh1",
        "QHF8YVU7Yuh3",
        "GwzvFGzlYuh3",
        "qYpmQ266Yuh3",
        "OH-pJp9IphqM",
        "bbFf2-_FphqN",
        "_ouA3fa0phqN",
        "Seke61FWphqN",
        "PIIx-8_IphqN",
        "t27r6nlMphqO",
        "r2jJGEOYphqO",
        "b0JNsNcRphqO",
        "BZR9WyysphqO",
        "jj7wYXLtphqO",
        "eZrbJ2SmphqO",
        "rFu4xreNphqO",
        "YJ55k-q6phqO",
        "gCFgpxoyphqP",
        "OVtJsKN_phqQ",
        "lssrdh5qphqQ",
        "U2RJ9gkRphqQ",
        "1M8mcRywphqQ",
        "tgIPom80phqQ",
        "JMzcOPDDphqR",
        "x-EpHcCOp1ci",
        "X_VqEhTip1ck",
        "8zGJKyg5p1ck",
        "PVzmfK_Ep1ck",
        "n3dbpmDWp1ck",
        "ylSl6qgtp1ck",
        "ZWILFDl5p1ck",
        "M7G43BXep1ck",
        "Ag9LCva-p1cl",
        "E6MkPsBcp1cl",
        "2cELzS2fp1cl",
        "3MPXvC8up1cl",
        "NC_X3p0fY2L0",
        "UV0SzAkaZNRQ",
        "YPEH6qLeZNRQ",
        "q29F0dvdveiT",
        "EXh0U9oCveiU",
        "22aHeOlLveiV",
        "g-ATYxFrGrvw",
        "Yfr_Vlr8HBkt",
        "8yEUt7NnHlrM",
        "tEA2Xm5dHt1r",
        "I79__PHVH19G",
        "Ou-I18pAyIpj",
        "fF3858GYyt-u",
        "4_0_7-oCpUZd",
        "hwyV_J3ipUZe",
        "3yB-zSqbpUZe",
        "dEUvejAfpUZe",
        "Fd15vwWVpUZf",
        "bn_IUdTipZyH",
        "49K5P_iCpZyH",
        "Nff-vKELpZyI",
        "kLW572S8pZyI",
        "dWbDXHzopZyI",
        "yLjJCtPM0KBk",
        "xiyOF9F70UgQ",
        "7wuGOrhz0itI",
        "id1riN9m0vUs",
        "578E2V7j08f6",
        "89xtkJwZ18nB",
        "67NQN5KX2AMe",
        "Iwf50b-R2tYG",
        "GMQiZwjn3iu7",
        "WVIkgGqN3qsr",
        "XkPnILGE3zoT",
        "Hlsf0x5436Go",
        "mT9DMSJo4nBL",
        "c49ITxTc407N",
        "OeJFEK0N496M",
        "9ExmJH0g5HBk",
        "cJNqERVU536h",
        "k5UmGsbsOxih",
        "T0VqWOYE6DLQ",
        "qBMux9mC6MCf",
        "-oLEiFgy-5Pf",
        "C74aWNz2AliB",
        "2DejudWSA-a0",
        "pEMng2IbBLp7",
        "rAdphbQ9Bhjc",
        "TNVZ9zx19K6k",
        "nqoHp30x9hH9",
        "rMDnDkt2B6du",
        "yiiVWRdJDDil",
        "1UUpS68QDMuG",
        "kexQrXU-DjzY",
        "T5CmagL3EC8N",
        "BhH2vgX9EjGr",
        "qjKvONjwE8ra",
        "P1XJ9OREExlT",
        "VFOzZv6IFROw",
        "TIqpNgepFxVj",
        "VfCC591jGiD4",
        "OB4l2ZhMeS1U",
        "ArJBuiUVfxKd",
        "4qY1EAkEfxKe",
        "PiV4Ypx8fxKe",
        "TfvqoZmBfxKf",
        "dJ2tPlVmpsJ0",
        "JWYfwnehpsJ1",
        "-jK_YjpMpsJ2",
        "HAih1iBOpsJ2",
        "zVGeBEFhpsJ2",
        "bmKjuQ-FpsJ3",
        "Fze-IPXLpx6K",
        "7AN1z2sKpx6M",
        "9PIHJqyupx6M",
        "_-qAgymDpx6N",
        "Z-hykwinpx6N",
        "h_CCil-SKHpo",
        "cBFFvTBNJzUa",
        "HvGl1hHyA_VK",
        "EyNgTHvd2WFk",
        "KH5McJBi2d8v",
        "iW_Lq9qf2h6X",
        "-Kee-DAl2viO",
        "gCX9965dhzqZ",
        "gIfDvo9L0UH2"
      ],
      "include_colab_link": true
    },
    "kernelspec": {
      "name": "python3",
      "display_name": "Python 3"
    },
    "language_info": {
      "name": "python"
    },
    "gpuClass": "standard"
  },
  "cells": [
    {
      "cell_type": "markdown",
      "metadata": {
        "id": "view-in-github",
        "colab_type": "text"
      },
      "source": [
        "<a href=\"https://colab.research.google.com/github/vks2268/Cardiovascular-Risk-Prediction/blob/main/cardiovascular_risk_prediction.ipynb\" target=\"_parent\"><img src=\"https://colab.research.google.com/assets/colab-badge.svg\" alt=\"Open In Colab\"/></a>"
      ]
    },
    {
      "cell_type": "markdown",
      "source": [
        "# **Project Name**    - \n",
        "\n"
      ],
      "metadata": {
        "id": "vncDsAP0Gaoa"
      }
    },
    {
      "cell_type": "markdown",
      "source": [
        "##### **Project Type**    - Classification\n",
        "##### **Project Name**    - Cardiovascular Risk Prediction\n",
        "##### **Contribution**    - Individual\n",
        "##### **Name**           - Vikas Kumar\n"
      ],
      "metadata": {
        "id": "beRrZCGUAJYm"
      }
    },
    {
      "cell_type": "markdown",
      "source": [
        "# **Project Summary -**"
      ],
      "metadata": {
        "id": "FJNUwmbgGyua"
      }
    },
    {
      "cell_type": "markdown",
      "source": [
        "Write the summary here within 500-600 words."
      ],
      "metadata": {
        "id": "F6v_1wHtG2nS"
      }
    },
    {
      "cell_type": "markdown",
      "source": [
        "# **GitHub Link -**"
      ],
      "metadata": {
        "id": "w6K7xa23Elo4"
      }
    },
    {
      "cell_type": "markdown",
      "source": [
        "Provide your GitHub Link here."
      ],
      "metadata": {
        "id": "h1o69JH3Eqqn"
      }
    },
    {
      "cell_type": "markdown",
      "source": [
        "# **Problem Statement**\n"
      ],
      "metadata": {
        "id": "yQaldy8SH6Dl"
      }
    },
    {
      "cell_type": "markdown",
      "source": [
        "**Write Problem Statement Here.**\n",
        "\n",
        "The dataset is from an ongoing cardiovascular study on residents of the town of Framingham, Massachusetts. The classification goal is to predict wheater the patient has a 10- year risk of future coronary hear disease (CHD). The dataset provides the patients. imformation. It includes over 4,000 records and 15 attributes. Each attributes is a potential risk factor. There are both demographic, behaviroal, and medical risk factors."
      ],
      "metadata": {
        "id": "DpeJGUA3kjGy"
      }
    },
    {
      "cell_type": "markdown",
      "source": [
        "# **General Guidelines** : -  "
      ],
      "metadata": {
        "id": "mDgbUHAGgjLW"
      }
    },
    {
      "cell_type": "markdown",
      "source": [
        "1.   Well-structured, formatted, and commented code is required. \n",
        "2.   Exception Handling, Production Grade Code & Deployment Ready Code will be a plus. Those students will be awarded some additional credits. \n",
        "     \n",
        "     The additional credits will have advantages over other students during Star Student selection.\n",
        "       \n",
        "             [ Note: - Deployment Ready Code is defined as, the whole .ipynb notebook should be executable in one go\n",
        "                       without a single error logged. ]\n",
        "\n",
        "3.   Each and every logic should have proper comments.\n",
        "4. You may add as many number of charts you want. Make Sure for each and every chart the following format should be answered.\n",
        "        \n",
        "\n",
        "```\n",
        "# Chart visualization code\n",
        "```\n",
        "            \n",
        "\n",
        "*   Why did you pick the specific chart?\n",
        "*   What is/are the insight(s) found from the chart?\n",
        "* Will the gained insights help creating a positive business impact? \n",
        "Are there any insights that lead to negative growth? Justify with specific reason.\n",
        "\n",
        "5. You have to create at least 15 logical & meaningful charts having important insights.\n",
        "\n",
        "\n",
        "[ Hints : - Do the Vizualization in  a structured way while following \"UBM\" Rule. \n",
        "\n",
        "U - Univariate Analysis,\n",
        "\n",
        "B - Bivariate Analysis (Numerical - Categorical, Numerical - Numerical, Categorical - Categorical)\n",
        "\n",
        "M - Multivariate Analysis\n",
        " ]\n",
        "\n",
        "\n",
        "\n",
        "\n",
        "\n",
        "6. You may add more ml algorithms for model creation. Make sure for each and every algorithm, the following format should be answered.\n",
        "\n",
        "\n",
        "*   Explain the ML Model used and it's performance using Evaluation metric Score Chart.\n",
        "\n",
        "\n",
        "*   Cross- Validation & Hyperparameter Tuning\n",
        "\n",
        "*   Have you seen any improvement? Note down the improvement with updates Evaluation metric Score Chart.\n",
        "\n",
        "*   Explain each evaluation metric's indication towards business and the business impact pf the ML model used.\n",
        "\n",
        "\n",
        "\n",
        "\n",
        "\n",
        "\n",
        "\n",
        "\n",
        "\n",
        "\n",
        "\n",
        "\n",
        "\n",
        "\n",
        "\n",
        "\n",
        "\n",
        "\n"
      ],
      "metadata": {
        "id": "ZrxVaUj-hHfC"
      }
    },
    {
      "cell_type": "markdown",
      "source": [
        "# ***Let's Begin !***"
      ],
      "metadata": {
        "id": "O_i_v8NEhb9l"
      }
    },
    {
      "cell_type": "markdown",
      "source": [
        "## ***1. Know Your Data***"
      ],
      "metadata": {
        "id": "HhfV-JJviCcP"
      }
    },
    {
      "cell_type": "markdown",
      "source": [
        "### Import Libraries"
      ],
      "metadata": {
        "id": "Y3lxredqlCYt"
      }
    },
    {
      "cell_type": "code",
      "source": [
        "# Import Libraries\n",
        "import numpy as np\n",
        "import pandas as pd\n",
        "import matplotlib.pyplot as plt\n",
        "import plotly.express as px\n",
        "import seaborn as sns\n",
        "%matplotlib inline"
      ],
      "metadata": {
        "id": "M8Vqi-pPk-HR"
      },
      "execution_count": null,
      "outputs": []
    },
    {
      "cell_type": "markdown",
      "source": [
        "### Dataset Loading"
      ],
      "metadata": {
        "id": "3RnN4peoiCZX"
      }
    },
    {
      "cell_type": "code",
      "source": [
        "from google.colab import drive\n",
        "drive.mount ('/content/drive')"
      ],
      "metadata": {
        "id": "X8jdJjhFDm6F"
      },
      "execution_count": null,
      "outputs": []
    },
    {
      "cell_type": "code",
      "source": [
        "# Load Dataset\n",
        "df_cv = pd.read_csv(\"/content/drive/MyDrive/Capstone project 3_classification/data_cardiovascular_risk.csv\")"
      ],
      "metadata": {
        "id": "4CkvbW_SlZ_R"
      },
      "execution_count": null,
      "outputs": []
    },
    {
      "cell_type": "markdown",
      "source": [
        "### Dataset First View"
      ],
      "metadata": {
        "id": "x71ZqKXriCWQ"
      }
    },
    {
      "cell_type": "code",
      "source": [
        "# Dataset First Look\n",
        "df_cv.head()"
      ],
      "metadata": {
        "id": "LWNFOSvLl09H"
      },
      "execution_count": null,
      "outputs": []
    },
    {
      "cell_type": "code",
      "source": [
        "df_cv.head().T"
      ],
      "metadata": {
        "id": "jmkbhVlVEROe"
      },
      "execution_count": null,
      "outputs": []
    },
    {
      "cell_type": "code",
      "source": [
        "df_cv.tail()"
      ],
      "metadata": {
        "id": "mSZ2m0xHFzmt"
      },
      "execution_count": null,
      "outputs": []
    },
    {
      "cell_type": "markdown",
      "source": [
        "### Dataset Rows & Columns count"
      ],
      "metadata": {
        "id": "7hBIi_osiCS2"
      }
    },
    {
      "cell_type": "code",
      "source": [
        "# Dataset Rows & Columns count\n",
        "df_cv.shape"
      ],
      "metadata": {
        "id": "Kllu7SJgmLij"
      },
      "execution_count": null,
      "outputs": []
    },
    {
      "cell_type": "markdown",
      "source": [
        "Here 2290 rows and 17 columns in the dataset"
      ],
      "metadata": {
        "id": "lR9yT6c2FclA"
      }
    },
    {
      "cell_type": "markdown",
      "source": [
        "### Dataset Information"
      ],
      "metadata": {
        "id": "JlHwYmJAmNHm"
      }
    },
    {
      "cell_type": "code",
      "source": [
        "# Dataset Info\n",
        "df_cv.info()"
      ],
      "metadata": {
        "id": "e9hRXRi6meOf"
      },
      "execution_count": null,
      "outputs": []
    },
    {
      "cell_type": "markdown",
      "source": [
        "#### Duplicate Values"
      ],
      "metadata": {
        "id": "35m5QtbWiB9F"
      }
    },
    {
      "cell_type": "code",
      "source": [
        "# Dataset Duplicate Value Count\n",
        "df_cv.duplicated().sum()"
      ],
      "metadata": {
        "id": "1sLdpKYkmox0"
      },
      "execution_count": null,
      "outputs": []
    },
    {
      "cell_type": "markdown",
      "source": [
        "So there is not any deplicate values in this dataset. "
      ],
      "metadata": {
        "id": "JxpdhCSnsOnA"
      }
    },
    {
      "cell_type": "markdown",
      "source": [
        "#### Missing Values/Null Values"
      ],
      "metadata": {
        "id": "PoPl-ycgm1ru"
      }
    },
    {
      "cell_type": "code",
      "source": [
        "# Missing Values/Null Values Count\n",
        "df_cv.isnull().sum().sort_values(ascending = False)"
      ],
      "metadata": {
        "id": "GgHWkxvamxVg"
      },
      "execution_count": null,
      "outputs": []
    },
    {
      "cell_type": "markdown",
      "source": [
        "Here we got the missing values as follow:\n",
        "\n",
        "Glucose = 304\n",
        "\n",
        "education = 87\n",
        "\n",
        "BPmeds = 44\n",
        "\n",
        "totchol = 38\n",
        "\n",
        "cigsPerDay = 22\n",
        "\n",
        "BMI = 14\n",
        "\n",
        "id =1"
      ],
      "metadata": {
        "id": "rZQgaOyWHvDp"
      }
    },
    {
      "cell_type": "code",
      "source": [
        "# Visualizing the missing values\n",
        "fig = plt.figure(figsize=(18, 6))\n",
        "sns.heatmap(df_cv.isnull(),cbar=True)   "
      ],
      "metadata": {
        "id": "3q5wnI3om9sJ"
      },
      "execution_count": null,
      "outputs": []
    },
    {
      "cell_type": "code",
      "source": [
        "round(df_cv.isna().sum().sort_values(ascending = False)/len(df_cv)*100, 2)"
      ],
      "metadata": {
        "id": "ukh_8Z5Ts7ir"
      },
      "execution_count": null,
      "outputs": []
    },
    {
      "cell_type": "markdown",
      "source": [
        "### What did you know about your dataset?"
      ],
      "metadata": {
        "id": "H0kj-8xxnORC"
      }
    },
    {
      "cell_type": "markdown",
      "source": [
        "Answer Here\n",
        "\n",
        "Of the 17 columns in the missing values visualisation shown above, 4 columns have no values. Education, BPMeds, total Chol, and Glucose are examples of columns with null values. The Glucose columns have the highest amount of missing values (304).\n",
        "\n",
        "\n",
        "\n",
        "> Approx 9% missing values in the glucose.\n",
        "\n",
        "> In Education colum there is 2.57% of missing values.\n",
        "\n",
        "\n",
        "\n",
        "\n"
      ],
      "metadata": {
        "id": "gfoNAAC-nUe_"
      }
    },
    {
      "cell_type": "markdown",
      "source": [
        "**We will replace the missing value with the using of median**"
      ],
      "metadata": {
        "id": "EFJBeXTs5h7x"
      }
    },
    {
      "cell_type": "code",
      "source": [
        "# Replace this null/missing values with the median\n",
        "for col in ['glucose','education','BPMeds','totChol','cigsPerDay','BMI','heartRate']:\n",
        "  df_cv[col] = df_cv[col].fillna(df_cv[col].median())"
      ],
      "metadata": {
        "id": "Xn7Dy6WH5bis"
      },
      "execution_count": null,
      "outputs": []
    },
    {
      "cell_type": "code",
      "source": [
        "df_cv.isnull().sum()"
      ],
      "metadata": {
        "id": "nFk6JRsF7BJs"
      },
      "execution_count": null,
      "outputs": []
    },
    {
      "cell_type": "code",
      "source": [
        "sns.heatmap(df_cv.isnull())"
      ],
      "metadata": {
        "id": "PRZd5d2e7JbB"
      },
      "execution_count": null,
      "outputs": []
    },
    {
      "cell_type": "markdown",
      "source": [
        "## ***2. Understanding Your Variables***"
      ],
      "metadata": {
        "id": "nA9Y7ga8ng1Z"
      }
    },
    {
      "cell_type": "code",
      "source": [
        "# Dataset Columns\n",
        "df_cv.columns"
      ],
      "metadata": {
        "id": "j7xfkqrt5Ag5"
      },
      "execution_count": null,
      "outputs": []
    },
    {
      "cell_type": "code",
      "source": [
        "# Dataset Describe\n",
        "df_cv.describe().T"
      ],
      "metadata": {
        "id": "DnOaZdaE5Q5t"
      },
      "execution_count": null,
      "outputs": []
    },
    {
      "cell_type": "markdown",
      "source": [
        "Because there is such a big discrepancy between the 75% percentile value and the highest value, there is skewness and outliers in the continuous characteristics \"cigsperday,\" \"totchol,\" \"sysbp,\" \"diebp,\" \"BMI,\" \"heartrate,\" and \"glucose,\" as can be seen in the statistical summary."
      ],
      "metadata": {
        "id": "qnmlbu6Z9UX4"
      }
    },
    {
      "cell_type": "code",
      "source": [
        "df_cv.describe(include = 'all').T"
      ],
      "metadata": {
        "id": "GHfNW2cOz5-7"
      },
      "execution_count": null,
      "outputs": []
    },
    {
      "cell_type": "markdown",
      "source": [
        "### Variables Description "
      ],
      "metadata": {
        "id": "PBTbrJXOngz2"
      }
    },
    {
      "cell_type": "markdown",
      "source": [
        "![image1.png](data:image/png;base64,iVBORw0KGgoAAAANSUhEUgAAAq8AAAM7CAYAAABk4Xl8AAAAAXNSR0IArs4c6QAAAARnQU1BAACxjwv8YQUAAAAJcEhZcwAAEnQAABJ0Ad5mH3gAAP+lSURBVHhe7N0HuJ1FufbxoYTee+8dItKRIsUgRUAELFEEaXoUS6yoRz2x4EEsJzYUAVFEc0BRKQpoICi9l9B77713Pn9z9vAttnsnO2EHspL7f13vtfZ6y/S555ln5l17upf/RQkhhBBCCKELmL7nM4QQQgghhCme8Xpen3nmmfLYY4/1fAshhBBCCGHyM9dcc5VZZpml59urGa/xetJJJ5X999+/51sIIYQQQgiTn+985ztl22237fn2asZrvI4ePbp8+MMfLh/72MfKoosu2nM2hBCmTU4++eRyww03VE2cfvrsugohhMHm7rvvLgcffHD5xS9+UYYPH95z9tVM0HgdMWJEGTNmTBk6dGjP2RBCmDYZOXJkGTt2bNXEIUOG9JwNIYQwWIwbN64MGzasjBo1ql/jNa6DEEIIIYTQNcR4DSGEEEIIXUOM1xBCCCGE0DXEeA0hhBBCCF1DjNcQQgghhNA1xHgNIYQQQghdQ4zXEEIIIYTQNcR4DSGEEEIIXUOM1xBCCCGE0DXEeA0hhBBCCF1DjNcQQgghhNA1xHgNIYQQQghdQ4zXEEIIIYTQNcR4DSGEEEIIXUOM1xBCCCGE0DXEeA0hhBBCCF1DjNcQQgghhNA1xHgNIYQQQghdQ4zXEEIIIYTQNcR4DSGEEEIIXUOM1xBCCCGE0DW8Ycbr888/Xx566KFy8cUXlyuvvLLcd9995eWXX+65OnG89NJL5bHHHitjxowpP//5z8svfvGLcuaZZ5Ynnnii547+ue2228qJJ55YDjrooHLIIYeUs846qzzzzDOTnJYQQpiWefbZZ8u9995bzjvvvHLNNdeUBx98sOfK5IFW0+wbbrihXHrppfUzGh7C1M0MI/9Fz9//xhVXXFFOPvnksvvuu5eFF1645+y/w0i85ZZb6v233nprvwdD8f777y8zzDBDFTjC9ve//71eIzSLLbZYvTbddNP1hDwwGK+PPPJIOf7446shKty55567rLzyymX22Wfvuatv3PvXv/61HH300eX2228v88wzT1ljjTXKTDPNNNHpCCFM3Zx++ulV62gireoLevT444+Xa6+9tupLpwbSmLvvvrtOtt0344wz1mNq4oEHHijjxo0rf/vb38o999xTy2mhhRaq+ZwcmvrCCy/UMv3nP/9Zzj///Bqn8Yr2T21lG8K0AGfmkUceWbbZZpsydOjQnrOvZlA8rwT5iCOOKHvuued4jw9/+MPlv/7rv8q5555bDdmxY8eW4447rowePboakAxbHtkQQuhWnnvuuXLjjTeWH/zgB31q4Gc/+9ly8MEHV2OLh/LFF1+cqryEd9xxRzn11FPLn/70p/Lb3/62nHbaadX7Kp+vBc8bHxwM/1ZmHCFXXXVVdbQY8IxFl19+eXn00Ufr9RDC1Mcbtm1gzjnnLCussEJZYIEFylJLLVWWW2656vXMTDmEMLXC8GLImcDb3vT973+/Gne2UE0tBuy8885b9dznMsssUw8rYdNPP2nDDaPV6h7DdMSIEeVTn/pUOeWUU6qzA0OGDClLLLFEXbkzlqyyyir171lnnbVeDyFMfUwW43X99dcv73vf+6qXofPYe++9yy677PKK0br22muXPfbYo+y2225l0003LbPNNtskC1wIIUyJzDLLLGXLLbesOrfXXnuVd7/73VUDbR1gxP7hD3+oW65sfZoaoO1vectbyr777lve//73l/XWW68akpO6ZYBRb2uA1Toe1csuu6x6rHlcweHBeH3HO95R9tlnnzr2LL300rXcQwhTJ4Oy59UeJ4LixSvsvPPO9Rg2bFg1ZNux7rrr1v2knfufiNp8881Xj7nmmqsar84TLAePhP1MhMv2BLPtp556qsbT9qW678knn6wvf9188801DPtdxWXfk+uWmYR155131r1nd911V3n66afrEpcN/tdff32Nf9VVVy1rrrlmDRvuEae4HZ7zXXyQj/72voUQpi4GsueVoUUTvbBEa6wyffCDH6zGlUk6XTJRty+W/thisOCCC1Zd9NmMPLplCwJPLd2iPz6FzXCjc51785vOPfzww1Uzm2bZP2YJXVjubxrb4NmUFntFpVeaGIeeEaZ8thUx8QpbGbhHWJ6li9LW7nXQXoYsD6wycK+0Cd/ztJWW02XfPc+Al06GpzS6R7rsHbafVX6kd5FFFikzzzxzjacZxsIXjziNJy2v8IzJgrDE1ZlH9dV0vJWLNInLvbSex9zzbRzyLG+w8Hl+WzwhhNfOQPa8ThbjlUCvvvrq9RkC03kQFCJBAP06wLe//e26BEQY1lprrVeEgGh6Y9S+MC9T/fKXv6z7p/7xj39UoSRYBMz9mJDxKiwDjwKxXPfHP/6xFhCRMjgQ7d7GK8ETnjIQ/29+85v6nDQRMPkhlAaiEMLUz6QYr/Rhiy22KMsvv3yZf/75q874my61iTGtWXTRRetye9M051z34hPt+fWvf12OOeaY+osoDCeGGo2ld4wuhitjsFMzjzrqqKqztJlG8lAyDJsxCufpt7D94sr//u//Vk32DB1kfFr2l15Gm3cUfvKTn1RdtNXLflPPeo4mMzhthfj6179ef/VFulZbbbWarzPOOKPuSf3pT39ay4jBKj++H3vsseWSSy6peVh22WWrviq/E044oRxwwAH1BTjXhO+FMOXLcOZlNZ78+Mc/Lj/72c/qOKAcGbDyKt3yeNFFF1Uvt3ukVbka4ximrV6aESr9ys+v16gf8bpX+RhDPGts8IwxIFsUQhg8XrcXtvqic2bfH0SN0Dv83fDdDJfwEplzzjmnirhZv09i96tf/ar+ugBh6Xy2N4TLbPsvf/lLFS7CxlAmRpbs/NoBwRRnwzO+i+d3v/tdFVVCRciJVVvuk7Y///nP1ZvQ+XwIIfRF8xAydhhYK620Uj3P+OIN5HmkPwwqBiUNZIgy1ugMw83k/aSTTnrFMKVHDF2GHsOSZvFSupcxKTwrS36JxYtijFLXPMPzSBuF5QVag4Zr4mKUMpi9VHv11VfXcByecw9DlgbSVenjMaXF7vEpD3TR/c6haT7j++yzz6762V7oco4XmiYffvjh9W/3Mv4Z9hwRys6kgdHM4Gwe3ZYucTpaWv3NSJZOEwB59J0zQ1nLY7tmnJGHln5xM3ptVfj9739fHRfGAec4PdSPZ5WNOgghvH5MFuP1wgsvrIJ76KGHvurgOSVIDMfxQVz8Xp9fILCkbyltu+22q2/rbr311nWmaxmJd8Cn2Xd/iIunhMgTKgbohhtuWD0nW221VX2ZoLehTbgIKUFm7BJWWx5shbCfymxAOOI2+xc+MQwhhIHA4OLRpG2MJYYUg4hhBJNy2sLTy7Bl5O600051+8Fmm21Wn6eRPIDuZWya8PNsMlSFu+2229b76RZPL2OTV5axRdMYoP7mHaV1sDd3+PDhdYsDL60wTdTF5X7aCJ80j8HM4BP+BhtsUOPtzyPdiTzTZvdvvPHG5QMf+EDVdp5k+WFkMrLd9+Y3v7nsuuuu9UUsBixj1j5aYwIt7/SY9oZRyWPa8s2bKx7xvfOd76xhKl/lJp88wS2PaAY+D+6b3vSmul95hx12qJ5h445yM6a5J4Tw+jFZjFdL+5Zb/vu///tVx49+9KMqSAzD/iBWxIsBTBh4KIj1xz72sbL//vvXF7/e+ta3VhFiWDIgCXF/GBQYwO4ltsSKAH3hC1+ob64aELw80Sm4BIvo8XAI2+yeoevlAy+dOWyN8GarpTBxxPMaQpgYaAcdA21iuDLoGE+WyGkW45BBx9D65Cc/WT73uc/VSTxDijF5wQUXVH3jMTXpZ2zSIkttDD73enGKwWUrl+V/z4mL8eV5cbVnvFD26U9/unzkIx+p7yzwbjJ6GcTup40Nk35pY0AykN/1rndVZ0DL0/igt56lq/vtt1/VYy9bMYDbdgHOBunyYu973/veuvWAFjNgvUOx4447lk022aRf41U50m+TAGXknnXWWafmzc+ViVe58E4zYHlYjSe8tQ3PGIMY2NInncqT8cygVSYM3hivIby+TLZtA5MCw5VwEEsGLBib9qDa10TsiSMR80lIbSPgdegPhiUj1Occc8xRwyP8BNKeKN/N7PvzFoiD0Dfvhvt4JAifn7n58pe/XAWRqIYQwqTSlqNtj2KE0jZeRvrC8GRkMaRoFg1k/HnGtqjmEKChPKGeZZDRU8YdL6x9o/Z7MjQtwzO4rrvuujpR990vBPCgWpL3U1MMNtrrb3rZltQbjFfhmtRvv/321aBcfPHFB7T/s+koHZcPK1krrrhi1WbbKcAolA9GaGe8A6VtGeBxZbCLz3sV4qHXylP+xKmMGLq8qMq/eV+lk3dYmjwvncpKmoUhXZ4bn0MmhDD4TBbj1bK6Gep3vvOdVx1f+cpXqqE4PkOP4LQlNMJgNmzLgd/2+8QnPlE9D/a7mkm3ex39QZhbWIzX9uZr23vmxYX2gkTDOR4HL29ZHjJA2MJw4IEHVmOVB9ls3nmi1/ZihRDCpMLoo1GMRJrFq8cosjf0u9/9bvW8Omirl5gYd20CT39M8Bm6DF77Mb2YyovqpVj7Vu2pFb6DUcago510lBeRNtJCYQnDipRVJnFaoaKJnS96gf7RU8atZ4XbextWfzT99ekZ+ZcGxjMYkcqi09s7MfDa8mQz0v0trbacSaf4GKLS7lcepF987u1tpLd0trz5bH+7b1KN6xDCpDNZLC77szbffPO6b6rzsAxlFk8o+4MQEA9CAmJiycoLCAxG2wksKYHQEZXxiRthdoBoEazexmpviBLxtlz19re/vXogYBuDfbZefDB4+NvSXudesBBCGAgMqqZNdMkk2EFLbCOgg+7hPbTdigY6vDVvmwDto4EMJ3/bxmQ/p6V43kHGrZefvJBFr3x6OYpHtoUtfvExxqSB9kF4thjwTFoi5+2liQy5TpohNxgIWxocoOuOSTUM5UsemzEq3M6xR17l0zl5EFcrjxijIUzZTBbjlXFoFk3sOg/niEUTyL5wjYg1kTTb97NXBLSvw3IOke2PZrCCKE2MMPG82mtmjxMj1vKSWTrDmjek/dpAGwxCCGEg0CBe1bZXkgeQjtHITg2kX5a3/exfX/pnGdxyNn21vO0nuexztd/VXlT6yDizHO7XWXhj/bqKFakWj8+mjQ3pY/jx/kqjVaZJ9YAOFHE2gxWtDMY3XoyPznLsL4++y6e/O8sjhDBlM8WtdZsBE2JLWyC+XrD6r//6r/q7ge3w3eFXA3gH+kNYbZsCb4ZlpObV7Q9Cxhh1L2PbHikDwkEHHVS3DHz+85+vg4l7DApeLHBvCCFMiKYvfqXEy1KMJZ5S+0Xtw2ew0j9GJ2OW1nhZyE9yN/3zN/2zjYmhyoClb1aBLI3zwLp22GGHlW9961t15UuY9u6L01YDYdNGGic9DNpm3Pnu3QO/0sLo9bOBthgw9CYXLQ3NoJc+x6R6duWr5ZFRqnxMGJQ/GMnKyxYNcXNyuFf5uz+EMOUyxfVQAkLILYERdcahJTMvXTXvBBGyCd/Pn9gsT6T6w/4pngvPEkbCLby2v+mmm26qYXXOyC0dGVj8xqFfSfDZfnXACwY8su0lA+EQxMntlQghdCfNWGUo0SAvWJ166ql1CZ8e0S8eVNutTLYZrfavWuXxjJ968hY845Ge0UAGl32tfpuUXvne/jHAqFGj6vYq4TKIrVwJj365lxeV3tkDyjngvOfpoFUkemZbgl8isFfWPyOwZUoemuH3WhE/49g+XNrKKLYdTBq8rAbjAGO+tzfUvcqCw0B++ksTI9S2Ci+hKVOGu5/8ou3KgAEvPs4HHmb3Kif7X+N9DWHKZooyXgmGWfaSSy5Zl+h9esPf7+9Znu88iGr7LyeM2f4g9gxOAk7kCJUf+Pa8cAi+gaHT+HQfcSVyPA48Dw77x3y37EZwpdcA0LwlIYTQG0affaqMwE79cs7k18qRn4hqv6jC6KRXflGAQcWoo1Pt2XbYx+pnCRma4qCV9uDbi+8anXO9/Ra1e3hfhclgpV1eoOUocI1hZz9/C5u+OsfgZtA5BssjSW8Z8bSdtorTpzLhVLAFgtHpU5xtRU4a6L0Xef0GLgO+GeO98QwvtHcXGPEMVAZ5Kz91YBKhbOw1tsJmAqEOYryGMGUzRa6NEBo/2+IHs3lNiYv/GmMZ7Etf+lLxbwAJF9EmrOMzXom0t2a9QCYss2//EUY4fj2AQBP9ztk7j6pfGTCgEDPXeV/9NJZfTeDZ4Ikwm2+DDGENIYTeMK5ojm1HPKN0xKqR816E8o9P/BMUhlqDrnhRlAYxMhmR9qv6rWva5RdXeFd5IBllvLEm/H5/2lK58P/nf/7nlV968Wsp7uNptXJECxls9s22uP2Ci3/TajvCD37wg2owMwB5he2fZfRO6hJ+b+gtD6902or1xS9+sf6MF2NUusRJVxmfjFda62Vf3mh6zyi3JYIBymvc38oXx4K0+xUG70+0PH7ta18r3/ve9+qEQlpMINzHgB3fSl4IYcpgijReiQdvwIc+9KH6H2L8UwLL9E3ECLD/rvKZz3ymCnz7aZW+8Ayh9mPU9s4SRYam2bXfJTRwON9e6oJZtxk+g3ePPfYou+yyS02PwcZSFwi+tPmNQ8tbnc+HEEJf0B1GFEPJP1yhYSbpjKxOb5/7aBUN3G233erfbQmdfvmHAnTLzwcyRmmgSXq7nz4Jg9eWblnFooF+apDByiBmiDJ6nffuAL1rP4fFgGRY22tL/8QxmN5IabOX1z8a8NOK8kbbOQ38WoKykZ+2hC9NDHljAQOT3rZDPvpLm3gY5v6jFi2XR3lueTRJMAa4ttFGG9XwBjOfIYTJw3T/mnX2u4nJ/8n2X6hs2ieW/cEzec0119QfvIZlGkv1vJ79YdbNC2r/KbEgrma/xIZAS5alIPf4yRdeVp4DokN8GIyM2PabhfY/2RJgD5XwXCNyvBDCsk/KXipeXGGZqXvJwcxePDypBgVLVURbOpzn2RC/dPDyeo7AMaYZtAxjcYQQpn68KOVfl9JEGtEXtIYm8iLSjk5oFSONB9EKEx1pL6f2hv7Y80rThGOrku/ipVv0y1YD4TXNtAfU/fTKnk6Gq/t5TXkuGYd0jo42bBlwL0PXuwU8m657hgEpjQw9CM8+Xe8iuI8hTLs780AzhUXbaaM4eVGlg6fzj3/8Y/2XtAx4L5bJg/xJB6Navmi3fHV6emm8vImbt9V1z7rX9gsabiuCMIxByojxC2G3f34jDN/lkdEv/eI0XilH2I4mHuEZbxja7vGMMm5lYEySP+VkLAghvHb0ZT+tapXbv6vui0ExXkMIYVpgIMZr6B/7cJvxytPJI+pfvHIIhBACBmK8TpHbBkIIIYQQQuiLGK8hhBBCCKFriPEaQgghhBC6hhivIYQQXhe8ROXlLftd2+/Y5u3+EMLEEuM1hBDC64JfJ/j0pz9dDj/88PLZz362/gRYXnwLIUwsMV5DCCGEEELXEOM1hBBCCCF0DTFeQwghhBBC1xDjNYQQQgghdA0xXkMIIYQQQtcQ4zWEEEIIIXQNMV5DCCGEEELXEOM1hBBCCCF0DTFeQwghhBBC1xDjNYQQQgghdA0xXkMIIYQQQtcQ4zWEEEIIIXQNMV5DCCGEEELXEOM1hBBCCCF0DTFeQwghhBBC1xDjNYQQQgghdA3Tvfwvev7+N0aPHl322Wefsssuu5QFFlig52wIIUybnHPOOeX222+vmjjDDDP0nA0hhDBYPPDAA+XYY48thx12WBk+fHjP2VczQeN1zz33LBtssEGZa665es6GEMK0yXXXXVeFdcMNNyzTT5+FqxBCGGwee+yxct5555Ujjjhi0o3XESNGlDFjxpShQ4f2nA0hhGmTkSNHlrFjx1ZNHDJkSM/ZEEIIg8W4cePKsGHDyqhRo/o1XuM6CCGEEEIIXUOM1xBCCCGE0DXEeA0hhBBCCF1DjNcQQgghhNA1xHgNIYQQQghdQ4zXEEIIIYTQNcR4DSGEEEIIXUOM1xBCCCGE0DXEeA0hhBBCCF1DjNcQQgghhNA1xHgNIYQQQghdQ4zXEEIIIYTQNcR4DSGEEEIIXUOM1xBCCCGE0DXEeA0hhBBCCF1DjNcQQgghhNA1xHgNIYQQQghdQ4zXEEIIIYTQNcR4DSGEqZCXX365vPDCC+WZZ54pzz//fM/ZEELofmK8hhDCVMiTTz5Zrr766vK73/2unH322eW5557ruRJCCN3NoBivZvj33XdfOeecc8phhx1Wvv/975cf/ehH5ZhjjinXXHNNefzxx+s9IYQQXh9efPHFasDec8895dFHH40GhxCmGgbFeH3kkUfKddddVy644IJqrF577bX188orr6wG7S233FJFNIQQQgghhNfCoBivDNdLLrmkPPXUU2XEiBHlxz/+cTnwwAPLdtttV5erzjvvvHLnnXf23F3KSy+9VL0C9mM5fG9eAZ++Oxqd5+I9CCF0A7SqU+f83Y5OHaNr49ND15r+tfvauU7c61xnfJ1hNdp944uzXW+H7yGEMKUw3b+Eql9rcPTo0dUYHTNmTBk6dGjP2X/nuOOOK7fffntZcMEFyw477FBmmWWWKoD3339/OfXUU+vLAiuvvHJZf/316/LVWWedVc4///zqkV1ggQXKJptsUjbYYIOy6KKLlksvvbTceOONZaaZZirbbLNNmXHGGctVV11VLr/88jL77LO/ct90003XE3sIIbw+jBw5sowdO7Zq4pAhQ3rOvhraxyCkZSbvF198cZltttnKCiusUOaee+6qge9617vK4osvXp544okybty4cvrpp5c77rij3rfeeuuVTTfdtOrcAw88UP7yl7+U+eefvzoHOApuu+22stRSS5UNN9ywvPWtb626yLj0PG0999xzq8FJWxdaaKHqOHjLW95Stt566zLzzDPXbQQXXXRRTRsNFg9d3WyzzWo8VtCuv/76+qKX7WDzzjtv1X9pCiGEyQ1NHDZsWBk1alQZPnx4z9lXMyieV4LsZYAbbrihbhd46KGHqpgSPQK71lprVRG1veAf//hHufXWW8s888xT1l133SqcxPjCCy+s4kyIfTJgnSfIhPTmm28uc801VzVqQwhhSoUW0isTbpq3xhprlDXXXLMau87bTsVoZRheccUV1eCkbe5jlN500031Rau77767GpCecR+jd/nlly9vfvObq3FKF90rvnvvvbdO8j232GKL1bCWWGKJGo974VMYjFZazbilwbSZQWuLl/sffPDBGrY455hjjqrRtDyEEKYUBsV4XXbZZct8881XvQQ8qrYJ2EbASCV6q666ahVAYk04ifhWW21VPvrRj1YPRPOuPvzww9UbQcCnn376GhYvwl133VWN3Te96U3VUI7XNYQwJcLryuBk+NG75ZZbruy7775lzz33rJP4WWedtRqbDEkTc8YmA3eLLbYoe++9d9lll12qIdsm721hzP1LLrlk2XnnnctHPvKRasA2h4H4aK1nrHq550Mf+lB5+9vfXj2pzUP87LPPVi1lVAvXtq799tuvbL/99tVpwIFAg3mNwVHAs7v55puXlVZaqZ4LIYQpgUExXhmbBJBoWqLi6v3sZz9bvvvd71ZDliB6YYt3gOHJe0AMiSpBXmSRRaoBS+xdX2211eo9tiMcffTR9VkCykDub6kuhBDeaKw48V6ajPNomnCbeFuu5wmldwxHxqitVjyh2267bVlmmWXKnHPOWY1NS/xWn3hD2++z8qRaumfY2lrgfp5Tmsp4ZZQyTtt2A/eId/XVV69/w308qsKwjYvGMlDp98ILL1yefvrpumrmPmnfaKONqvEtnKx4hRCmJAbFeGVw8ogS2N13371885vfLPvvv3/dR2Uv1xlnnFGXvogjj4Sf0eI92GuvvernL3/5y3recpVZP28tcebRJfhLL710FX3e2BBCmFJhmDJg6RgvKE9rg062VSP3MGAt+//whz8sn/zkJ6t39uMf/3g56KCD6n5ZPzHYvKC0r1P/+goL4mz3ue7vdp+0Cc+q2MEHH/yKR/hjH/tY+fnPf15/JYYx7R7PzTDDDK+KJ4QQphRekzVINC1deSHBXld4KYHRarlpnXXWqXumeBAcxJB3gUG64oor1oMHgLfAywLOm+HzNpj9t+U1nwzftoQWQghTIs1gpHWdhmNvmlHIuOX55AWlh6usskrdh2obgb+FMyFaWJiQRrqP59X2rKbB4uFl5QG2X5aXuN0bQghTIq/JeCWUDEt7U9tLAL6D0coYtewExqdzjNsdd9yxehi+9KUvVQ8tr8Ouu+5atxIQTi8qtLCIt720vAK+x4ANIUypMPhsbbISZQLe9pCa6FvWd7T7eEkZrn5VhfeTFjo+9alPlfe+9731Ja9mSI4PRnLzuPqFF/Ga9HMCdL6w5bq9rQzld7zjHfWXZDo12Fu99LptMwghhCmV12S8MiwJnT1WlvzPPPPMamgyMok0IWV0Em4/o2WPFkFlmHq5gKja23XZZZfVN10J/WOPPVa/+0mYnXbaqbznPe+p3lpbD8TR9oCFEMKUBgORJvJm2odq+d8LWTTRC1pewmK42uNPNxmTfnbLC1e0sP1LVy9P+RmrgUzWhdU8pnTSKpewxOuXDdo/iGHg2orlPF22ZYGe2p4gztNOO+1VL2yFEMKUygwj/XBhP9iHevLJJ9d9rDb09wUhJsCW+xmX9rj+9a9/rb+FyAC1RLX22mtXMffCle8MXL8icMIJJ9SfiSGuxNfeViLKuBWepTMvcxFihjAvghcaGLNZ0gohvN7QN0YlTexvSb95OK02maSfcsopr/ymqsm585bprUzRMt8Zq3/7299eMT5ds7Rvgm9bFn10eHkKDGMvuDI0vWvgvHi9wMWJ4CcJGajt1w3a1gSrX7S1/WTW8ccfX1+qZcDSX0d7kYz32LsHA/H+hhDCYEHbjjzyyLoq1d//GHjNxisIYjNgGaIMS94HhqelL/tavb1KBBmwIKiEmUDaSmDvFcOUiLqPiHpOODwLRNjRvBUxXkMIrzcDMV6b/tk+4G/L+DSL1tEy3xmvjFOT+Wbo8rLSUoamnxekmQxSK1eMSN+FCx5TOkkz3c8Ido0GC8s19/vlFtrN4+o776s4WzpoMMPXdXHSZwaxdNBvz7g3hBBeLwZivA7Kf9gKIYRpgYH8hy3GJsPQBJ2ByxAks1ai/Gcrq0t+aYXRGcMwhBBezev2H7ZCCCH8H/b7W7U66aST6l5+hqzDb7/6yUBGK29rf57bEEII4yfGawghDCK8qbYEWKL3wtYBBxxQD39bht94443r0n22PoUQwqQR4zWEEAYRxisj1T5+RmzbmcXj6t+6Os+wDSGEMGnEeA0hhEGER9V+WL8C8IEPfOAVz+s+++xT1l9//fpSVbyuIYQw6cR4DSGEEEIIXUOM1xBCCCGE0DXEeA0hhBBCCF1DjNcQQgghhNA1xHgNIYQQQghdQ4zXEEIIIYTQNcR4DSGEEEIIXUOM1xBCCCGE0DXEeA0hhBBCCF1DjNcQQgghhNA1xHgNIYQQQghdQ4zXEEIIIYTQNcR4DSGEEEIIXUOM1xBCCCGE0DXEeA0hhBBCCF1DjNcQQgghhNA1TPfyv+j5+98YPXp02WuvvcoWW2xR5plnnp6zIYQwbTJu3Lhy7733li233LJMP33m/iGEMNg88sgjZezYseWXv/xlGT58eM/ZVzNB43Xvvfcu2267bZlvvvl6zoYQwrTJRRddVO6+++6y3XbbxXgNIYTJwEMPPVROOumkcvjhh0+68TpixIgyZsyYMnTo0J6zIYQwbTJy5MjqEaCJQ4YM6TkbQghhsLDCNWzYsDJq1Kh+jde4DkIIIYQQQtcQ4zWEEEIIIXQNMV5DCCGEEELXEOM1hBBCCCF0DTFeQwghhBBC1xDjNYQQQgghdA0xXkMIIYQQQtcQ4zWEEEIIIXQNMV5DCCGEEELXEOM1hBBCCCF0DTFeQwghhBBC1xDjNYQQQgghdA0xXkMIIYQQQtcQ4zWEEEIIIXQNMV5DCCGEEELXEOM1hBBCCCF0DTFeQwghhBBC1xDjNYQQQgghdA0xXkMIIYQQQtcQ4zWEEEIIIXQNMV5DCCGEEELXMKjG68svv1yee+65Mm7cuHLppZeWe+65p7z44os9V0MIIYQQQnhtDKrx+sILL5THHnusnHDCCeUPf/hDufzyy6sxG0IIIYQQwmAwqMbrs88+W26++eZy3333ldtvv71cffXV5cknn4z3NYQQQgghDArTvWytvx9Gjx5dRowYUcaMGVOGDh3ac7ZvXnrppbpN4MQTTyyPPPJI9cDONNNMZeeddy7LLLNMmWOOOep9orv//vurYXvRRReVp556qiyyyCJl3nnnrX+vueaaZamllqr3P/HEE+WCCy4o1113XXn44YfL3HPPXdZff/2y4oorlvnmm6+GF0IIrxcjR44sY8eOrZo4ZMiQnrOvhsaZsN9www3liiuuKNdee239TgfXWGONenjWShXNtMXKPTR0gQUWKEsuuWSd9C+99NL13hlmmKHceuut5corryxXXXVVeeaZZ8pyyy1Xr62++uplxhlnLNNNN11P7CGE0N3Yejps2LAyatSoMnz48J6zr2bQPK/PP/98NVoJNpFebbXVqvHKE8uQBVEnvAT4wgsvrNcYsnfffXfdYnD88cfX5x9//PHy0EMPlfPPP7+KP+HmzXX/xRdfXO+xHWE8dncIIbwhMErvuOOOctlll1Wto3H0i/F5ySWXlLvuuqvqV5vE0zkrVQ888EB97rzzzitnn312uemmm+pq1r333lufo5GMXc8Jl8C7n/aGEMK0xKAZr08//XQ1OHkMFl544bLKKquUxRZbrFxzzTX1PK8C7wOB5k1l6O61117l29/+dvnABz5QFl988SrERJ1g33LLLeXoo48us88+e9l9993LAQccUHbbbbcq3jy2jz76aIzXEMIUhwk6w5JButJKK1Xt+s53vlPWWmutOlE3AbeqdOONN1aDlBd2v/32q17dXXfdtWooAxj+Zrh6Zv755y9f+tKXyoEHHljWXnvtqoW0lPaGEMK0xKAZrzwLPKQLLbRQXdK3FYDxSsB5DmwJ4CFglFoGW3bZZcvyyy9fZplllirKtgowegk5T+2DDz5Yl8N4cF2bddZZ6zMLLrhgNVoZwdlLG0KY0qBV6623XjVEt9hii/rdYTsA/aKHVpdoo8+3vvWt9TwttH1q1VVXrdumTPhdZwjTvnXWWadeF9bKK69c9ZIBzBCOFoYQpiUGxXjlLSXEjFcG6TzzzFP3pzJkGaCWuRibjE6eBAaq6wSaIes74Z555pnr3i1eB55V2wOOPfbY8uMf/7gcdNBB5Sc/+Uk566yzym233Vb3wBL3EEKYkph++unripEVp9NPP7388Ic/LN/97nfL73//+7oNysoSjTOZp3eMUNrnOVroWbpIL91jMs/7eswxx9RweHF/+9vflnPPPbc6DXheo4UhhGmJQTFeiSuPqv1bPKb2etnHZcsAI9TeLcYt7wCxZtCO7yUDou1e3lqGqhe2HLwMRN5LDbwPxD6EEKYk2mTevtT2wpaDltHDRpu4T+iFK3poss450MKyZcBz3i+giSGEMC0xKNZfe5nK/quf/vSn5TOf+Uz5yEc+Ur7yla+UM844o57nReVFILTEmMAzUP3daH8zSnlv/bLAV7/61XLooYeWX/3qV/U44ogjymc/+9m6f4zwhxDClAINs9Tv1wisNtkSwPN62GGHlf/8z/8sW265Zb2PxjE+ffLENs+p5zs1sd33zne+s+6d7dRB4X7yk5+s2xGihSGEaYnXZLwSWaJ7/fXX1y0Ae++9dxXWo446qh7+9lMHXt6yhOYlrUUXXbSKNS8qg9bLDby1vAr2gjFwhcV4dY33lhfDMpu9Xd7E9fICD0aWykIIUxI00aScdjE6bYfiVWXQmuDTOd+dt13AL7Kcdtpp1QHgGRrJY+t+histpJ9Wtvykluu08M4776zf288Ndhq8IYQwtfOajFcibcuAbQGW8TfZZJPqLW3HBhtsUM95uYBgE2B7Xb2By1Pgp7F4Vf02LAOYMUqEhbXEEkuUTTfdtO6Xdd/PfvazcuSRR1ZjlvE7oaW2EEJ4vaFJ9MvvrzIyrTwdcsgh5bjjjquGK41zHpb8/Wa1ib29/Sb7J598cp3Mt/2w9r/6ZQGTftsOaCAt9F8MTf7pqPuihSGEaYnXZLwSYobkbLPNVpeuvKxlH1fD33POOWcVckJtqwAxtuTPoLVvixeVUUvQ3WtbgcMvFWy99db1lwj8LiKPq5+V4anwZq4BIoIdQpiSaAbnuuuuWz2rJt9erGJoOr/CCivUX2JhdPp5QP/8hTY2zyoDlZ7SQBN0fzNwGbAm/n4rVnhWo1w3yaeJIYQwLfGa/8NWWyYj2pa5+jIom0cVDFr3tyV/5y2XEW5eBb/56r9s+bkt19zXnm9x9BdPCCFMTgbyH7bQl3a1AzQM7bpP1+yTPfPMM+u2AJprj6zznWFFC0MIUzOvy3/YIpw8AIzS/kSUwLbr9qqeeuqp5ZRTTqn7t5zjgeV5cJ89Xu3tWdc8Z5DgXfA5vnhCCGFKoC/tajrZNMxWKftdbS2wx9XKlL2vfqnFypJVp6Z1tNHz0cIQQhgE43ViIbg8B5a97APjbT3ppJPq8po9su03D0MIYWqGAWpvqxe07Hn1261+F9Z5W7Dscw0hhPDvvK7GK++BfV/enrVv1ZuyDFcvYdnPtc0229T9YDwMIYQwNcM4ZaTSO3v6rUhZgfLfudZYY436T15CCCH8O695z+ukYM8rj4NlMvu4GLW8DTyulsGyFBZCmBIZ6J7XgUB6mxY6aKGVqbYtgC6GEMK0xuuy53VSINB+53Cuueaqv+fq0x4vYh3DNYQwLUDreF1pX9PC9osrMVxDCKF/opAhhBBCCKFriPEaQgghhBC6hhivIYQQQgiha4jxGkIIIYQQuoYYryGEEEIIoWuI8RpCCCGEELqGGK8hhBBCCKFriPEaQgghhBC6hhivIYQQQgiha4jxGkIIIYQQuoYYryGEEEIIoWuI8RpCCCGEELqGGK8hhBBCCKFriPEaQgghhBC6hhivIYQQQgiha5ju5X/R8/e/MXr06LLvvvuWvfbaqyy88MI9Z0MIYdrktNNOKzfddFPVxOmnz9w/hBAGm3vvvbf88pe/LIceemgZPnx4z9lXM0HjdY899iirrrpqmW222XrOhhDCtMkdd9xRHnvssaqJ0003Xc/ZEEIIg8VTTz1Vrr766vLrX/960o3XT33qU+XEE08sq6++es/ZEEKYNjnggAPKP//5z6qJQ4YM6TkbQghhsLjyyivL9ttvX374wx9OuvE6YsSIMmbMmDJ06NCesyGEMG0ycuTIMnbs2KqJMV5DCGHwGTduXBk2bFgZNWpUv8ZrNm2FEEIIIYSuIcZrCCGEEELoGmK8hhBCCCGEriHGawghhBBC6BpivIYQQgghhK4hxmsIIYQQQugaYryGEEIIIYSuIcZrCCGEEELoGmK8hhBCCCGEriHGawghhBBC6BpivIYQQgghhK4hxmsIIYQQQugaYryGEEIIIYSuIcZrCCGEEELoGmK8hhBCCCGEriHGawghhBBC6BpivIYQQgghhK4hxmsIIYQQQugaBsV4ffrpp8tjjz1WHn/88fLyyy/3nO1+Hn744XLmmWeWQw45pNx5553l+eef77ny/3nhhRdqvh955JHyzDPP9JwNIYSJ56mnnirXXnttOeaYY6r29KU5r5Xbb7+9/P3vf69x0O2XXnqp58rUzYsvvlhuueWW8vOf/7ycc8455f777++58v8xftF02v/oo49OVePZ682tt95axowZU37/+9+Xe+65p+dsCIPDoBivGukll1xSrrjiitrxp5YO/9xzz5X77ruvDiYGlb5E/oknnihXXXVVufDCC8sdd9wRsQthGoaB9OCDD9ZB++qrr64T2wZj6Morryx/+ctfqq7QStCM66+/vlx88cX1GRPhm2++udx7771VcyZVUxi+Dz30UDWChUvPQMvuuuuuGod7phXNUpb0+pprrqmGa1/OBvWnzM4///xy6aWX9qv74f+jfJSn8mIHNBtAWd999921nXFwTY3cdNNNNc833njjK/0rvD4MivGqsxNDYqvzT0s8++yzdVbJcDXoxHgNYdqF/vHanXzyyeWyyy6r2tigj2eddVY58sgjqweQdsAzBsBzzz23GrGDZSwxTB944IFqSDMsWnyhf5Q9g5V32mobgySaPn6UmTFQ+3VMSxMiEyFefJPD9K/Xl0ExXtdff/2y8847l+22267MPPPMZbrppuu5MvWz4IILlm233bYMHz68vPnNby7TT59txCFMq8w444xlzjnnLIsuumgdxC3LN3hbeWhuu+22Otg3r14zMmeYYYay8MILR0PeQGaaaaay1FJLlQ9+8INll112KfPMM0+tlxDClMV0/5oh9TtFGj16dBkxYkSduQ8dOrTn7L9jKczywJAhQ8rGG29clw2I9AUXXFDGjRtXBXrppZcu6623XjXwZptttgkauE8++WTdjmDJq7nkl1xyybLZZpuVlVZaqd7jmtmOJQlLdVz4c889d1l11VXLmmuuWb0Y0mZJY7755itbbrllWXnllcu8885bnzeYXH755XXJ30x7/vnnL2ussUbZYIMNyuKLL17D5CkRz0c/+tEaP6+KZ1xbffXVyyKLLFLT5/zyyy9fFlhggfoMwZMug9QNN9xQjdy11lqrhi0tBiieWtfGjh1b0zL77LOXFVZYoQ54PoUvHSGEKYORI0fW/koT6V1f6Nc8r7YJ6Md0h4HqHG2wnGrCv9FGG5Vlllmm3n/44YdXw5VG0r5TTz21GlL6Pw8uhLXhhhtW/XPNfVZ86BMdobvCEx9Zp70nnnhi1TYG9dprr13e9773VV0S5nXXXVfjo5P0jKG26aabVv2kYzzCdImOu5+W0UAaRsfdLz/NEGeA00NjRe/xgk4z2nnm2naKJZZYopaBe+eaa66aF1vPjCXip7PKinYaV4wZtNY9ylMa1llnnarp9FR5yMvZZ59dxwIarDykV5lxrNgCdthhh9UyosfCtmroGWOHMhKWbQOzzjprfVbZGEfUk3LkJbflQPo32WSTsuKKK5Y55pijnlNe//jHP2rZyrNrwqP5yy67bNX03u1Gvcn7eeedV+ORj4UWWqjG/aY3vanmw1h4xhlnlLe//e11LBWGMhCXehKP9ApDPUiPMlC/xjvhKmNlazx2Xj1ro9qJ/KtD7U25aGfiUF7q3mRMGqVDOWiL6k48F110Ue0TVhM8Y+zlzJI+5SDOd73rXTVfPJXGSenVfsSpPIUpDnF32gbasfHQPeKxBUE9KUd1pV7lX/60F9fkWz1pG+7TV9DKWfsxXrvXVh39YbHFFqttX7o8q+7UZdtyo5zUiXboHuk6/vjja3u2oiIsbWGLLbao5WoSGyYdbXLYsGFl1KhR1THYF4MyxddZNCripGMQS43UsosOozFoLDqWxq/Bjg8NR4M//fTT63OMXWFYgtNACbUwNFIdS3yzzDJL7aTEzhLZKaecUkXHeUYhsXSv+IXvPqJsv6pGzXAlEsLSkeWpcw+LxsoI1pk1fvnUQIWlQxBV6dMRCCjxUyY6s3TpnDqyQ7juc13n0DkJj0N+nZMuaQwhdBcGS4aNfk5HaAT90Z/pGMO1veTpmoHRQK//00uDNy0xeNI5g7xz9JWu0AuGAP345z//+YrOed7fBmT66RyjyXnx0iFpY0xJC6OT3jDq3CsdBmN6Jl5poEV0FjSSbjUNlGZporcGGxpJ73oP3O6TLroqzqbVyoDOOdwjX4wQRor4GUbS65kTTjihxiF+5SEMOisdypHhKBxGjrjkl+67Jg8Mq956quwZrgxA9aSMHeIWtvJ1jzCkyXjhb+mSR+kStvjcZ3wQlvJTxtKpTIxZ0qU+GVqduO5++VbO8ssQUh6eMdYJ16Fe1YkwPOdTGj2nHuVPXO5jULW6kGZjn/A8Lw5jnfS4XxkqT/EKQzkap9SHeD0r/+pLmbay1w6Epzw865qxWt32tQKrjrRL4Umv9IvPd/WgDDsxxmrnyp0BqV5MasRvnOZ0Ep42Ib/CkXdhymPvdig8bVw5sEWkQdqVk+dNDuRXPNJjgsqGEY669HwrL3FqY56Xb/3WId/h9WGyrE8x5DQuDW2//fYrn/70p+usRifS4TXI8aGR69Aak1n1PvvsUz3Ab33rW2sHco3BqQMbIMzYdt111/KFL3yhbLPNNvW8mSAvwW677VY+/vGPl7e97W1VaHV2jVvjtFeFSOy0007lq1/9atlzzz3r7KoZnhoxhCdNOiujnDDJj1mfht8XOoZZvRnnl7/85TojEw4BboJIIAiFa5/4xCdqPnl+xdXiDiF0FwY7mmSw08/pjUFRv6eJvGl0i3HgGsOJjhgIDf6gH3SGJ4p+fuhDH6p6ZvB0TXgGdFrF0/WRj3ykai3DmKbQD14i53jwdthhh7L33ntXrxdj1nVaysh+//vfX1eW6BBjib6Kg14yjg3OPLZf+cpXyjve8Y6aD4aDAVwe5UW6d9xxx7LVVltVr1wnrjOUGMa8y7vvvnv54he/WL2INJFh2fSc9jF6eGPp4Yc//OHqYWMUShOPobFAvpSXZ5sRLk2+8xq6h6b6m6HFOFRm4gDDSZqcZ8zw0L3lLW+p9aPce6OupHGVVVYp//Ef/1HT5hnGknBcN+YxeNSTbQfqjfeIsdWXnkuLdKhHY4vxYq+99iqf/exna1kqX2HK20BR1tof76A0KC/lBHH5bjvEaqutVutXW5Ff5fy5z32ueqTVgbJklLc0yp962HfffWu5at/yLb6tt966jrPqfvPNNy8f+9jHqvdRu2lIE6+8smnGtni0QXlk/PJ+dhq8bdLDieVe7cU4rfyFo8zUnz6EllZ52H777avt0Nf4LE5hKyP5Vpf6kDzLkzj1A6sf4tljjz3K/vvvX9797nfXuMSp3esT4lHHbAjlyibobTSHycNkMV7NPnT01hBUJgHV6HQAs5jxYVbo0BgJu4ZOACxTvPe9763ueY1SQ7csRJDNesy2iLGOSUD9bXZErHU2nVS6NECCpsMQI/dKo86j01ne0XibaGjoOorZp07EICXC42ukBigCTAylVZg8F8Ik/oxn6bC/SicyWyUy8iMdnR0/hNA90C79Wb+nFzTQZBh0SP92D+PENcYiTaQVNAzLLbdc1RDa4JyBv2mOyb9nfNIueudZeka/hG2AZnD0B0PJgE2jpFX8tIgRSu9oN+NGvDTSUrW4aa37GWPS7l7PMYp80uHeukh32zn65znabVnXgM8oaXouH/IkProtrrbMzBhRBu6VV9eMNcqBAUtXXV933XWrfrpHWIx4estL14xX5cNYcXhnoZVDfzBi1IeyVkbSqR6lRT0ap+QL6k49qzfOEOVC+3sjLZ6Vdn8b36RB+MYL44z6VKYDpeVZ2Uqj8lH+0qmO1GUbfzlPhG08lT5lZvxhgGmvJl6MQefdI03GKGOqcNSpewaKeLUnz/CA+uS51UdafXaibFqdibu1basJ6kubMPEQjnukSzq1F3G1NtUbWyPUpcmHvLW6VF/Soq2oT3G6xzVtUb36rn6UnbYf3jgmi/FKZBipOsSf//zn8oMf/KC+Ycsg1Mg0wPHBUNVQGKqMTUtG3/ve98qvf/3r2qnMetrsWAfSSH3XUP2tw2qIrrXz4vQpfh1SI3WPhuh+19yvc+rQOgQxdBBys2Pi1O7x2VfHaLQ0tHily9/ilgYzVohLx+i8r6U7hNB96Lt0xQCqXxuAeQT1c0YZ/XCN0cUL5ZrB27mmKTSgaUj7Liw0b6dweSQPPPDA6hn60pe+VL7zne9UD2dbTu0PYQm7GTeONtjTJ7rLwLMlwB5RYX/+858v3/jGN8pxxx1X0+w6PROOvDXd6q2LrjPm3vnOd9Zy4Z2UTvt8ebGE0fROujo1sDOdDufR0iwu5cGQ8Ld7jB/tunQx1JWF8hYXOCPkwXMMGHG4vz8660M80uVcZ3lJh7AcrSxbfvoK23PSpRzVp7S2PCknRi+jeWKM11ZerQyEBZ/Cb/UtrcY2nuNDDz20th+eV23pj3/8Y10ub+XlWeG1fDj8DeEMFPGzCbR/46s4GK/Ote0tnbR6Vc7il3bII0PV0Ty47pUu5dbqsuW9N60uHe7prMsWp/oUljS1a8LVR30Xb2tL4Y1hslhIZjIMWLObJsgMQHtSzOZ1ivGhMWnQlnHMIs3IdHTLPpbdbUvQuJzrjbgcrxUNU/iOlp42O2OE6zB9xT9QdC7htk42GGkOIbzx6Mt0gmb421Yj3hyDIc+ga4w5hgsPDs8bA8VgPDEIm340DaEn4vAik8l/b2NgYmlhdmoUo4Vni7ZLr+vt3v7wvPzxBvLYGR/cz3CxbK18JreeM0o6w1cHPHBW50wgpOW1etKURTPwXmuahcFga8bTxNDKrHca+kqTeDrrV/tRJrzX2q9rg4WyMUkzgWP8qXeTLEY647UZxANFfbZxutFXHgcbbSmG6xvPoBuvGpLlcA3RspQ9MmZ0fiXA3hYzbUIxPghZ83rasyQMe5jsZeF55Q0Yn1dhQjRhMNu1/CUe6RavtJsVmh3Kg9mZpQ77WixJmFW3jd3un1TET5TEzxBu4t1mfTpICKE7oTGMNH3a0ibvGsOAEecajxrdYTjRHOdpzkChTSbTNLF5XL/73e/Wz69//et1bypDGdLQjoHCEJOets/xv//7v+vq10EHHVS++c1v1n2CjBA6NiEM9PJK5xi9bQ+h5Xpay1NMBydV8xgsykP+xGNsEJbD3xwnjFVpbcaNscl2BXuK1U/bJjYxZdSJ+Ok57ZZPOi4sefd3X8aOtDBOTQKkr6W75cPStfIxTrnXeeE3g83f/YU9IdSvsY2Rajsfj2trP1/72tdq/Y7vnY6+kCZHf2j32pSld6uY9m97gdpEi5OrN+5XLq1MlQnkV3+yLUa/cc9gGq3qsY3NjlaXPlt9qDPpQ8v3+PIeBp/JYrx6EcpSv83+zcvaKnogaJgEhVha1vBd4xysBmoQ0THtuzH7I1w6CJGznGRA4Tk2G2zxOuyBsSdIp7H/1b6zScXARkwZ47wvhNMg5jsvzYS80yGEKRt9nNbQFatHDsYKLeHVopU0iDYaDAdiCDYshbvf3n1bmjgEDO7i8rIqXesc7A28NG6gAywjg2eSFtFEjgfhtLe1aXwztiYEA0AYP/vZz+rb+QyApqmDAUODoc4Y89a4faz007hBy/2cF2+i/DRPsTJn+LSf0lKGxhqGyaQYIcqLAcbIoufKTVjqw2pj2w/bifxrD5wj0uXlO+UrDKuLv/rVr+oYqm7VtfoUru/uYfgZu8QxMTSjkAddfOpS+qS3rW6aUDg3MWWhjUnX+NqZfDBWtZ32Mpq2rJ/0ppWNclKPvPTaoPbDCabtm1zpVxNjX0wIfVPfbXHyDsuX9PqlAe3Z3udm2EvTQPtCGDwG3XjV0AiCzmybwPe///06W9cJCQyjsPfG7N5otO61ZUDH+uEPf1gNWaJMhLyRPzFC3xsd17KdDfIa4J/+9KfqrbC3yxIeb6+OLQ8N+dLBLHGYrRM7A4SONClYPmFA80Qom5/85CflkEMOqUaxjjBYwh5CeGNgkDKQGFV0i3FjkNW3XTNA0jmH7xPj5aKhBlCeM0bXwQcfXL1mv/3tb6vRJk4aKU6TcF4u7x2YHNOXCUHr6LhfVRHe7373u/obtz//+c+r9glfegeiU+5loDBaGB3S+q1vfaucdNJJNd+2E9D8STVAPCccLyRxMPgZJO9ZGDeMH8YcY4aXpzrT6znl4zl5YWQyshlfE4s88qbz5trL+Zvf/KaOWZw4jMu+8iYtjFb1aCxgeBuDjJl+Q7SFyYDjZffimTHVJEDe/PSYunTfxCJeHlAvQTFajT3f/va3yxFHHFHjmBiPpnvaxIxBLSzlyMjrjYkG41BdGIMdnhVXb9SJe/0KhrD/9re/1XFa+1FX0m78lNbBRFtie/j1BAarSYSVB7977xqD2URIXtSNurX33F5wBjVjNkx+ZviXII3s+fvfMMvww9p+2oTA9odG2hqlpSSGmc7BQ2mmaMZIqO3F0knN7ogYETRzbIfZppmYhkxwCYulE4dOKnxCQ4w0ZrNr4WpA7kdbRtHw3WeZH212RAwMJM5Lp9kScZEmYu8NRnttdSqdUseWNx2FMStez0mTuKVJXom9Bq0jKQ/lJV3yAOFIg/vEIX6HzkC0GMHSImzpYTzbH9byFUJ44/GzPV70oYn6/figH/TI4GbCSx/oRzNaGEk0wITYYOlvGuC8TwZL8xb6zvvjWbpGd2iLgb9pJD0Uhjex6RxtoYP0lyYJl/4ydqSJnrVfM4DrwmBkirsZvnSzaaRnGYjNCUHjxUPvehuHDfpJW93nfmH5FHb7xQO62bRbuPRPGnnwaKc0SDsjWBqcFwa9lFdhOVzjMRSHMqPBnBStfIWlLHyXXmlyNCPQ3+J3n+vGM3E56L3vrd6Vq/uMDa55VvqMYdJgJc05ZdryJK3Ko6G81IO4pYvzxKd8MZIYtvKljtp4aKxQTupIvMLVhoQjTdKgjlo8zilb9er+1gbbeKacGJ1t0mN8VCfSLn8QnjbnuvtbeYlLG23tzCHf2pWxThrEI27lD+VnEqV+pV35Cas30tgMWPlVpspHmOrPpEe6hKfMfJpwtfLqjTpsbUyY7vVMa2P6l/JW78pam+aZVubamvSbLJoIiUP6Pe9Z3nD5VBbK2LUw6ei/R/5rsu2nT7XFvhiU/7A1UDR6DZt3wKzbrKYTDYFx6r9z2CPbVwOcWmgdyaHjtk6gc/7iF7+oHdp+NgIVQpgyGMh/2ArTJox/BpBxi4FF4xl5vLDGPu9MdC43T4soE+V07LHH1rJiDJqUTM1jfZh4bF15Xf7D1kAxGzF78dt+lkaOOuqoVx1+CstGfj+0PbV3cEa8LQKWJHiczc7N3ryMZhZpRmwmF0IIYcqGE4JH3s9/+Y9QvHUMV8vI3o1wvXnrpmV4ZjmteNaUBc84x00IE8vr3pM0VG55ywr23PQ+uPItmfS1/DQ1wThnnPrkhbaPyX4jMw5ebrNRBmwIIYQpG4YYvWaM2TPKEfOjH/2onHjiiXUZuXOpeVqF0eq/Vh1zzDF13LNlwHaRad2gD5NGWs0bhD1g9hbZ89Vmo/aUMdy9MGaP0LS8vBRCCN0Cp4x9lH65wF5PWm4fqSVy73rQeauOU7tTZnzwRFtdtH/UntW233paLpMw6byue15DCKGbyZ7XEEKYvExxe15DCCGEEEJ4LcR4DSGEEEIIXUOM1xBCCCGE0DXEeA0hhBBCCF1DjNcQQgghhNA1xHgNIYQQQghdQ4zXEEIIIYTQNcR4DSGEEEIIXUOM1xBCCCGE0DXEeA0hhBBCCF1DjNcQQgghhNA1xHgNIYQQQghdQ4zXEEIIIYTQNcR4DSGEEEIIXUOM1xBCCCGE0DXEeA0hhBBCCF3DdC//i56//43Ro0eXvffeu+y0005lgQUW6DkbQgjTJuedd1654447qibOMMMMPWdDCCEMFg888ED585//XA4//PAyfPjwnrOvZoLG65577lk23njjMtdcc/WcDSGEaZNrrrmm3H///VUTp58+C1chhDDYPPbYY+Wss84qRxxxxKQbryNGjChjxowpQ4cO7TkbQgjTJiNHjixjx46tmjhkyJCesyGEEAaLcePGlWHDhpVRo0b1a7zGdRBCCCGEELqGGK8hhBBCCKFriPEaQgghhBC6hhivIYQQQgiha4jxGkIIIYQQuoYYryGEEEIIoWuI8RpCCCGEELqGGK8hhBBCCKFriPEaQgghhBC6hhivIYQQQgiha4jxGkIIIYQQuoYYryGEEEIIoWuI8RpCCCGEELqGGK8hhBBCCKFriPEaQgghhBC6hhivIYQQQgiha4jxGkIIIYQQuoYYryGEEEIIoWt4Q4zXl156qR4hhDCt8/LLL1c99BmmTNTPc889V5588sny4osvDnpdCf/ZZ58tTz/9dHnhhRd6zk6ZSOtTTz1V06ssQngjeF2NVx1ex3zkkUfqEQM2hDAt0zTxwQcfLI8//ngM2CkU49XZZ59dfvKTn5Rbb721PP/88z1XBof77ruvjB07thx77LHl2muv7Tk75cFYfeihh8pRRx1VTj311HLnnXf2XAnh9WW6f4llv2o5evToMmLEiDJmzJgydOjQnrN9YxamA1566aXltttuK0888USZZZZZynLLLVdWX331sthii5UhQ4aUBx54oFxwwQX1mbe+9a1l9tlnLzPMMEP9PjmRzRtvvLFcfPHF5frrr+85+y/rffrpy6yzzloWX3zxmscll1yypmlyYcZ6ySWXlCuvvLLcf//99Zz8L7TQQrWsVltttTLffPOVGWecsV4LIUw5jBw5shoZNJGejQ9eNFp4+eWXlzvuuKN67uaee+6y/PLLlzXWWKPMP//8dQJPB84666yqkeuss85k1Z+JQXppFRZeeOGyzDLL1L8ZcvJDTzfYYIOy4IILvi4a/kZibDv33HNrvf/Hf/xHrcOZZ5655+pr5/bbb69t4J577imbbLJJWXfddXuuTFkwXpXFYYcdVser9ddfv6y44oo9V0MYHMaNG1eGDRtWRo0aVYYPH95z9tUMiufVLJSYMQwJNePwpptuqp+XXXbZKwaths/L8Mwzz9Tj9fS8iksazjnnnHLaaaeVG264oabx5ptvrn9L90UXXVTPyc/k8oAY0JTJP/7xj3LeeefV+FsaVBiBJGAmAyGE7oN2MPwYd4y/K664ov5NW3jV6CENuPfee1/RxLYMOyWtRsmDtDvuuuuunrOleojlh4bxGGcFLYTwejMoxisx40395z//WVZdddXyhS98oS6vfO1rXysrr7xyFWpLLkR6kUUWKTvttFM9eCHM2Im9a8TbQTQZkD6JezMkiaTz7mH89r4+EJZYYonyzne+s6bv0EMPLYccckj5+te/Xj0IjEfpbMt34uudLvE1/C097mlpHqiQr7nmmnUGbwb7s5/9rHzkIx8p8847b/nd735XB7eHH364587/y3dLR8u379LYyq59b7Sy8jkx5RNCeG3QBd7J008/vVxzzTVl4403Lt/+9rfLj3/84/Lxj3+8eipNoOmNlR8ezQ9+8INlyy23LHPOOWcNo68+rz939mlH6+e9Nar1eZ/tuXZfu+7wt2fa8+IUZqe2OdrznX933tPia+daeP4WXsN97ndNvlqc7fm+cG18+WxhtrR15qfF71o737uM4G/nXGvp6p32TjrjdZ9nGxMqA/TOz/jiQl957D0WNPzdX/id6e4Mq3cYjRaWe1pY7d7e97d8d5ZfKxefnussJ8+3Z8aX9xD6YlC2DVx44YXV68p78J73vKcuh80000y1AfMiHnPMMdVI3WGHHepWAh5HbLvttnXJ3j28nn/729/KY489Vg1MS2gGAMJvKX2OOeaos32if9VVV9W4iP7b3/728qY3vanMM888Ncz+0El4CnhCLPftvffeNW6Dh3TygsivwWPHHXesy2Q8x9LKWys+hvlGG21U3vKWt5Tpppuunr/66qvLXHPNVbcBSPeGG25Y1lprrXq9L3gqjj766LqtwtLhdtttVzsxceCZOeOMM+o18Vg6kj75ZlSff/75dclm6aWXruViycazf//73+tS49ve9rZqAMsrb8mZZ55ZjfIVVlihbkUIIbw2BrJtwEs9NJHW6HfveMc7Xpmo69tWgH79619XXbNETCv1Yf1av6dLtECfd9BE2kMD4Rl92taiW265pT7LSLaqQzfFJ2yaQC9OOumkalC4n+d3l112qXrOYKBv4rB3Ufi2cr35zW+u27vsv+R4oE20jZa4h9aZYEvXSiutVDVsq622qhos33SR/oAe0kvx0UTL47SeFtNchvzaa69dtt5661fGjd4oTxqozOmtfC677LJV+4WrXO2/dJ9rtmHIpzKnscrUmCHN8ikeZeRZ8aONQTTTSph6k67NN9+8LLXUUnUs6tw2IH4OBk4b+RCWcpOWNmaIE+J3qBN6Lo3qq01glBvddk2bslzae9uAOMStLqRFeqWztRn11sLgfNEujKfKwXhgaV+epfvRRx+tbVhY9q8yHm2XM34suuiiPTH+H+41Dp544ol1dVX9u1f61a14tUXjo/LVlrR7bU2ZtHGKY0u92B6n/cpnqydl4Jw2nu1yAdrEhLYNzPAvMR7Z8/e/QYBOPvnksvvuu1djrj80Vo2cV5XhZi8QodKRCLHv9pS6rsMwdJvx5jvBExfDkUFKUAijBm9vke86JJFmrAlHJ/M3wRKX7+Lrz2h0r432Oj2BIUxt8GnGqwKTXh2deDMWnSfc0m/mSHgIrIGBONluIK0EkTDo2ESkv3R4nvjLt44sLvfqtNJFaAj0AgssUPOkXIkco9f9ysd9BiNhKQuioTyVk7gJiTCIcRNok4YQwmuDN5VhQBP1w77Q//Q9fVl/teffva2fzzbbbFVnXGO46Mf2OzrvHD0SD0NPf6aB7mN40RyrWQwz32kkbaMNNFo8jAJhuYc2MV4ZPDSKXniewdL0i+7SN5Pwu+++u+p1023Pi5tO0XZxyIe80UOGCeeBuBgiwqNtDD5pol/icp2xTFMZ5oxDWimdtIwRJWzfO7VTWSgHhhh6az/NFzYjsm1No8PCFx/jnZFHr5WlvAjfeCKPdFY4yrHdxyD0vLiVsXQJy9gh7QxL16677ro6ZpgwqDd1axxj8CsbZUB7lYF0iV/+GIOeU9bicihrafWpvoXZifJhPEuPe8QnXW1M8ukZZc2wlB/5VAfSoLykQ/4660GahWWMcyiThjwKS7wtfHXmHnWtzUgrg5YN4Jy6VP7ilS4GvjozfjF+tU1GqrHXd2OX/tLGefUZgr5w5JFHlm222abaMH3xmlqKDqEj6Fg+dc7OxudvRpMZmhkYoegU/CYuOrNGbzmfR9RMXocmnDoNMWRMMnoJl/v22muvstlmm9WOrFMKayDoKDoNsTNDdujIwtbZCTyIsPvEt9tuu5V99923Grw6pI7KWJR/edSZzRKkh2B1iu/EwChuoklQpdWnciAI733ve8t+++1XlxfFQSiJABEjQkReeREMzzRx7hSkEMLkgyYwIOiVvskg7NQD+sdY5OWiJzSzE1pnfylDgFGw66671i1FW2yxRR3cm+7o5/7WzxlT73//+8uHPvShqkF0gIFNq+BecRoE3ve+91VDgRHBcKBftIue2srlO6OKZrzrXe+q2s0r5h6eTp42A4q/GcFW09Zbb70aR/MS2xK15557lj322KMaPIw++aHT9vYzHHk0xUnLvfgjPXSvt44rD9dMBhhL0ihs+VS+vbWfoSR9xhE6KR+cI9JhRc2kw7PCZOzSV+VNS5WrZ3lWrSA2DyMjT5rhHn/Lj3FLuTLgGYDy3lbO1K10qhOGnDJ1vzoRpu8mBLaLqBNhMCw7x8++oPPKfeeddy4f/ehHa7vQvoxf0iVf4mFY8wR/4AMfqG3DxMN57cJY2+A5V7e86iYBnQiPQc/r7bqw3v3ud9dwlWtr18pfezcWawvaq7xrZ/IpTm1X/oz3ykkaGLTahrFNP+hvMhhCX7xm45XgEBCG1sRiNsobCp1fZzYzZcAxXhmOOoQOrWGLj6HsIFw6FJEhhL4PxGgkWJbD9tlnnypkjs9//vPVq8sTTKjFxStBvHRGHUtn1dGJIAEmUNIvrcRQeg1U0vFakEcdu5Wn2TAhsMWCCCoL6SI07iEcDGbpIzLqg4ARyXZfX0txIYTBhyboezRKX5xYPMvIoIMGdX2bwWKC6m+TURqgv/tlAnto6aDzjF065FkGdNMQGrXKKqtUo5JG0QwrSgyOtizuWfrCMPFs5wtaE8L9JsyMMvHQ0ebp9J23kwFI22i0dDFa5JXu0zY6TFt7GzBN+8HYUa70jFFN+5sRC/kwhsijexi7luqdo4UMTc6UFk+bADQjVFppvGeNPTyElsQZcOKFZ9zPmPasyYXw5E36rHjJP297KwPhCJ8+e4ZBJ1/GFvqsvpQ9o3RCK2QMQu1CePKtTtU5z7o6ML4pV+mWBnXf6kGcDEeHvz0rrQx+7cm5Ttq4Li55EJY8ya96U84wRjOiTXZsYZAu+VL+2qXxSPtyTv/Q7oQtvdKt3lpYIQyU12S8EiINt3XAiUWH15iJhc5DpPsyQHVonZYR554//vGP5Utf+lI56KCDqueUIPTueP1BxMzef/7zn9eXpX75y1/Wl7e8ZMZw1UGJO5Gy3PbVr361ehAc+++/f92vSqQYmO6T3v7SPSm0MlUe8u07Y9nv6n3mM5+p6fB5wgkn1DQoQ+Kj/NuAxPNiQCE4ExLDEMLgwSjSdxkM+vHE0jRRv3XQFtCB3gevIY+hfWGf+MQnqrfxc5/73Cvbshq00dGeEwePJqPswAMPLB/72MeqrvA4HnzwwdUjy+tGA907IdzjXuk58sgjy6c//elXNFP4tj0JT354nBnd0njAAQeUb3zjG/WdCJoq39LXiWcYYrRfHv7whz9U7f/Od75TV8/ks+ULnc+3fDfafZ33tPJWzoyudr971B+jSxzKi97SWAYqo8u41cJq4SgDY4p3RVoZfPe7363bQBhszbusnXQ+35mm8dH7Pul2iJ/mqwf6f9xxx5VPfvKT1fPb2oV9xiYl8gFp6Cyf3rTxTTrd6+/+0ql8bH353ve+Vx1D6svfVjWFox4Z6IxZ45ntD8qC7WC1c1L6Spi2ec3Gq8avAcJMSkNt6FA6CpGxb6YJVMPzOp4w+usUcJ2ImEnaX2W2aKmJ2BASe0h1BPFNCDNHM1UvEWy66abVYDWLt6Smc+lkkB7fCafZu4PoWjYjwIzcCaV7YiEAylAapFN+bF2wh8psmeEtHbwDlmGaoPBsOAgXDwfx8qwZbfNKhBAmP/qjPkcf9GdGW6cu0T/nGDOMREZQJ56niT7Hpy2MJH3d5N39NM1klTbQY+d60xke7aIxnAK8cnSFtvJk0kVewPHF3xvhyTdvWwvPwRMnTFsbaDhNEo/DdYaLccEeTZ80rBPh8vzR/N7ab3XMoZz70v6Bpt99nu8dhrGsc7ySFkYWzydvrkmK7WXqAsKRLqtlyq93GXS+D9JXfJNCC0eY7ZAuDg31YMxUZrYx2DYhDRPr5Wxjel/pdY6n12TEKipDt+Vdm9QWpclYZcySLpMm9WZSoL1IT1/tNYTx8ZqM14bZFMzqGF9NTHyaqRJqszJC3dt4JWjuZZxpzK6bQTJ62yzVd9fsl2FM2u9jv5R9tM5NjPE6IaSJABFMS2iWpng6eWbNps0ovRkrzzrkYCDdbVZvL5UOz3Mj3wYoy1Q6uVm0LQ4+iVHr8Lyu0uM5y1mW5IgksYgohPD6os9ZdtanLRHTNrrWBnqTS6s6zcPZiWf1Y9rpOcu2nqNvnm3a6pplaNpnIm5PPn2y/M5oYET0RzNcGZLbb7999bjSFd45+yjtQ2UIt8mx+DqdEnCu5ck94mOwM9Lok7BoJo+wvfqWyMXbJuf2WfIIip/W2Stq1ai38UoDlRFtZJj7pQQazCCkc4yg16L98mgMEgbPqHFGXpWz79LEuJJm4wKdVd4cHtJt8tC8iDSXMW4JXRpbGdjaYRyxr1VcwlJ2jHX587f42jaw8aENaFet7I2pnpM2RquxwBYTjhZjpLFL3fKGK2/pVk8DoXmG5U0dtLT6Lg3qSnrFrxykjTNInNoiY9lEoyFe/UKf8MKa8jURUB7aRggTw6C0GDMtHZmX0MtMBErD1jhtlteoeTHtlek0pgiHc81jaJO5jmB/UftlAB2FoGjslsd4cQm3TuUYbJqwy5NBxoySQEgj45wXtC1XDRZESFwMfG/VmtXbU9SEQ5kRRp9EzsxVWRMQz0pz2xPn51SUO5GVj4hCCK8vBmNeQgaFl1V45+iawd9kmybSPl4oE8xO9HPGZzNOPU97GG80wv5BBoSD4SAOh37uGftO237S/hBHm+z6aSj7JGmJNNI7RjWDrEFz6FCngShucciTvAiLIULDGdTCkkbfTaili2b96U9/qkv/8uP6hDSczio/2q/cOrV/MPRfXXGIMM7aS1jyq558l37X24u8LV51xDDznDGPQaYMnLMaKL/KRzkJR7ka49QVA8554witVlbNcaEexof2YGxsxqTxSP1JnzGY11f9yod0tL3XwvfzWOLwfSDIjzFEmZskCIuX2TgoHdKgTahHZaYNits5hrl7pK3BIcQOcF1ZCNeY1WkThDBQBuWnsnRIMz4NVyNnQPEs2O+iUbdlCzMvYqQDwYZxM1GN13keWs8SP2Kgk5ixEw/PEnHPMvCkixFnKd0sUydonoK+0GH6+qmsvu7XCXVcz+h88vLXv/61ioFrlmPaSwgMdYamQUj+JwRBkz+CbiuF5TJ5IXZmujwK8iO8Vq7STKROOeWUauAKQ3lJX1uOkyeiZOCxBUL+iGQIYfCgUQZlmqjP9QVN0Zf1S5rFcKEfdIumeo4Xrr3UwwgwOWdQ0haePjrD4BAffaA1DErGg2fpnjh4Br3lzzChvXCf6zRRWlrYPJc0yjlGG2OCQcJrJn20SPgMIM/z5DW9YkAySNrWKoaHcBl3NN4zDs/Lo98FlW7aRStNyGk4Q4dhKL327TP86BhvpvKQpk5NVg7GB+VIf5Whg/YzIJtWuqZcpU86wDA0higPesi4YzS28mbw8TArb+XivLI8/vjjq6EsXcraChwtNiapB5qrPD2jLIQlzVbHpKkZ3K0M5FfejWPyp1zlR9nJS/PeNh03CeDU6URe1IPn1Lmx9fe//30dn9xrFVK+he2QNvXgRWSH8lFOxiplahwVn2d7T6Aa0iLf7jf+qDPl0oxY6ZRfZSH/0qINGS9NVLQXYSh39ypn6W8TF4a+slSGnXUegj5z5AR+KmtQjFcNlAhrnIRMwySsxIFg8kLoWJ0zLOHpSG2pQwM262zPNaONeGjkzVOg8RMgzxFnoiQswmJDuoGCcHQerkmbDkI8GHXilu6+Ok3Ljzh0XOkiBjo6AWr7neRTmnRgnwSdSPjBbJ29dzoYus1YF56/xSNNba+YzkyAlYN0KIfONIpH/G2w8LeyA0FhBBNbe46EG0IYPAZqvLrWDJWmif5uexFN3GlaZxh0hDbpz3SBTvCu+aRxjClaZELPuKQFLXx6QjfoAWOE7grLddBK34UlfeKQPsaJOJyjkZ6nccJoOkVvfTonjU3Dmj41o00anZdOOi1uRoswpVee3E/b5MPz0myVS57ovuc7aWloe/o7td/+TWELU/kKS/m6F+5t9dDu60SaaLrw5L2VBeSVYduM41ZP8qD+hKkM1YHyF69yUMbuFbf0itP4pUzptTiE4VllLj5hSAvNVoby5lwnzXj1rPypA+Vsz3LbPywfwhene5q33Hnp40SSRuUvbn87L6y+kA/pbOO6Z4Srrlu9yq/r0gX1oM7kQZ7kXTytnKWJoS4NrilLY6ywQ2gMxHgdlP+w9VrQ2M14feoEGj4jkLHnrU2/Lde8tv1hlmfGbCba+wUIECF7wnSW1skmB96iNLgdc8wxVTR6Y3bsv0VIB5EZTIib+Hkz/L4hI7i3WIcQXhvm+jxQNHGw+zDoBi3UnxkPDAufvF0m51Ze/DYooyWT02kHXk2/dMO4ZbRPrvF4csKg53X9y1/+Usd643I35iNMfqxm2Bc/vv+w9YZuiNSYiTRPpb1QGraZmaUeSyog3mZ/48Psz7++8zMvv/nNb/7tMOCY3U9uY86M1MsJfaXBYSLAcO3tXXitKMf249S8OTwYEyqzEMKUB28dQ/XPf/5zNZAtETNm7X9lwDBkDfw8VyF0E/b2WgU1tvMs8/qGMKm8ocarpQIGpWUFAu13Vxma/u83Y8xbr5YfLBuND4LOo2p5R4foffDatqWSyQlPDG+I2XFf6bDk4p7BSgejlSCYyTL+eaBtGRCXpZgQQnfRvK10z7YpE/Ivf/nLtX9jq622qhPUyeH1DWFywbHit2e1Y1v2tG+TsBAmlTfceGWY8kZaQiDavJI2ePOUbrTRRv+2Lyy8GmXoMJO1lKjceu+XCiF0Byad9gbSw7bNyTn7Ob3QZA8mnczkdNpCO1D/NN742I2YcHEweY/FaumEnFIhjI83fM9rCCF0C5N7z2sIIUzrTPF7XkMIIYQQQpgYYryGEEIIIYSuIcZrCCGEEELoGmK8hhBCCCGEriHGawghhBBC6BpivIYQQgghhK4hxmsIIYQQQugaYryGEEIIIYSuIcZrCCGEEELoGmK8hhBCCCGEriHGawghhBBC6BpivIYQQgghhK4hxmsIIYQQQugaYryGEEIIIYSuIcZrCCGEEELoGmK8hhBCCCGErmG6l/9Fz9//xujRo8uee+5ZNt988zL33HP3nA0hhGmTK664otx///1ls802K9NPn7l/CCEMNo8++mg5/fTTyxFHHFGGDx/ec/bVTNB43Xvvvcv2229f5ptvvp6zIYQwbXLhhReWu+66q2pijNcQQhh8HnrooXLiiSeWww8/fNKN1xEjRpQxY8aUoUOH9pwNIYRpk5EjR5axY8dWTRwyZEjP2RBCCIPFuHHjyrBhw8qoUaP6NV7jOgghhBBCCF1DjNcQQgghhNA1xHgNIYQQQghdQ4zXEEIIIYTQNcR4DSGEEEIIXUOM1xBCCCGE0DXEeA0hhBBCCF1DjNcQQgghhNA1xHgNIYQQQghdQ4zXEEIIIYTQNcR4DSGEEEIIXUOM1xBCCCGE0DXEeA0hhBBCCF1DjNcQQgghhNA1xHgNIYQQQghdQ4zXEEIIIYTQNcR4DSGEEEIIXUOM1xBCCCGE0DXEeA0hhBBCCF1DjNcQQgghhNA1xHidSB588MFyzjnnlJNOOqncdNNNPWdDCOG18/TTT5cbb7yxnHDCCeX8888vzz//fM+VwePuu+8u//znP2scTzzxRHnppZd6rkx5vPjiizW9v/vd78oFF1xQHnjggZ4r/5+XX3653vfYY4/Vw/cw6Tz77LN1bPvLX/5SxzptMGUapjRmGPkvev7+N6644opy8sknl913370svPDCPWf/nXvuuadcfvnltaFfeeWV9bj22mvLbbfdVp555pky00wz1UMnuOGGG8rFF19cLrroolfuveaaa8rtt99eHn/88TLzzDOXIUOGlOmnH79dLdzrr7++jBs3rtx///1lzjnnrM9NN910PXf8HwaDO+64o5x11lnl0UcfrffMPvvsPVcnHsarOG+99daywAILlMUXX7znSghhauf0008vt9xyS9XEGWaYoefs/6cZUZdccknVu6ZnoG90jn7QK9foHMOAVjLSGGd0iqE244wzlhVXXLHG01vXBsILL7xQ47zqqquqDs4xxxw1rLvuuqtq+80331zWXHPNMssss0xQb18rzz33XNXrhx56qBrLA9Vg9xpf/vrXv5a55567au4888zTc/X/cI8yk6f77ruv3jOpZTZQlKF67BzzjGPGBXlV58pVGrSXyy67rE5G2r1XX311NRAffvjhmlZtoa/29EbAeNVOL7zwwvp9pZVWqm1xcpbn642+qZ+qC/WlPU4p5R9K7cdHHnlk2WabbcrQoUN7zr6aQTFeGaK///3vy29+85ty6aWX1k5KvInVk08+Weabb74qODqF2dzRRx9dxcg97V5G7SOPPFJFncjOOuus4+0sxIrnQLyEf4UVVqhx6GSdKIR//OMf5Qc/+EFNy0ILLVSWXHLJnqsTjwavY/NYLLXUUjFeQ5iGmJDxalBk2BBezD///NXoAt2gRTRr1VVXrbrIyGF8nXrqqXUgpWt0jBHkOsNhUg0xE3wG8R/+8If693LLLVeNJBNwE3oatvbaa78uxivdpP133nlnzfMSSyzRc2X8KBsGHocH3V500UX/zXg1YaDzHBQcGQz+NjGYXJhcKNejjjqqjn8MPeMYp41xzjjGiDYenXbaafVeh3x41jMmFSYrHDtzzTVXHfemBANRG5Yu7VzbXWWVVaY649VkTn885phjar6WWWaZWg9hymAgxuug9W5i9M53vrP8/Oc/r5EefPDB5cMf/vArXlkNpfGmN72p7LfffrXjOw499NDyiU98onZgHd0sVQcaCAxSxivhJ9Cd8GgQaTNiAsgTEUIIkwuGGR1bZJFFXvF8NgiyLQG0kC4+9dRT1Tjj+WEsMFI9NzUZCa8HDCuG7fDhw8v73ve+Mu+8874uXjR1tdNOO5Uf/vCHdRz72c9+Vj7zmc/UemagmsSoXyy77LLlAx/4QDnssMPqvb/85S/LN77xjep0MT6eeeaZtR1keT6EgTEonldeAh3WbHeLLbYoCy64YBUQosL7qkOawQmDkWmmvPTSS5f111+/nnfwtLrP/bwVvARtua0vzJykzyyXUBkoVl555TLbbLPV78Ji2JrhWqIxoJi1EwtCR1QMJDwpf/7zn8uYMWOq2Bg4eDzM2omJpZ2//e1v5bjjjquzZt8NNPJAkAiYQYgH2T7YE088sZxxxhnV02Amx0uQwSiEqYMJeV71dRPve++9t+oCXaN1zrXtRpYorQA56BID1/Izbx2vIS2jTTSO1tAnxo2JePPSiVv4DOFTTjmlejV5dW0F4MHjXaVJv/3tb6txJM28sOKki/52SC+v79///vfqNIA0O2ic+M8+++wavpUujgDpkwZ6z+PoOXHwfEqPMHkdQZ/p9B//+Meqi9ddd12NV96ME3SWN9YeXBpLh40RykscxoDenlcaT6tbXSg38UiHcpdH4xHt95x7jz/++DJ27NgavzDVgbKk8e7lNJFHn/LAK9q2vfW1oqecTUCk5S1veUt13kivspd+44/8SS9vLI+6cW2jjTaq54157nWfeJT16quvXtPWxgvnGMHCU+7KWhrPPffcWmY85spW/akbnl/PyJt0wWqm541LDmVi60bz+otLHWt/yl8bMl4qc+UirTyv6kk6tUN1qb1Ik3psHuaW7oa8tW0rVlod2oh2LO3S6R55cf68886rZSUtwpLGVu7y5T5tXXq1N21Fvo3Jrrf7je3uFY60qlNpkBZ1qd7kwwqw8tMneezZJ9LVu67D64+297p5XvtDoye0E1rCcZ2YaMwan8+BwN1PIIgDkSLMEAYB11E1Rnu7dBYQOgJKDDRq9+nkOq3GrOETaPf4rqNo3O4Rnr9dh/ja3lud2z06F5EgGu4faF5CCN0PHWPM0BlawUCiEwZPGrTBBhvUv2mFa7TLJ4ORUWPgdo7+GGhNhGkbLWLMWO5vy54GfVuuxOPwNyPGNfcwcBmCjDB/0y165G+GHq1rmkbHGKrOuV8aGMDiFb/vjEVax8gQlvgYU46WVnnpRPziUx4OYTtotDzSSWFKg7SIgzFLTz3XibDcJz5xS5N0KE/pFJawaTBjiIErHMaY9NF4RrTr0um8sIwD8ij9wvcs40c5Nq2fEG3sMt4ZcyY05qlnbcWn59A5VjinTtQ5w1x7kV/GlnphvCkD45d8MKht23NOOal/+TXOyYd75NE545O8Oud+9d7KSTzKSjmCYehedeRo4yWj0dioLYirN+rEPQxFdapuPWsCIT/iUwfqQvzqXN7co530Lgvn1Yn6MrlraZUG6ZLmzjalH6hL9zCYxSnv4hN+f30jdAeD5nnVODQIngMNSMPSYHU8+7bs8SLOGlUTcQKv4RB2gqmx6STLL798PcY3A9JZpE84zSglGmaBvL4aok5FoM0w7U3VUH2aqev80sYTu+eee5Ztt922do7Wac3y3aOjmX3uu+++ZfPNN6+zZeHyOrQ0mtEbUN761reW3XbbrWy44Ya1k8in2WDzMIQQupsJeV4bNJB20CGaaOBmXNCL9dZbrxoMdMpBc1yjh1acDLbi4QXaaqut6lI4naKpBmqeCIM+r6JVobe97W1l5513Lptsskk1hBgrJvT0aJ111qmaSrv22GOPqn++M3Kkz/ntt9++egR56xganpUuRgDv1GKLLVbe9a53lfe+973VuJZWei0ddI4RQmPf//73l7XWWqve38pGfsVpq5g0r7HGGmXYsGFl6623ruMBzRcGnfzgBz9Yz/OOWcWi5f5WlvIqHGUibteV46abblrvo790mc6KQx7ptzLbcsst6/L+m9/85mqc8BquttpqdRxg1PklA95F296Uo/wzhui3cu9rP6Qy8KwxxQqc/Ko3Y6E6Ml4qC3HwUPIkuUdYjEFjnvFG/puHk4NFealDyLfxUvvg1VW+2oN7tUF1byK04447lre//e21DNUpQ8yYK3zjtzFQ3t7znvfU/EgnQ9FKJeNOW5AX2xrk33l1qkzlQ5s0vntG+dsOqM2oP2lnEBsLjcMt7VBG6kB7FO673/3u6qVmJ8iXT6sS0sMoBU+b9qFMjbGdZdHS6jl1ueuuu9b20iZWys64zbhVB77vs88+ZbvttqsrpNKjfuTHGK2diFuctpy4RzsObzyvq+eVoFh2+I//+I8q7Br4qFGjaoMg3pZyGhqWPbEMPcdee+1VDjrooNphiKmG2Vss+kMH04ksueiAZlVtNqWDNCNThyYaDg2WaBAscRFInZKgEe02q5MnYti2N+ic8qFzux8ESfzEUucSj/AIPcEkVjFcQ5h2oAl0xOBJhxgRBk6GE8OoGXcm4K4xDGgGI6zpnsGbMUM7Dah0lCHhOYaPZ3wyRuhWM/Q4CdxDjxz90YwlA4O00jeGBAOWkWnwMNCLk056OVU6xOf+Znwxzl2jkT6FM1ADgGEiDQxjxpA0cQ7QWJrNSBFPg9YzYnmbGaSeZbD1RzOajQ2027K9c8YE9WKsoNmg0+pF2qVDXpTp+GAU2tLxqU99qhrexjz7WBmaDCPPN+1X//a6MqaMeR/60IfKF77wheoBVX+bbbZZrfu+xgptRr2qX2nXFuSJgcpYa+fVlU91om2JU5jGK3WoboXlGWUr/4xghp/4TZ7cI/3S5BPqSTjNA8uY9rexU90xDqWhE2nQRrURBoj6FJ72YdKhnsWr/Bmm0qSu2hgsvk5DuKF8vGSoPIRn7G1ha7Paizx5ni2hzt0jfAar9Ei/cTp0N4NmVZlh6iQ77LBDnWU5zBI1HI3Y0dDJNOB2n6PNHompBtdXw+0LnUhHID4arg7ZDo3ZNaKkM+skBhDirBPyvPqFhO985zvlv//7v6u4WC7ynMZN4HSWNhD5m7jJUxMZnUZnMsjwVIwePbr85Cc/qUsUnmfkDjQvIYTuhzYwlgzU+n7zrNICRhGtdK0NtA7fGQBNV9wrDMZEMx7agE7z6BnjifHjJSCT/+9+97v1RSATc9fc0x90TPj0kbY5xCn+ppGMC568Y489tv5ay7e//e3y05/+tO6x5CigoYwUz9FBhhPDeaB65z7PSqelfA4NWnz44Ye/skwurw1L0BwLjFia3NLeH8rLPfIpXfIsjeI1Fsij9NNzdeKzlbX7JmSEC5tRaNWucxzzPG8g54d4IL2MM9fbvZwbnuUdZ1S2uu+N8KRNHtzT8uWc8lMGLd0+1Z94jWEmIOrLS2UHHnhg/bQPVDkaI1sdMrRbHMJrZQafrpugGLvV1SGHHFL+9Kc/1RWEVg/ibojf+MeR5BntuNWBCYe41K0+4F75EI7DPZ1h9UZdtfCUR0u3uOSFYS497AhhuUd+5EFc2pt7QnczaMarzmkmZlZpGX7vvfcuu+yyS20wOlDbVA0zPC92ucfhfp5Ksz+zSp1wYtCQPafh85jqmAYEjVYDNiho2Dp1J8SRwEibw7PCYgi3DtSO/nA/b4QlInm1PCgsAwjhF2YTsBDC1A+9YPzQHhpEB+gMrWCk0Dd6ZRC1p5Ghw3hlAE4MNI2BacWqLYkyWoXNezgh42tC0C3GRTO+HZwQ8saT1YzdCWlkfwjfhN9+UwfdbnHIF0OkE98ZLspQmvq6Z2KQZulXH4yfic2D+qL7xq42jvHAGm/Ut/w07Tc2WOK3Kuleq43GSg4eXnZlOVAmprw7Pf/GJW3FOWOW9Ms3lEN/uKfllUdZ3OrNdghb9xiw2nLn+Orv9r21kUZLv7LpHBsHmqeB0js86WiGfeekKHQng2a89kZDYUyamWoobYmptwE5GJhlEX9x2afEG6FTWSLide0UBg1a2jzDuD7ggAOq58Js3+f3vve9ur/V0pV7pN0MvaW7s1P6dN0sztKFPT1f/epXa5gETOe2nysdJYRpCxrTPD32/JnE8hDRKcYADywjgmHL+8U4oJcDRRicAPYyfv/733+Vhvm5Qnv46N+kQid5qzbeeOOy//77158zbOH/4he/KF/84herASRPkwLtpJtWv+wvXXfddYvXL3j06Kel5t5bAhhPVvbsm7RHUtnR+0lFGTaNdzRDqml80/mBIjwTlLZfk4E9sWEMJtLD2GQoq7PWRtSl1UHOIpMcdd221UGalUVLu091pa55iT/+8Y9XD7nx07N+RcD43mmItjG2hd3GfvcIq8U3IS/rxCIsh7DF09IkfhMxE76WttDdTDbjVWMh2DZYo7nwB7OhdmL2bNuCgcAmcftqibsBpBMN1wBiz5AN/oTTDF5jNyuVXs9KJw+Gxm8rgXt0OFsKPGfgAYGy78lPmBBT4RCNyZXPEEJ3QHsYM/b1WZlyMABoA8PMYE6v6AWP4sR43xgd7ue5NUm24mOwpk9+7sg530GLDdp9rT71h/QwfpuHzTYB2kYHrSp5O5y3rdNgGQgcAdLVDJmWJuVEmxmj4qKx9LYT1xn49ubyYvJs0vqWz4mFcc7J4HnlyOMrPerLWGBZfWLwrDGPw4KhZPx4o8YBxhnvuDoyLjmMWdLFU+qFN/nUDo2HXsaSf9e1yfbTUlA+nrF9xHPawITakfi1H+O+l8bUle0ebd+yeJS9LQXa/2CgfWhH2od25qVH/UK+ecJNlPRB9aJ9o/ULR+guBs14NfMiJH6o2b4aMztvqlrG0om84adxTS50AI3SgKFh6pCWl1ojbRATXg57bl0nWr/61a/Kj3/84/o7eLYbmDUzhm0K5yGxHPfrX/+6HgzZNqOEwUg4Bg0dW/7tO9PBeX3lfXLmO4QwZUJn6A9tMpAbrNvElj41g7Zp1sQs8zM67LO32sSYPPLII6vH1T5ERok4aJg0iIsB6hoDpU28x0czAng7GWT2Sf7oRz+qvxvLsGG8tLwMBHmjhQxCL1wxLBin4pAX5+im/0LlRVsay1h2NMTlvDLjAaSr9JphxFiZWOg8jfZLC8YpeeT59VuijPYJGea2nRkPeDT/53/+p455xghjoTHBatwbpf3KSRo4aRj88qR9KGN7VpuTRZ1oQ+7ngOGV5YyRN7jHocy1J0asPMqrSZIyUhfab2db8Lc2L34GrDh5fY212qtx1fst0jbQNjQhWvsQp7JnuPolCXVqbGY48/C3FxP1DX2Ss8rvxdq+MyntKLwxDMpPZTHUdH6V3/mpIWhEGrd9pBoX8WoGn47TF2ZlPJpm38TWrKnzMJskCuI1e25GIoEUp3MaaOscxJoAE3Hn3a9D6ZSEnve1Ga3S6Y3H1rjdQ4yUhQ7tPA+vziosHZQXpP0UjjTLoyU1e4Db28IhhO5noD+VBXpHq+gPDaRR9MN5zzrPILBCRFNoFaPCMww7k3HPNEOO3vGCMTZoDqOPUUF3mueQMUH3aBO9oz08aPSUjrX/U88b2ybodA/CNgm37C1eGsmwpp08d82b6xqNdJ1+8gDbZkXTx2eIiI9+S4c00EZ5kGYGsXKVruZ4aIcyo6m02TjkukN5eFb8jBDGCc2mvTxpytd38Shv9ypX8Ut/C0valQ/DjKPCvc0zaPxiaPXWcGUi78Y6aZMvYx6vpfph9HPYyGebTChL4Tk3UDxrvJTG5slVB9qIT+1GGTpv7JOuNrHRnrQPqDt16Loy8ZKx8ORR+Wpfxi4eZ3WgnbhP22xtyZjreeOlclIm7vMTbcLpnS/pNk76VLYOzyt3Wz+kXRjqSX60J21P+fduRyZL6s44q1yVh3EerR2IyzX51ybUIcNUHUm7ehFv2xIoHn3DREW9tT6Y8fqNhw6ZkI/vp7Km+1ej6Nf/7835ESNG1B9D7i8ACKIdvdEI2wGNDJ3nemPmbRZoptbu78SvEnzkIx95pfF3htWZjjbr7TzX173tGlzrnC33vqc9i86wpLN3OJ3XQwjdj7m+33WmiQMZ5GgCbaApvbWgU1f60pze+tHX+XbO0egdV6c29Y5nQvG2c45Gu+7o65n+6AzLveL2Nzp1vjOc9ndfcXSG1b6jhdv5vdH5jMPfnXH7mxFo1ZBhwzDjyeu9paOF4+hNC7szXe2+zrQMhPZsZ3jo63w7h9557l2+fT3XnkW7NpD7JpQn9w8k/s5zfdHffX2db+ccDdd6p1W62j2udYYb3jhMkPzer59btX+/LwbFeB1szKDNOHkS+kqeGazZ/2AuOYQQwoSYWOM1TLnwMPK6qUseaF5R3jyebFsIeAy9lMT7mLoO4fVjIMbrxE0DXycYpZYP/PcU/yWm92HJp/cemxBCCGGgGD8sHdvOYLD0QpI9mbbK8bRaEm/by0IIUxZTpPEaQgghTE4YpfZH2gdphc8/RuBVt++TJ9ZLvfZ9TuxSfwhh8pNeGUIIYZqkvaTrBTy/8e1tfP9JzHsV43tJOYTwxhLjNYQQwjRJe4nHNgH7XW1H82krQTyuIUy5pHeGEEIIIYSuIcZrCCGEEELoGmK8hhBCCCGEriHGawghhBBC6BpivIYQQgghhK4hxmsIIYQQQugaYryGEEIIIYSuIcZrCCGEEELoGmK8hhBCCCGEriHGawghhBBC6BpivIYQQgghhK4hxmsIIYQQQugaYryGEEIIIYSuYbqX/0XP3//G6NGjy4gRI8opp5xS1lhjjZ6zIYQwbfKNb3yjnH766VUThwwZ0nM2hBDCYHHFFVeUrbfeuowaNaoMHz685+yrmaDxuscee5Q111yzzD777D1nQwhh2uSWW24pjzzySNXE6aabrudsCCGEweLJJ58sl112Wfn1r3896cbrvvvuW3bbbbey8MIL95wNIYRpE15XBuwHP/jBMsMMM/ScDSGEMFjce++95aijjiqHHnropBuvtg2MGTOmDB06tOdsCCFMm4wcObKMHTu2amK2DYQQwuAzbty4MmzYsPFuG8gLWyGEEEIIoWuI8RpCCCGEELqGGK8hhBBCCKFriPEaQgghhBC6hhivIYQQQgiha4jxGkIIIYQQuoYYryGEEEIIoWuI8RpCCCGEELqGGK8hhBBCCKFriPEaQgghhBC6hhivIYQQQgiha4jxGkIIIYQQuoYYryGEEEIIoWuI8RpCCCGEELqGGK8hhBBCCKFriPEaQgghhBC6hhivIYQQQgiha4jxGkIIIYQQuoYYryGEEEIIoWuI8RpCCCGEELqGac54veWWW8rf//73cvTRR5d77rmn5+y0wUsvvVTuv//+cuKJJ9b8P/HEE+XFF1/suRpCmJy88MIL5aabbipHHnlk+dSnPlV++tOflnHjxvVcHT933nlnGTNmTDnqqKPKQw891FX99uWXXy7PP/981Z43SnPEf9ZZZ5XRo0eXa665pjz55JM9V6ZspPvss88uv/vd78rVV1/db7qV6aOPPloee+yx8swzz/Scnfowhl111VXl0EMPLV/84hdrH7rxxhtr33oj0cafe+65Mnbs2PL73/++XHfddVN1PUwJDIrxetttt5WTTz65HHzwwa8cP//5z8sRRxxR/vrXv5YbbrihPPXUUz13v7EQT0brrbfeOuiN6+mnn67GsTwbbMbXoR5//PHaCf/85z+Xww47rBx++OHlT3/6U7n88svrNZ1U+oRDdJXhYIi+MO+6666af8Ko04UQBg/9/t577y0XXHBBNU59188eeOCB2o8NbIssskhZcskly5xzztnz1P/h3ocffrj2ec8+++yz9Vn6Sbfoi0FySoVG3XzzzeWMM86o4wJNlCd5P+2006rhSN8GE5p2ySWXlMsuu6xqW1+0ibvyY+R1i/HfO919jSnaB6P2oosuKpdeemm/ZdAXt99+e7nwwgvHaxhPKci7MpBe7UkfWnrppctss81Wpptuup67BoY+pFxPP/30cu211w5Kn1JX+r2x1SSiW9pYtzIoxiux+tvf/lZ+85vfVCOWZ5OX4NRTT60zEY2NkDURn1oh1Dwrf/zjH6soMA57I/86ivvOP//88s9//rOWE2H39znnnFNnkm0Grdx0MKLfl3CFEKYs9FMGBI8Zo6r1WwNuMyze8573lO22264ss8wy9XuDZvCs6vOeZbx2EwZsBjpNY3Axup1jGPmuDAbb+KaTtJTxRnenRbSbu+++uxpPxo6BwtDSTq+44orq2JmSkUcTO2PhAgssUHbdddfyjne8oyy66KJlhhlm6LlrYGiDyordcuWVVw56mwyTn0HbNrD44ouXd77zneWQQw6py2K/+tWvykEHHVQ23njj2jj+8Y9/1E5ldjItQ8ibF4JXdfjw4eUnP/lJXf74wAc+UDunDmU2OK2XVQhTE22ANPDOPvvsZcYZZ6zfp3ZmmWWWstxyy5URI0aUYcOGlQUXXLDnShgMeB3nm2++OiHaaaedytChQ3uuTF1w/DBghwwZUlcs5pprron2uIaph+n+1SD6dYXaH0RweFHH1yEYphdffHE1tvbZZ58yxxxz1JkQrwEDjSdypplmKttss025/vrr6yzc0pElgMUWW6ysu+661fg1c+R9tKzGi2lZbcstt6z38EYw+DbZZJOywgorlFlnnbUagmaNZozLL798WWKJJapHsy2f8Hg4L/z111+/NnpL9Twa4tLZLTt43rIJr6eZqEHlzW9+c9lggw1qmLwHvMkzzzxzzSPPgnwRYfdtuummNV5eZstld9xxRw2XUG+77bY1jOmn/795gjLhWf3LX/5SlzukYd55563XGbUMfcuNrkm/5UPnF1544bLRRhuVXXbZpRq2Dz74YE2XawsttFCtn9VXX73cd9995dxzz63bDyyLuCYfa665Zg2D5+ekk04qjzzySNl3333rIMq7azYrrLe+9a213HkznGtlIn2tTHiLppWBN4RORo4cWfs5TaQnfaHv0BNapm/vsMMO1TPoGR4u/XrVVVctW2+9dXnLW95SDQ/wGp533nnl+OOPr32Sxum3Jrh0xzYCz9Mzq136ugFcn9X39XX3OW+1i87RIv2Z/nlOenoP+LSQ7kjz3HPPXcM2iXbv2972trLKKquU+eefv4ZNC+iTJXoa1MJ+05veVI0L26Bolrww0mkj3aKBp5xySg1L3qWbM0M6jR28ssphvfXWqwfNF7546OWyyy5bNZ23TLlsuOGGZbXVVqtbKWzTovnGA9okzq222qqmuXnk6C7dE4YylWdaqK5WWmmlWobiUKfGHmlyGK9onWeUn3KmhcYwmk/vfYpbHjfbbLManvz1huEl/TRVPdJnZaR8aKtl8N5It9VMdamMPS/d0rjiiivW+ORZ2NJijDL2mCwoX+1OPrQnWr/WWmuVtddeu8alrs4888xap56TDuOtvApfPSp/ZaxdyL9r4tOGjTOeNVYZk+TfmKhsjdHSxysK6ReOiYwxvHffMQYLw3iuvl2XB+PNyiuvXMtbW7Hn29jLeDXmWb1YY401alvthL3AjlAmyksdsgW0Z2UqPdqN/jHPPPPUNvze9763Pmt81wfYMfqBdqafKmPpUybyqEzWWWedWnfKxORUmQpz8803r+1cObZ8iVsaYGx1Tj9hGylXbVp/ythaqtaxn0aNGlX1ry8m2wtbhMyhkat0wqeDa+w6kwaigTYjVOey1MSAck7DYOBqKBoSQ42QqOzmwXVOOIRPg3SfTGtYREFH0vicIzCEqjcMaI1cRxWeTqCTi0sDE5bnNEDCJ50aNWH0LGNYvPCs8zqo+HWK3p3UwEEoiKrnpV8alZM86yhEQscl5sIRn7B8F540MU7lC+JD28OjjN3HWNURpF2ZKzdljVY/hEAelA8R8pz75F+ZEA1xS4O0tjIJIQwMxo7+o387GDYMTQNw53Knvueca63P+1v/FgZ90vdMPPVV4TjHQNHn/e2afssA8AzjQZ/3nZbSYv2+E4aDvs1wprnSIJ3CE5ZrNIE2M7xoMI0UNt2ln4wx4Upz04umgfSOjriHISFccYrPswZ9xhStkk5a5R4HHXIf3RWOdDUjQp4hnpZmGixOYfXllWNM0Dq0tDHcxSN/4qStNFOalb/7xKX8aKz0+i4/jCTxukeeOFikVTyd0Hfhm9AwbhgswlZmJg20XFn2rptGS3crY+mm28qPkS9NxiFxG0/cL72eUV7KV5txDyNQfSoz5dU+jS/ClSfpbOVkHFHf2oEwTY7EZ+xQVq3ujdsQvzxpq9qevEunuHvn0d/CEobx1ZhoDJVHadT+2vguDS0tris/f/feMtDKSr8Qt7zJu3SbeKlDz7XnXdeG1Ik61x60c33JOf1SntpERZpbOrRXhrCwxdVwj76kjpSZ9igc55SFSYN0ilu5OWdsNTkJA2OGkVwJ/aBBmfXtvvvutbL6Q0d2qGydRAWpbI23NWKGpBmpDqDxEL6dd965GmsQl5mxWbN9LLYb6Eg6h8ZpRiIcjUln09FUtIZG3M1KNSznllpqqfLBD36whkGMdGgdxMxQ4zQDJDTilmadmVjxDPOSCEtH05E0Og1bAxWWGRbvp9mjxto6qJmTmZZ8Eui99tqrzoo1zk4R9bdGbADwrLQ4p3MKT4cwazXbFBePNPHhGZA2QimtBFA47373u+sM1GAh/7w2ylkZmpUqi2b0qxtxEQPlwAtCMFwTrvCllyi1Mnn7299edtxxx5o/zykvZSJtfQ0OIUzNmBzqBzSx96DZ0I8ZKjTRwKTv8OrRLYd+uMcee1QvXpt4Qh/W3/VL2sOr8/73v796IdtAaJCjKzyLvEWeMUjTKIM+/fNrInRo++23r1u59G0aKN20goYybBuMFRrhHs/o88L2HOOBJtFb+ue7ibXlafoiLFpEy3iO5ImhQBPFTSelX35oCh2Xf/p77LHH1vTz9tm/SJ+VGR2jf3TPgC5dylC6eMAYLowrZUWrlRM9ax7ULbbYopZ7pz5Jj7FH+AwLWs+zwxOmTGEyIK8MF/cI18oYb6Wyo+vKmEbSTc/xckq7vLdnaaP7mjEH4w+tZ9zKm/h53tWTetVelF3vumnpFj+HjWd48Hg1xS+d0i1NxlBjgjC1M2O36zzZ73vf+2q7MvaKy988sJ41znKYSJO6UkbemDd2aGfq0f0MNWUgX9qb7+pdfbtHePItTmnWftSpsY3hJ2/K0rMtj/KkbfDKa7vGbOOrsld/ylN87AV5Vsfaq3bFU6qspb8TRq8JkPbWxkHtBMZ17Vd+haUstD+2iHJjt5hIOK88pEce5PMPf/hDbXPaTSsT4RkvlYG8a7vyoxyNlQxX/Ub4ylMbkC51p68Zc9kNwpFuZeS+aX1sNRk48sgjax30t+o/aJ5XAnbccceVj3zkI1WYiftnPvOZapBqJNzoGjPB1wg1dA2BeGkwKpqQMCgZyjpf68yESSMnYO7TWHhDiZrwdAaHTqrh69wavEPDE56OQQw7acanBuUZRqPOLJ3E23VxeU6H1Fh1PvdorMLWqTxPnAaCTivPOpXGK39+9mP//fcvBxxwQBUcHYdojQ9xW1LR0KVXGUmrMlWGBglhE1ffiRuRbB4Bg4dOaibqeR2S+MqnMiFSBgF11cpEh1cP4pFf94YQXh8MjgZhB2NSvzR467c0imFi8DQI0yrX6KPB2rMG0eal643+ra97hvbSC8uxDC1aZGClJbYaMaB4rWgZ/ZEOYQuXPkwI99JMSJs4TIibnjLA6LXwaKU00ToaL23uoeni6ms1bXzIF2NFXML23ThD600QGMaMnXe9613VgKKhzrlfGSlj5SGN4qeVjKlmAPr5pmYUdiIc+fjYxz5WDUI67RydlgZaKv7+yk8apNv9rX6k2/3qpjfqRproPEPAp3bB6Nptt91qGYq/N9Jg/NFutKG2lcKz8uXTuKEOpdn3ttVMuuTbM+rOuM6Qa1vcjMet3TS02zZ+SpMyN7a29miywrninoGON9Iujha28tH+lR+nFmNIe+sPadTH2BvyJ5zOMtFmO8tEW+Rka2UiL8rcJFI62BbKx/PGVWGZiLF3lJm+zN7wnPbkM2PrhBk041VFmqV89rOfLV/60pfKf/7nf5bPf/7z1QNplqRhtkar0+hYKtMMg3CobK7073znO+Vzn/tcffbrX/963U/LWCIYOr/OqlMQDDM/nZioaowOM75jjjmmfPnLX65p+fGPf1yXmDzfu0H4rmFqUP/7v/9bvvGNb1SDmwD97Gc/q7M3xrJ7oMFKu3xIt/jkYUKGZm88r3PqCPbEfvSjH617hYmfGZhZKK/n+MKVFmIgDcJzr3J0jjfHdWn0SVCUtzJzD0NXns3UdTh58pz7W5no9Mrxm9/8Zi0TxrUyMWtsZZIOFsLrh36urzraAK3/t35LA/Rn3h4/v0dDP/3pT5evfvWr1WvUvDt96UoLq+mJ8GkGQ4LmGlCdZ1SecMIJVSuFbcLNG21SPFA9cB+jk/eJd8V4ISyf3rOwWmeApzEtXU13W9ocLayJwfP0sZWb78KGfDrnoHN+7lEZGkfstZSudg+HAG8r3eS0+cEPflD83CGHCo0VbieeAWOOUfPtb3+76urXvva1Wn7Ojy8vLd3y3dJN2z0jTZ24bkLDYcRxZPz085UHHnhgdY4wJlv+eyMs7UPYneOIeBnQzjX9d6/zneOQNmOSYcxRx5xa4pce5332jreVl3rwvL8dwvWMNu0Y33jYiTgYniZZjEF1p36M8SYf0i38/pCnzn7WWSbS11kmxvHOMlEf7BN7sJ0TT2tvcI8y8bu9Fr2bvaGtWd3VDjK2DoxBM17NIHQUxhhXuMPfDFqzcyLYUPG9G3BrvCraoeHqAGY2jDxGqhmR82aHllE0TOctQ6lwS19t75LGoqE5WsPpj9bA2qHxM7bNvsz+NNLBwiDAO8LI1rnljci0lzdMAoi6Dq9Tj4/eZTg+dIbW+T2nXOSRR0HZEd1OEWz3ODrLxKxVPQ9mmYQQBgf9tmkfrdR3eRj1WZNjBsiE9LAvLP2a0PIwmfiKR9hNXydGixotnU13jRFWv6xu0XpGwusJjeShbHtF/d3S1wyZhvTRbt5pmi2tnAOWuRknjK1OmjfO/l3lR2tbvie1/MaH9PCA8s4qU+MzTGDUIQNrQuNLb5qh7GjGlXS3A8rIWNHGFQa/8cw4zUOpHCeGvuKcEMrTsj0vLi8pz6ZnTbwYlRMaW3vnqX32Fb9zLY3tb/Erb+3Ds7ZhdBrfve0N/VN6Gdy8sZOjPUyNDJrx+lrQ0YiBtx39usG3vvWt8t///d91Vv+Vr3yl7rlUuRqEmZhZvg7o08zHoXEQDrNKBq/neA0tc3HJ94UGojMJ295R3kUzYnHzLOy33351SUQDm5jG1BqxozcMVvul7H3ySdRAuC0teHNRI+cdbR2sv7A60eCVY5ultqUHAmI255xyIi4GNcJmecxynIGJp6EtWwmHoWovV+8y+fjHP16NbWGMb/YaQph0Wp+fUL/vRH9kOJh027qlv/K26b//9V//VVd39Ht9tzc0h1Y4/E176Csdohm+M0K8Y8Ag+OQnP/mK95CDgpHXG1rSF9JJ7wzu3iTmfWzp5I2y9cxAblCfGCa2vHoj38YPvywjjRwwytB4ZO8rRwbEwbB1jwmB1UVjBV2koxwTNLcT5cjhYiVR+dk+YHzjbVZ+zbgcDKRPfTFQGdaWqP1HNyt8jEhjp6V4ut9oxpe6NpZoB53jiLIRnjbBqdSfgeWc8YMRJkwTAW2GAcnJ1Jt2v3ulR/j+doifwW/81WY7Jw/jQ9qNs9JoO1xb2dSm7A/n4Gp5b+2lffaFehZW6xOdZcK7qm47y4SNYl+68VW/aOXtOXll2GtP6l6bd1hl1iasUk+svTGtMkVYH/aj6LwalQ36XPsqmpDYSmB5W2PTiHQKDdPPzniGQcYA1did18BVvnubh9bMpy80NkazxkZUbEPQEIVj2d4szbnxNezeSIfOI/0ad280XtsfzAJtSzDDlzcdw8xd/sWn0bfO6np/4TV4VOyjMqu0t1VnkQ7fiYewDWpEQMdwCN9mcWVAJGyvsKzou8NLEZ1lYvBSJupJPkMIkwd6oM/7HKj+MFxNgPVl+tVWUxhSBlBaqi/3pSO0kleOVjLMGCp0Q1+nEzSSDtFM2uRT+ugXTyN96ES8Bnrp7w19ZlS55nlxSJP7ab2XwtoWp4lBeqRxYvS6k2aQtHwaV3xXnsrGSp976CqttK2qTfrpqTGnP5SH/AjXGKBMpZe+Kj9hDBbiUn7SZ5tA02vp68soamXv04RBXUursUj9yK+x2LK2sZkRqK31Z2A5z0ATn3FIubWxujfKg1GrTbnP+KKNKg9l4+e4rNxyMI2vfDuRd1sxfvGLX9Qw5A19pVc+Wz/rD2WivSofZSLMzjLRPlqZtDSqX8/wfDPcvZxozFe2JhCcV8pWXqVPf9WWnJvU9jutMWi/NtA6Nq+nTt9XQyMKBNE1FauBo7NDE1weVMake4XFKGNMuQ7LV+LjqW0vWUH8rvFoMrzMgG0h0HE1XEve0uAeAm3JR7jEVGfRMD1HPAmKRsYDKX0aqe/SwtiGxigsM0Rh6aDCFS/B8LfG2tnR5b15LTVag4qG7G1M5a0jafCt0csTY5R4ik/8wnef6wxh5eJQVj4JjBex/PSYMhQfw1WYOqDOpxwsq7QOJw86j3pWN4RG+nWqzjLpfHmhP/EKYWplUn5tQL+jIbRCH9b36EV/nkX9Sh+lIQ79kVYYJHl6aKx+Sxvoln5Lp3j06I3nDaw0wD88oYf6NyOBcSstnX3XYC+tDA3XGAzySWe8TyA+BgSdpLs0gfEmXhohTcLjheRRlVZ5tURucBYmbXK/+GkWLWWwMJJpK61yv7DkgYeYQaysnRN2m3ibYJv4yw89pP/SQb+Vl7wqM+G3fNK9Nh4Iu12XVnlXjs655l5lofyMRfLioJPSppzVvWe8vGRS0H66Sz2036mV54Z0qC9l3Ywyhpq02kagbLUJuqq8Gi3dNL2l272d6ZYm8Ro/jKM0XPwMLOkWj/JV/sqUB1mdan/aonZF34UlbGG5Jk51oy34BG+5bR3qmTNDuatP6RI35FX5iFt5q2tb4tSXMuzEvfLrMKYZr4yF2oLnjTVWTpvxqu6VufjkQx32RpjyqQ+41/jVfiLLM8ZC4z7aWK2+lZv8aOPSoozkSdp8ynPvMlGnrUz0SWUijepKeM6pB/lSpspC3Mralgpp08Y4mdgVrT23djutok3aDz++XxsYFONVR9KwFD5jUkX3VfiMSGLWlhCaEahxaBgaJDHTwXVqYmVjvM7BMGwNHb63vVHNaNPxpUUYBE8j0OgJpria6EBD8l1ahCUujV3cBh/51Sg1JnFKt79bx4aOD88Lq9NI1TgZep1ph3IiEG3vmUqSXp2lpalT/JSlstAB/G3vmr/lVRqVmTDlSx4ImTKQF51I3GaFtiMoA3Ug3Z7XkcWh7ImAjil+dSMc6VQerUyUtTIhKJ3CHMK0wkCMV31MfzGw6TMMP31Uv/NJlwxu+ldvXKcL9MAArK/r8/q2+GiMftueZdzQJkamfklXDJCeZzjQAfe6ru/SO3F0on8zoOgQraQb0upey5g0Xbjili/aRl+F0wwqutjSKf30jrYJQxnQEzrmftpGl5wTnvilVXjKyq8P0CDlKB/ida4Zo54RlntpIN2kR9Ltmu90V1qa7qoLzwjDNfmhp00PaaB0NeNBWMpDHcifeJSNfPpsxnfTR/UkP4w05dDbAFEm7hcnT7jDdeUhLfJCe6W9s111plsdtnSrd2Uj3dJE27UDaVB20qzs5U36tAPhSptxs73k3NoC7W/jpWvC7BxLxc+IMJa4x3MMPelVHr2NbnExArUVeTSBk/beKAP3uqYOxSetEI/ybGOrspBveRKn68qiN8LR5h3aYNvC4X4OL/lTbtKr3pSvdCgbz0qP/LT9p77Lv3asPSjPVibypUy0G2WiDqRVfcqTv6VRmtWRNDi0TW1efrVZ7csqqGsZWwdmvA7Kf9gKIYRpAXP9Cf2HrW6D58leQEuW9gYapA3YIUwqjEKrp7yLfpXB5INxHMJA4DF/w/7DVgghhBCmLXiz25Y63mErAn2tMoTwWojxGkIIIYTXjCV1HlcvKPnbUrjl884tBSEMBjFeQwhhGsa+PHv22gswnXs1Q5gYbBewj9N+WPtmvRzF69r21oYwWKRFhRDCNIyXRPxGqf9/39cLXSEMFC8e+T/+/sOm3063ZSCToTA5iEqFEEIIIYSuIcZrCCGEEELoGmK8hhBCCCGEriHGawghhBBC6BpivIYQQgghhK4hxmsIIYQQQugaYryGEEIIIYSuIcZrCCGEEELoGmK8hhBCCCGEriHGawghhBBC6BpivIYQQgghhK4hxmsIIYQQQugaYryGEEIIIYSuIcZrCCGEEELoGmK8hhBCCCGEriHGawghhBBC6Bqme/lf9Pz9b4wePbrsvffeZccddyzzzz9/z9kQQpg2Of/888tdd91VdthhhzLDDDP0nA0hhDBYPPjgg+X4448vhx9+eBk+fHjP2VczQeN1zz33LJtuummZe+65e86GEMK0yVVXXVXuv//+qonTT5+FqxBCGGweffTRcsYZZ5Qjjjhi0o3XESNGlDFjxpShQ4f2nA0hhGmTkSNHlrFjx1ZNHDJkSM/ZEEIIg8W4cePKsGHDyqhRo/o1XuM6CCGEEEIIXUOM1xBCCCGE0DXEeA0hhBBCCF1DjNcQQgghhNA1xHgNIYQQQghdQ4zXEEIIIYTQNcR4DSGEEEIIXUOM1xBCCCGE0DXEeA0hhBBCCF1DjNcQQgghhNA1xHgNIYQQQghdQ4zXEEIIIYTQNcR4DSGEEEIIXUOM1xBCCCGE0DXEeA0hhBBCCF1DjNcQQgghhNA1xHgNIYQQQghdQ4zXEEIIIYTQNUxzxusLL7xQnnnmmfLkk0+WF198sefs68fLL79c0/DUU0/VdPgeQpj6aX3/iSeeKA8++GB57LHHynPPPddzdfzQqqeffro++9JLL/Wc7R7kXR7eqLSL/9lnn626//zzz3eN7k5MupWto1vyNqkoh8cff7w8/PDDtQ/pU50oA2Ore7S5qb08BgNl1NpPtzDNGa+33HJL+dvf/laOPvrocs899/Scff0wWF1//fXl2GOPrenwPZ0rhKkfg+xNN91UjjzyyPKpT32qHHzwwWXcuHE9V8fPHXfcUU499dTy29/+tjz00ENvyMR7UqFv8n7//fe/YU4DBs9ZZ51VRo8eXa6++uqajm5Aus8+++zyu9/9brzpVqaPPvpoNeYYblMrjKsrr7yyHHrooeWLX/xi+elPf1puvPHGVxmw+sfpp59e7zHG9zZuw7/DmfbII4+8Yf1zUhgU4/WGG24oxxxzTPn617/+yvHNb36zfO9736tiobHxGEwJ6Ng6+QMPPFCFYTDRAK677rqaZ0ZyX+G3WSHPi3TEcA1h6kK/Z2z+4x//KOeff379rp/fd999deJ65513lo022qhssMEGZdFFF+156v9wL20ysfVsW50xyTW4MACn5MFY2q699tpy0kknVaOieQwZEX/5y1/K5ZdfXnVvMOGRZpiee+65VXf7Qhky7JSf+7vFw9SZbuNLX4aFe4yvjFxt5rbbbuu5MmFMprTTSy65pHoqp2S0I4apPGpnG264Ye1H888/f5l++v9vyrimjd17772v9L0pFW1RHfz+97+v2jDQlZjBRF8Qt/Zz2WWX1XbWDQyK8UqML7jggvLPf/6z3HrrrfW7Qye66qqrykUXXVQN3Kndy2igaR6SzPhCmDZhYDA2Lr300nLNNde8YnAYeJ2fccYZyzbbbFM23XTTsthii9VrjTbw0lPPvhGD2WvBQEj3zzvvvDoGNOPbeXlhTAy24WhZ/YorrqhjDYNlWkSZKlvHxHjO7rrrrmqwGJ+ndKNF32DIszEYrFtvvXV561vfWhZYYIFXGa/dhLZ79913V0+x/vJG2Qzi1T99douNNmg1ToS322678j//8z/lZz/7WT2+8Y1v1JmRmfiZZ55ZG57KUkg+CZu/dbxOgTMb0ZFc1xGd9+kZn52Fq7Bbh3W+3ef5FsaEGoTn3ONez4i/patd9108Ptt9Pp3rjLel0TV/tzD6wjXPi8/Rmb/WmNp3tPOe8elocXam3fXxxRtCeP3Qb/VJXkh9es455ywzzDBDPd/6Njr1wGfTmt4a4Fpnf6cDnf29M5zeOtUX7X46Is72XAu7dxo772lhO+9oetS0yb3yuuSSS5a99tqrbLLJJtXwQF95aWF1XhdOu889nfeJx3nxOFqcLYy+cK0zD57pS2dbujrvabjHd+fbPe7vXV696R137zyPj/7SjXnmmae84x3vKG9/+9vLKqusUs+18ussX8+3vHre0crY0dLf37Od6XSvc45WBy0s1zrvFadrzveF+DrLU3z+bml1CJ8NgZlmmqkMGTLklev9IT5pE55DGqTL4e/2vdHOt7z6lA6fnm/l3sqp4e8WV+/ycq2vsNp3z8iHT99besYXJlqZtvS29LXwOtPne+97POcehv9aa61Vdthhh9o/6RPE4572TO/40fLVDvc45GNCdfName5fgfcbuuXvESNGlDFjxpShQ4f2nP13LDtcfPHFNSP77LNPmWOOOapgyYyZMJc4b4OOZY+X5QmN0IZrorbxxhuXpZdeunotLZe5R2Etu+yytUMutdRSdSntxBNPLFtttVVZddVVy2yzzVYL57TTTqth6bDLLLNMNZTb8omCd174vBwavNm5JRKznfe85z01Xs9bzho7dmxd6pJWS3qbbbZZvW5J5vjjjy+zzjprjdPeI96FhRdeuN4nTeKVdjMoWwIWWmihmt+dd965hqE8oGJ5VKTbYCZvvBQqe/nlly/Dhg0rK664Yp0NWwKT19VWW63MNddcNVxLY8pvvvnmq2Vwxhln1HS5ZvY8++yzly233LK85S1vqeUx3XTT1XhDCK+dkSNHVp2giQbPvjAw0AgrUfPOO2/Zfvvt69+nnHJK9RDSSX3dYLHFFltUzxFuvvnm2p/ppS0G9Gr11Vcve++9dx1gbL+iU7SY3vCazT333NUDZfBZZJFF6mDhPA1sy+h0lIeKI0FcvTXh9ttvr15iYTOCLCHSW0amNL7pTW8qCy64YE03jeGI4BmWxhb2uuuuW+O2N9MSPn2lWTR08803r1r0xz/+sYa15ppr1nhsg3DvOeecU8OVNoOngy7yUtNxernSSivVv3mnaJxwheP7n/70p6qXtNlztP6d73xn1eCmu/TVVgbav8Yaa9SyVjb0WBkrQ7qrzI090uQwXqjn9dZbr44jylldGBPUwd///vf6ychQFsIRnvz1xniobowRViOtzhlD3va2t5X111+/LL744j13/n+k++STT67ja0s3z6M0GhdauoUtLbPMMkttW8qLB197kg9L08ZlS+2OJZZYou6fVpfqXx61DysC8mpsMkapZ+Oydiz/0rnCCivU/MqH8dI4pF3Lv/wIT9oc4oExTjjulV/l3IkxWBjiVJ7SIw/ajvKUHm3lsMMOq2OdMU/4xte11177lQkRlCubRN6kWXjKTJjajfyrQ+FJh3YkLu3Xtr+2zVF5SI+/3acO2BTu1W/FKx2ec4/+JkxlLS5pNw6rV/3Jthna4Bp90Bf0E8/IkzFduOwS/YV9pF3TG/Uuj+uss06tI39LZ2uf+oq6EA97gyNR+dAH/VZ8TROkVV1Jm/i0C+1Rf9BntHF9TDmqN+UofGHJszLUz/Q3z2gjbBJ1q60pI21SPas7YU0sbEC20KhRo8rw4cN7zr6aGf4lxiN7/v43NCYdZ/fdd6+Nsj80DJWgEmVORRNImVAAwlHAGr0CJ1REQydTCCqCEBJ3iIsnVxgKhQB5XkG6VyUrEJWgsDR8lc1QFhdRFBfDWBqE4X5i6po0eVbBtorVyd0jPYRaYxIvMfCpMwhfmjQO9xAWnUqlqjgdQqeWHmLu0EhcawOG6xqYCicuwtJgzHYIkHKUF+kkdBqN78JQRjqTDqPBiYfBrLzk1f456ZV2+XZOufUerEIIk4YBm2DTxGYY9ab1cbrYBlk6QysIPh0y6WWEMjjbQO6aZ30a5Az8BlpGi/N0k77RA/pDB/VtuuRvBgZNYFjTCt+XW265mobmEaEJdKpTE9zLeL3wwgvroCNNdFb+GBy0pmmnsMVBa4TtHuG29Eqn7z7pq4FQeuXfdioGqmflUVkKn2bRa3HQZXpNF30aVKXNc9LkU5wGc2VAe313r+srr7xyHYPkc+aZZ34ln+JTfp6TVporHTSfAUx/xS8s2swQ8KwxSnnQavnynHAZOepCnUqr8Uq5Ok+PhdVpoNFj9USv5VE+PEfXlavrxh7xd9ZNSzeDSPzClh7pNj5ItzLgcDE+Csd3dW9sVL7SoXyVj7qTF3VlvDbm+GRgGa/kV90ZZ4w9wndOvhlTjGaGuTDVi/FcGUiX++Rb25cnf0urPBhfjUvu0x7kE+I2jipzYWknxkzpUQ7qS3zaiPJ1r3IQBkOac0dZdpa18m1GqPjkW1tRbwxr4Sl36XGf7y0+fUC5Sp/2wXBUZsrLoZ9pP9qMOheO8mRkmvzpa80+0K+E45x6YUu5V3rFp070rWb8MmZNHORfOTA0Gd7uEabyFI56Ua7qVrzaqu/S6x5lr6zUnXbgfoarT+E45FU5Ck/dCqMZ+NqhOhQ2I9J1zyhHbUD7UJbSxV5RRvKqzylv59WT9i4v2qr0TAzCO/LII6uh3p/jdNCMV5lnFKpMnwqWyCt8ld8qS0dUuBoCj4RzCsMMgneCVc9iJ0AKSINQoO5XoApB4WhECs6sXOG0WYy4NOx3vetdNQwdS0NTmCrF92a8avgqw4zKsyx9BwGU/tYINEQzdp1QB+UNFraOr5ClX/yuaTA6yPvf//468BCSTjFyr3wIj+DwkpqhaRyEQedRWfKocemABj/lKo2MaDNF9aEjEBCeBmVmpqgR85xIu/xqzE0oQgivjUkxXmkD/TLA0jSDwHvf+97qwekcdPXxNlB4ng7wLDnHOGseJN4SfV64njHwGxCbJjI8DGS8cvSMJtEzzzIopaEz7fbi0m/P8tjwpAqbdvB2ikPY9I8e0Tlh02oaRl8NVPTONeforXsYGE2raFsb4OTHSprBVTgGKdplRcvBiFaOtIwxwbCSLsawdPFWGVNoI+Oe3tF9kwLeNsZOX0YgbXaNXrqPRso7A0K49Nq4p17e/OY3v+LBkibjhnJwuEd4ytk9xgOabTwyYKtj8TQYCcrZWGM1UJ7Vofs8YxwSTzPSGr3TbbzgmdZGpJuRI90tTcZK7UWdmyx4Xjvacccda90od+OM8lVu2oL41Ld2ZazTvk844YR6v3PKyt/SoJ7F4T7pMv6Je9ttt63hKT+4Jl3qiLGnvqRf/bm/5VH65J0B5FOdaAvCUn8MKO1J2zBZUl/SwMjjXW/9qpNmvCof9aKc3S/NDHxpZHj6NH5qg9IpTYxs8covo1ab9am+mm1gXFbW8uEao5Dtog2Jy0qsvi0N7pV+ZcEYdT+Pp3pk+zSDWB9is2jj2pE2z+PJxtC+3C/N2rn+Lh3+1q/VqTg9K159TZrYRfKlXzNelf9OO+1U248+rY+qG/1GfIx56ZQmaVf2ypa9I2z30SV9QZ6kp9lP2pE0ai/qSB20VQ551mYmhoEYr4O251XhH3fcceUjH/lIFfY99tijfOYzn6nGrwJloGksGoiOo1EpWBWlAFSEymRQEjedr3UuBqeGwWhzn7gUus6kEAm3QwPdZZddaiMzaDhUhPA0eA2hEx1HxRIlHVT8TcCERTxVKuERP9Fp4qnyCTHx8rx7JgbPyo/8SifB0Rg0Fg1e/gmbBiXPrYw0OI1dGjVGae4US41aOpWrhj2x6QohTJno44wMh7/pkAHFIKWfG7B46Ghh20bFSDXou5/RwoDqSxPoCS3xDO0xoDN06QkDiVPAoGRbGKOUIUDL2wSZRtMmOjkhpIMeQ9qMD3ScVtNTA13TazomTYxg+ZI2hgxNly7jwMQgXwZZcQnbwGqcMRYwAnxnLDAkLNHSY+fcr4wM3uKVRp/GD9psnGJgf+ELX6jPSWcnrsvHxz72sWpoCE/YxgFpUm4GfGH2hTRIt/tbutWPdKub3qgbcQqTIeBT+TFid9ttt1rOvY0+uE8etRttSP24z/hkzFbvHErqEM4z2KRLnpWR8UhbUC4MKWOY9tHGuWa4whhr/HS/NCk7Y6twtAsTIuO8ewbSthptfDaOay/KrLUbxqmw/C1v0qZfyLs+pG7Vj/uUszYuT83WUO4mNow47VT5+lta9SFx6W+MLnmVfhi39ac2MRRP5wSrod3rx+pPGXhG2bEPpEubZwuwE9rkTz0J09GMPe1C+YpHO/GM9PpbXWrjJh3KuqVDuQiXjaWOGY/sNOUp74zTZhfpL9qriZQ8aS9sEOXa+rEwettdg8WgGa8yaCZ0yCGHVIvZ4e8vf/nLtXBlvKGgOhuwAlCof/3rX8tnP/vZ8sEPfrAavx/96EfrPiWVr8A1RqgEHcysXIMgCsJ0j5nST37yk/LhD3+4GtEcy5Zq+kJFeUZF/OhHPyof//jHa8e2x8zPfbUtCSprYjrOYKCxaJg6j46lDKSliZ2G3RfKtXUKjbw/MQwhTF3QKEYAD8+BBx5Y9Y+e0cLDDz+86qUBh55NiKbRBnca0ibwvIRHHHFE/Z1aYX/6059+ZS/fQGnp5MW1p82LXMLac88964u+PD4Mntd74i3P0mbwtoXNzz1Kk3L88Y9/XL107T7Gi3GNsfC///u/5atf/Wotc9scGEHu6Y388GoqP+VmnPuP//iPWn4MvcFC3Ayo5rViiEjb5z//+XLUUUdVj2Tn+NtJGy/Ue++VBWOSsYWxJy/ube2k4box2Riljhl14ldODFdhdJaN8haOuBiHwmrXhcWwEo72NZB2O1DEx9hmeDGulEkzXKVdvP0hncpHuqRJWbBfvKzOZtGWP/ShD5Uf/OAH1dPb2eda/jrLoC+UCe8uG6r1YxPH7373u7XfDLR/SCfbjJHKANfW9t9//3LAAQdU20q5qoO+kNZmS7TvjGj5ZzfJ/xvJoBmvGqVZgRkyt7glbEs4ZrUabaex1bvifGexmxmZ1fBI8nCayZopmtGY8Tl4GYiDmYkZj4YmfA3Q/gznwaNpNmDm4np/tLgtE0grUWpLDV648l1lTaixDTatE0mX2b1tFTqX/OhYnYLRm9YYO4UghDD1o8/z+ljdoqP0izeLlhnAaKEBbUI0DWkGioHKBJoBx5vC0yNsS93C7G3ojA/hSScdo290uukuryTPLocEXX49kVeeQsY/zW1eLOUoPZ0GDacCL5uydd3fytXyrH2axqhOlB8niWVpxjGjyXPC56mi94OJMauNp8rV2CYPjB7LuYytvoyfNl4oi95GDYPFgc5xxd/tu3bAFuCtZLAxtEx4GLTSI12dtGfF1Y6GNHSmsTPO14r2xyZh0IlHGo2xjH52BiOtv/ik0TNtfPXpfm1ZfWrL7Je2jK7sO8MaSD7co/1Jn/Ba/zBheve7313jUs4TQjjapfYpTcKRHnaU9mgLgrbau67Ruz4g3+14oxk04/W1oHA1GBVvr+gnP/nJuuXA7N7M1x4N1zUsQqnz22fBYCUoKrmdIz4qx/KM5+0ZY8j2hUZHILnjNQqzJTNicZtB7brrrrWyNfKBNLhGq9y+GsRAaeJucCCkRIDxaglBOUiPOAwk8q4sCItZnjIgHMpFOCGE7qINkBOjIQwDfd7AZp/afvvtV1ey/GLMvvvuW98x4IXpa9WGXtARR/Mm0RFH0xCOAXsZGSZtWxiPEOOzL+OLHvWVfgaOwdPAzFDlGZZO2mvbmRU8xvdABudOWplNKtJrVc9eQ3lmfBiLPvGJT7yy1A9xMAIN+tJpjFEOnDW8ZbyNdLgTOm0bV9v3+4EPfKDml9fZuMf4GSyUg/GAx1Ndcyjx3hlbtQ97py3Du6fd3+pKGzIeq395kG75dS9nEa+ryVGnR64T54ShDXpOeXghmvHalxPJ/W2SIi7lr/05rDTKg7biGOyxTHgMeu1R2+Y1Nylha7TJWGe/aOWqT1gNVZbaqLqzTG67ovpsNkRry+pXeOOzIVrb9SldwjXBsd2SLSI84fr7fe97X3ViKZMJoV5bP5YvGqC/sanEZU+7em79RhqlVZ34m+0h78IxAfNdmbje7nmjmCIsG52BC9+yloZuS4BGQiBs9NYBFJyC0im4um1G13gYeDpbK1wVr1B9avyWabyo0BcqyaxX/F6E0oAJkvBtWCY0xLpV7EBwr44v/dL0WtCAeTg0PMInbQztNvjIr7w5dCbpJkwOIkNsB3tGH0KY/DQD0mGQGQgGM4YlI4MGMKI8Sz/sU2SU0ZC+dIlW8hh6xj2WsXmiaDJjhEbSG3pCf2in7zSTgUF7OqGDbdDrDX1myLjWDGJ/M16sntH8/vbmjg+aK00DLa/eeE65C6flU7qUp7LhqXKPdPGw+kkzY4SyMzaNz7gSjrCVm/HKp3gsV7eXbgYLZa/8jjnmmPrOifKVbunrK43uV/bSyDFii5+/jcXqR36Fx2NrbDZZMTb1l19lYexxXXtSbsZ343VvtC0eWWXNMOKAkhbloWx4wRn7xj1lNphIn3ao3zCarSowXrX1hr5jxUH9Kwf550jSn/Q1BqH75YHxK836gnu1ZWXWn/3RaG1Ke9BGtD1hKwf9WB8Upn6pLtVpf57z3njO83/4wx/qVhhtVXzjMzoZ4ya5ykVc+re+zB6jIeqBsa6spnnjlQHKW2qWosP4t7Jm4vahKmyFpMMrKI1FY1a5PKquaYQ6nTcVdUQVZbbsf4frfCqDqOmQKq4hPJXUfrbGz8B85StfqXtC7A3RkHTk/jppb8Tjfgbx0UcfXQ8NX5omBY3Y1gH5ZcTKMwHQ4eHTdR3mV7/6Vd3T9Mtf/rLeY6uFtAx2hw8hTD70+ealsvfTnlBGpIFrQjAKaYTtATSHFthTab+jgZQeuKcvTWA80FgDsL169vz7NQBLjbSZBlkFom3eDPd/5f/rv/6r6jVdpZHNODOQG9AZdw756EQ8dNxvyEqP33+l11/72tfqHkE6ythpOjchhGdFivHj97jtQbVKNbG6Kz7p4nFlUHp3gqYee+yx1Zg3mBtH3KdMOFIM5t6r8G6HdzZsdZMWutwJTabhxhmOEnlVxhwzzWBhjHSOT5OKujCm8tqpG+WhfL/1rW9Vj2vbBqHs1ae0cgb5XXd1xTDxW6Oe9bu9PH72Wkqn/HkxpzlQ+sK4qv6EI8+WrLUH8fWmjd3eZlduJgXKsr1zYhyz+qleBhvplA/tVV0yuJVHp8dfW2S4SYt02SuqzbM12hY+z2kz+ixjz0t7n/vc52rbUGb6c38oE2UjXm3XnmTGonNWg9kn+hB7SDtjozSDeyD9Q/jKX1pNIuzjtprARtLWeIubDdVQLlYUmg1x5JFHli996Ut137dJhZfgTGAGahdNLgblp7JUkArXCHQKhaoA+kKHUPjuVWggeBqJShYWfBdnE04NHMJ2KFRCoJLbTLbdA2Kg4i1NOXQkaXOvBus53zU+DcEhbuEQGtd0JukUloqWDt/dC3kRlrQYNJSBtDnn02zRefd3loewpMN1R2sEzmtsGpqyEa/neIGFrUE53G8wM/sysyUQyk7ahWcfFsNe3t7oBhbC1MRAfipLP3bQAbrT+ji90L+bXrjeG/296SeN0O/pAW3zN0NDf+98VlxN42iXfi9t4vNJR4VBO/rSBF41hh8vE92gO+KSxvbPToTrnPA8L43SQiPprCVOBoD8ed6n+F2Tf3orT+6RHvlpgyYj0zX3tIG2GSuuO+855eG7/EK62kCuPITjb+ekXRqE25Ae+ZBW5SAPLSzfpVXa/C0sccmz+4WnjBkqytk9xihhikO47rFE7z7564xbuUmj8KCMlJ+8NuNJfqRfvJ2IQ3zSocx6p1v50n9pFpb0KTPXpMG9rRztgWV4eEaaHNIiDs8Z45RDp7EoPuXiubbHWXjNMPOM/Aur4TpjifNJ3tp41Bvpcy9jV3m2tqBsPMdYbnXZeb+ykF5p602rO/FpT8L1XTk4Osdx5010GGXqzNgpT8rDORNH9+lzwlX+2rx0aQvapENc0tLiVh5tvFZerjkvL53pds7f6sCnctZ+5F8Y0m5S4z71p42wiaRRWUib8DwnHZBH5dXaqnu0PeGrM2EqP21BWPItvz61C+lVH763fux55z3D7mptAOL1nKOdkwbxKCtlI38Tg9UORvP4fiprUP7DVpg8aDSWDsycNSQdRmfUaA02Zsl+09EGbrPTiW0gIYSJw1yf55EmTi39zbKivW9WqbzRbGDqNERCmFgsV/Mwc7zwUjLiGERTGow5WxOkk0HL28gw5G1lfBt7Gbt+H1X6jb1h8mOliFd4fP9hK265KRgdiGfVzNDsxqCSzhNCCGFKhffRqmD7/VYewOY5nZKQTttB7En1aTsEb2HoDmK8TqH46Y4///nP5de//nVdEjBz5f4PIYQQpkQ4Wuz9/c1vflMNQnumLRtPaZ58aeNx/cUvflHfS7F9o3PpPUz5xHidQuFhNVvlbbXXyF6Ztk8GZoj2JtlKYA9d22sSQggTg7119hfaemRPZlZ3wqSi7Rin2n5eeyQZhFPa+CSdDGpbAVo6255uyINr7Td8syVvyiN7XkMIYYBMjXteQwhhSiJ7XkMIIYQQwlRFjNcQQgghhNA1xHgNIYQQQghdQ4zXEEIIIYTQNcR4DSGEEEIIXUOM1xBCCCGE0DXEeA0hhBBCCF1DjNcQQgghhNA1xHgNIYQQQghdQ4zXEEIIIYTQNcR4DSGEEEIIXUOM1xBCCCGE0DXEeA0hhBBCCF1DjNcQQgghhNA1xHgNIYQQQghdQ4zXEEIIIYTQNUz38r/o+fvfGD16dNlzzz3LpptuWuaee+6esyGEMG1y1VVXlfvvv79q4vTTZ+4fQgiDzaOPPlrOOOOMcsQRR5Thw4f3nH01EzRe995777LjjjuW+eefv+dsCCFMm5x//vnlrrvuKjvssEOZYYYZes6GEEIYLB588MFy/PHHl8MPP3zSjdcRI0aUMWPGlKFDh/acDSGEaZORI0eWsWPHVk0cMmRIz9kQQgiDxbhx48qwYcPKqFGj+jVes+4VQgghhBC6hhivIYQQQgiha4jxGkIIIYQQuoYYryGEEEIIoWuI8RpCCCGEELqGGK8hhBBCCKFriPEaQgghhBC6hhivIYQQQgiha4jxGkIIIYQQuoYYryGEEEIIoWuI8RpCCCGEELqGGK8hhBBCCKFriPEaQgghhBC6hhivIYQQQgiha4jxGkIIIYQQuoYYryGEEEIIoWuI8RpCCCGEELqGGK8hhBBCCKFriPEaQgghhBC6hhivIYQQQgiha3jdjdcXX3yxPPbYY/V4+eWXe86On4cffrhccskl5aijjio33XRTDSOEEKZlXnjhhfLEE0+URx99tDz33HM9Z19f7rzzzjJ27Njyl7/8pTz99NPlpZde6rnyxmFckZbTTz+9/PnPfy733ntveeaZZ8rjjz9eHnnkkQGPO8Iw3hx55JHl0ksvLc8++2zPlRDCG82gGK933313OfPMM8vo0aPrcfTRR5fjjz++nHXWWVXcCAcYnYT2sssuq8dAxc594iAgDNnXIpCeFcY555xTbrnllir+IYQwWDz//PPltttuK2PGjHlFE5sunnDCCVV7GFQTY3DSzRtuuKFO4p966qlqgHEAXHvttVVL77vvvgEbZQNBHh588MFy3nnnlVtvvbV+701Lw80331yuu+66akwPZhomFWmQXum65pprqsYzWq+66qpy0UUX1fIbiANEGA899FAdd+65556av9eCcfDKK6+sdXb//ff3nJ02MQ7fdddd5cILL6yfzUYIYaAMivFKuH7/+9+Xgw46qPzsZz8rhxxySPnNb35TTjzxxHLBBRdUw9OsVYMlwkTEQUReiyE6KRAtnUV6iT5DNoQQBgsD8eWXX15+9atfle9973vl5z//edXEQw89tHrxTOxpzwMPPDBg/WOcnnvuudXDyWD0HE8ig/aKK66oYQ2m4SgPt99+e/nDH/5Q89LNXsdmZDNk5eXJJ598Q1bvGNG8wWeffXadEEzLmAgw4vUF9kOcSGFiGbRtA4svvnh55zvfWUX6iCOOKN/61rfK5ptvXk477bTaYc2CZ5xxxrLEEkuU973vffWYd955ywwzzNATQgghTD2ssMIKZY899ii//OUv62SeLn7pS18qq6yySl1q5wVkSE0qNHe77bYrH/jAB8qqq65app8+rzD0xXTTTVcWW2yx8q53vavsueeeZf755y9DhgzpuRpC6Eam+9estN/puqWuESNG1OWvoUOH9pz9d/7xj3+Uiy++uHoD9tlnnzLHHHPUmZWlkTPOOKNuHVh++eXL29/+9roFgNcBb3nLW8oss8xSPQj2Fp1//vnVS8vIXWaZZcrGG29cFllkkeodFf4pp5xS3vzmN1eR5hUgQL6vscYa1SgmUry5tgPw+JrdCmvZZZd9JS7hMKgNHMJea621yqabblrWW2+96l24/vrr6zXPzjbbbGWllVYq66+/fll44YVrWNJipmi5g7dj5plnLsstt1wNX3gzzTRTzVsIYepj5MiR1fCkif0ZQPSMJvLy0aX3vOc9VSfAA3jjjTfWLQS0a8stt6yTeN7TcePG1Uk+7WSMuk5TbBX45z//+cpq1TrrrFO23nrrarzSWKtZK6+8cllqqaWqBtMlYQmTnjLchPWmN72pzD333FXfLIeTfsvp9NJzSy+9dNlkk01qHDRaHqVVGjbaaKOy/fbbl0UXXfSVvHieN9OWMdsk3EM/5VGeNthgg2rAzzPPPDVP0iUvV199df17vvnmK2uvvXbV74UWWqiGZ1VMPumrscI9jH36alzpy9lh+4X4jR/KD/LCs6eOGPe0nJda3XCqyIN8es7WiDvuuKM+p76MOz55Z2k9b7k0SIvwbSdYccUVy5prrlnPG4+k1TjHO27skJcll1yyhsVYVo7KU1zGKeWirI090ugZY5b0GGd6jynNy65c1KlyMK4pY/G0OulEnRonbVWw9YE33Timba277rpl9tlnr+fEzRssf+LxnLF6gQUWeFW42rPtE9JvHJRWY2YrM+3RGOt5adWGlJ84jOfan/FUff3973+vtoFy0T61Hcf47Iww7UC/hg0bVkaNGlWGDx/ec/bVTLapuka/4IILVsMPOhxRc+hMDo1Yw9bACSrh0nnstSKCRJE4ExHiZ+nMQXB5LHQkxiiR9l1H0mmcYwyLi0g7p3MKS3ziFSYRaodzRFUn15mFR2AJIFE0QAiP0NuzJm5LHZ0DxWDvOwshTF0wdBgrdMIgz4BiENEdnzTFQR/pCt2kTTSKBtKtpl+00uBPe2hmO8fAaXrUjCrhMQqFIR6axpCiX+ITD+PEfTSzaWLTSX9Lb1/QSnt4m8Z7Xrq88+AcXaaf4mTsilO+6T0DR1rbPTSYgUvjpUvam74Ku7e+SpvwaLKwlYOwpcH9wvWMNLb9wc45msOEgedeBpl0GyukW1nJs2eVpXiUp/ukxzjTzhkXjGGel3b3KOcWlvhaHTr83crVWCfP7m/l55xnha9OGdeMPZ++u0caHMLvXS7qTZrlV722MbNNDsQnLmmX/5NOOqne67r7PN87TMYqA1u9qm/10+LQbqRVPtWZ+5S3Om2TBGlVv+5pbVo8nX+HMFBmGMmV0A8a28knn1x23333OmPrD8Ze60Bm0maKRNoMzQxRw9Zhzb6gY8JMTEPWGXTKbbfdtuy66651RqtB2zPLo2A25zqP6YYbbliXynbYYYc6O5VGRqnZp/jMbomSWev73//+6lkVlnyY1fGwClPn23HHHcs222xTVltttdphjzvuuNoBzYbl2QxVp5c+M0aGr45vdi1sy1DCFL9OPOecc9bZp3SEEKY+bIFiqNCH/rY80RuaSLNoIY8onTOI00l66Dr94t0y+BvwaZNtBm9729vqdbrCY+i7e3lNHfvtt1/VJvEwPBgRtNU1RoJ9qrxotnHRKZ5P5+kizaW/8uB5eksDeSppH+Nl9dVXrx49XkVGEp10X1t96sQzjDjhb7HFFtU7y2Eh37zPwpUW93nzXzppt/B4cRk48i5OGsqgZvB89KMfreMBj6xnhU/jeXQ79ZUhJz/2Tho3bEczPsw666w1j4winmr4rg54HeWdkU/PeRl33nnnmm5h8wryBvKY0n9eb98322yzGr4xRT0qT2Urr4xnExB1+N73vreOU8JiFMqzZ4yN2oE64FXidTcuWlFkuHaOWe5znofWuCqPvu+yyy7l3e9+d41H3SgbkyFxdJaLsUr+HDys++67by0XDiWOF+nlPeZkUufqyjjIKy1tbWtFZ5icTM0432mnnWp4xtI2/nlGeCYE4hWefqJNaDfK3yHt8uh+kwP5URbaeAjQno488siqTf1541+XTVKEgmiY5XXO3nUMBh/x0MgJmI5G7IgFUdAJdWQibnmJaBNRncSyic7dhMpg4X6CR7AsMxkciN5cc81VRZHQ90b6iBGhEy8RFL54GKPSRCjcJ83y0Tyv7tGRHcS+s7OHEKZdrPj8+te/LnvttVf54Ac/WA1TvgKD+1vf+tZqRNEmk2VLY4wnWuagbfSLcdKfx7M39IgRRPNoEYOGgc0oYCjQYJ5JOmepl4FF72grzaSlwnAwqgYKDaSZbVsCA1O+5IN2S7/vH/7wh+t2B38zZqTBvRAn7WSoMUgZtPRWPmgrRwFjt7e+upcW02nplxZGlzjkzfjSFzSdMWqbm7S3iYHnaL90G0uUn7Ix7ihH31v5WtLnSWRYK1vjljJl0Pqb4e5veZPO3ihjThRx9Tdm8Y5KB2eQ+wzqzgmfUahspL+zXJq3mGGuzKSpGZbaFUeMMUxY0mWcbXWoDJVNcz71Rp5tETAhk1bpYKRKo/FVmDzl2oLw1K/6MLarI2WhvtwfwmvhdTFedXgNuPdMDq7pKMTqt7/9bfnud79b39D1awCEViPXGd1DZB06m+/EUQcSLvFwr1mkmfJPfvKT8u1vf7v+AoLfh7WkxEB1X28Ipmd5MU499dTyox/9qBxwwAE1LdJhxklkxEu0iB7Bsm/NyxiWcwit6311+BDCtAcjhEHCy8gb5+A547HifWIw0Aw6Rk+s/NAcL7v+8Y9/rLrD0BwojCHGiOeOPfbYGtY3v/nNqme8duJg+LiPIcOw89n0WTos3dLb3kvG40MeGDwOYTmES6Ob4c1YpY1WrX7xi1/UPP7whz+s36XJfQwhHjnePB5Y2uq9C55pq28tjE7kpTk3xC9e9/h09PYUN9q4w2tI47///e/X8jJWGEPauCMsZSN8aWjflZ1zjDH3Gh/k5ac//Wk58MAD6+EFPV524bmvN8rYuNHXmGUsbGOWdDIqeaGkV9vwYrSVSOH2HneEqx61BWluBmQbQ6Vd/qW7OWSUlbFUG3CtM7xOhMOodr/7lK9nxKkuhCde9zhanQlb/UCa3RvCa2GyGq86vxkedCIdRwdqaPCuW4poe74ILEOWx4FwT0hEe3cynYIYCoMnljAQN7Nm4qjT9Yf4zB49y5D1rDy0GbTOyJvBeBUWQ9jynplmewmhiXUIYdrGEq3ld17XD33oQ9XzyoC1DYBnzaDPQ0b/eMl4aukO3aIlTTsnBnrJKPG8cBwMK3HxutFgRsfrCV21ctVe1mqrZPSVocPQagYOLx6Dn063PagMQIace/sbDzzfn8HVF8pIOqTJ8r9xR5p4DhlgAxl3WnzuNe4wyjrHHd+NHbyexr++8KzykbfeY5b6Ms4Yd3ipLa3zfEq7dmLLnHajfnuPOy39vcul87ty78xn73snFWH2Dqfze+94Q5gUJpvxqnG2WaXOpvOa8XUarzocsbCMZinBvhwzYJ6CT33qU3XZp9PYdH+nZ6DNup0zwyPKOjxPh1m931c0y/f54x//uO61snTREEbrRJ61B8ibqeL3XHvWjHyrrbaqQqIT8ph4g/g///M/azotw9isT5ilJYQQJkTTP/vx6dg73vGO8oMf/KB61T75yU++slezk07N6g1tpbMM5k9/+tM1HBrm8+CDD64/00WrGLCvJwx0BuLf/va3Ovn/whe+UHX1f/7nf+q+Vp5BeVIGvIg8r7YY8Brvtttu1Xj761//Wo273voqz7Tbs8abZsT5bONEXzDu7dW1l5Tmf+c736mezy9+8Yv1l3E6jU3htHEHLa0Onkhjj8mI8cXb0X7rvLPc7elkxHYiDGOJtHOstDGr1Vkbs2wNMN6IWznZxyyN+++/f12aN+bwTBsLO/OqXKSNYWz8bdd8NylyiPv/tXcf4JYVdbr/q4Em55xzhgaJEiXYKklEUZkWAQEJIkLr6Dhz1bG9jveawHbGURySJFsQBQUEtaVBcg5NzjnnnPnzqXuK/+HQ4dCcblnd7/d59rP3XqtWVa3aZ7311q9qreM1UDgf5foN2+/RyvVZPdpv3NsH9K53CP1lsphXf4wWdbvL0ZSMUb81L0Sz74jMxQQXmhdMjRhxExh/9BDlbCPNtmbGyFm0woVIFJldQmIkakRNNKUzqtZBeO8dzXAhKd/FRCBcUARSOY6TVj0sJTB9I8pqYfthhx1Wxdjxfc8nhBD6C1NEa2gQw0Q7RRzpGs3pTUvLqDQj1RvTstYi0j83QtEr6cxE0WJPb6GJ/R1gq4uyaKT3SUUdHM8o0Xjv8qStIo2ijtKor5t0LXnQBo6hrxPSWAER0Ui6rc30DfJuM2fOfVxI4/z0F+qkjPaUGwMK2g5tpT9iEtVXnXwXCdbO1sKKigqy6K/cqGT2zvHKt1zDcb2Xq+nTvPQ3ovPqoN5mH0Vr+/ZZzsUNVpYk6P/0SxNqF/n6W9DnytdyBuemTPmpjz5ZuxkYDBTKFeBxg42/N6aaD9CG/h79PYuuCyApH3535/Nu/r7CtMmAPW1AWn+sLg4XcHvMC8Pa1jH57OL0hwwLul30/sAJgQtTHgTNNJO83KHpApOGgBh9uiA9RsTI2QVjHaoLhpDBxU+EGFhpmFzp2iJ4wkWgGFAXNfGysJ2YERn1cw6OVRf7jZzVVf0tbyAA0rTHkDDP6kGMlBVCmPp4J08boGn0holgUMZlNnTa9IhW0h16QvdonE5fZ+9GVdrU0si3GV2faRL9YQpoFONEk0y300nvDFW7IcmaWBpJSx3nPJhaedE2M1ACAYyFtE2PaZv8e593W56gTFpNKx3HfNJHUcxmVpg+56Cv8FInxkx++gKGSzna134zcsrXRkyiPkR79m5HWqttGWBtpv2YQPWi8fLUfpAvfXejnHo6Z2l6t7s6+e2Ux9w5L/2Avkt6dWIGnZ+BgpvsLAtwDn53/YI+zLkz036jdmOaz34XfROz7byUof7KGVefpQxl+71sUzf7naP2lLd+R//V+p1mbLW5Omtz5+fxVcrw+4jaWqKhbL+7/lqkX320zbjwW2gfS+j83RhwMZ7qoW7+tvze/s60j3PUFtrM35XfQrmi//6O/Gbqpt93fv6mtWUIrsujJ/K0gQExr/6gFeYi8Ifss4vRH6I7aQlB+6N0gTch9UdMjFx0BNgF5Hh/5Mpz0RJ+F4s0BMJNEC6MJsAE00UnvYuJSLj4XOTSEDEXhYvGxaUzcGFL44JTH6NFFx1xJjC2EzTlqF/7Jwjq0aaTiIB06k04PGDZBd32hxCmPvpjXpnOFk2kS5YySdvXvPpOs+iPKJ18dfi0iabQI7pJm3T29I4m0VnmktYpQx5MjvQMi2OUzzzRMRrHQDIr0hiwO8Yd7sxKM14020t56t0MHlNou5uG6CHD0+rPDKqXcplLx9BQ6ZXjmKad0jO6ggZMnO20Xh0YZmXST3nqC6SF9vN0Btov/96oi7Llr57Mo3fnph0EHeiy4+Qrf/2RQIdjmS/mXp+lTbS7NC0QoW0cp47MprQMtjZiXJ2f9MrXXzHA2t1vpM/S8aqD8trv7TfWB/qsD1Smz35//UrvPsvv6neWt/oyga39nKM6aDtt0Bv19lvJx2+oL/c3phy/k0diqbPfyu/n70Vd/S2237cvzlu+2kWdtak2cbyX81RfeShHXy5C7Xydg/Np/xxBPmhRWX/f8u29rC9Mu/THvA7If9gKIYRpAWP9if2HrRBCCJOOwes/7D9shRBCCCGEMNDEvIYQQgghhM4Q8xpCCCGEEDpDzGsIIYQQQugMMa8hhBBCCKEzxLyGEEIIIYTOEPMaQgghhBA6Q8xrCCGEEELoDDGvIYQQQgihM8S8hhBCCCGEzhDzGkIIIYQQOkPMawghhBBC6AwxryGEEEIIoTPEvIYQQgghhM4Q8xpCCCGEEDpDzGsIIYQQQugMMa8hhBBCCKEzxLyGEEIIIYTOMOj1N+j5/DZGjRpVDjzwwHL66aeX1VdfvWdrCCFMm3z3u98tZ599dtXEwYMH92wNIYQwUFxzzTVl6623Lj/96U/LsGHDera+lYma1912260a19lmm61nawghTJvcdddd5YknnihDhgwpgwYN6tkaQghhoHj22WergT3qqKMm3bzutdde1cAuuOCCPVtDCGHa5Kyzziq333571cTppsuqqxBCGGgeeuihalwPPfTQSTevw4cPL6NHj66RhhBCmJYZMWJEGTNmTNXELBsIIYSBZ+zYsWXo0KFl5MiR4zWvCR2EEEIIIYTOEPMaQgghhBA6Q8xrCCGEEELoDDGvIYQQQgihM8S8hhBCCCGEzhDzGkIIIYQQOkPMawghhBBC6AwxryGEEEIIoTPEvIYQQgghhM4Q8xpCCCGEEDpDzGsIIYQQQugMMa8hhBBCCKEzxLyGEEIIIYTOEPMaQgghhBA6Q8xrCCGEEELoDDGvIYQQQgihM8S8hhBCCCGEzhDzGkIIIYQQOkPMawghhBBC6AzTjHl9/fXX62sgkM9rr702YPmFEKZdmjYNlJ5MbdrkXKK3IYTeTBPm9b777ivHH398GT16dLnzzjt7tk4azz//fLn99tvL4YcfXs4777z6PYQQJoVnnnmmXHfddeW4444rF1xwQXn55Zd79rxzXnnllfLoo4+Wo446qmrdI4880rOnu7z00kvl1ltvLSNHjiyXXHJJefLJJ3v2hBCmZd6VeSW0jz32WDnttNPK//zP/5Sf/exn43wdc8wx5aKLLiovvvjiREfPr776arnpppuqMbz33nvrMeNDXozpueeeW44++ujy85//vBx55JHlz3/+c7njjjvePJbBvPvuu8sDDzxQnn322bptUlE/edx22221c/A9hBD68sILL1TjRR8PO+yw8otf/KIce+yx5ZxzzikPPfRQ1U+G86mnnqqDasZThHFSoYfMHu178MEH6+eBQl4PP/xwGTNmTLn++usHNO8JoT0Y/BtvvLH2Ne/G3IcQph7elXklLM8991y55pprqtk888wzq3EURTjhhBPK3/72t3LWWWdV4ypaSXgmZl6JOXE8++yzq+HUAYwL6YjZ2LFja9kMrGN0DL5feOGFVcAnZH5DCGGgoXH06a677ipXXHFF1Sa6RJ/+/ve/l/PPP79ce+21dfA7MT18r0C7GW4RXZHiKWVeQwhhXLwr8zrTTDOVxRZbrHzlK1+pkVdRzx/+8Idl2223LZ/97GfrNlHXgw46qHzyk58ss802W5luuoFZqcA0M8UXX3xxmWuuucq///u/16n87373u+V973tf+etf/1ouv/zyqWLqLITQHQzqTW8bvBvYb7LJJuVHP/pROfTQQ8vw4cPL/PPPX/Xp6quvTiQxhBAmgUFvjPzHO/QfNWpUFVuj7SFDhvRsHT+ipKbxRV0XWmihsuOOO5bZZ5+9GlbF2C+qam3XLbfcUqMTK6ywQtlwww3LsssuW6fjTzzxxBo1Ncqfb775ypZbblk222yzsvrqq/eU8v+msO65555qjBdffPFqVu2fccYZa2dg2YEosE5Ex8HcnnTSSbUuM8wwQ3n66adrGsZ7vfXWK+uvv36Zd955a973339/jeaKljzxxBP12FVWWaXWYYEFFqj5iyL/+te/Lu9///vL0KFDa74hhKmfESNG1Klzmjh48OCerW/FwFrE1RpN+rHNNttUfZl++umr9jT9oFnrrrtuNbrMLB2heY6Vlu7QxpVWWulN3bK8QPTWcgT6ucQSS5TNN9+8LL/88mXWWWetSw8OOeSQqqu0c9FFF63ppL/sssvqYJ8uLrfcclW/1lprraqbjz/+eNVE0WHLtZQnDX2jt+pk+YN9zolufuYzn6n6SxPl71j1k586O1Y/QFOVLR+zZfqDpZZaqmy66aa1bjfccEPVW5HqmWeeuay44or1nOQ9aNCgumTAkouPf/zjtb2Y/4ZlW3T6L3/5S61zi3jrH5S92mqr1b7Leet7tKF81U2baXPtoYxLL720XHnllXWZ2aqrrlrPUfv4ndXduQmYXHXVVbUv07YbbLBBTTP33HPXsi0BMduoD9GHCdjog6RZZJFF6vmLvDvPD3zgA2WWWWap5Ws//eIaa6xR/wYs0dCeCy64YD3GuTl/be83EJhxTspcZpll6m+59tpr14CSNguhy7h+XKPWug8bNqxn61uZYjdsWbfEsLpAXeCMoIuZYTWFZiqKqNnu4nWR2u+zC7w3xFIeLnDpl1xyyTcvWsJJnAgj4ZpnnnnqMcwzY0285phjjnqMzzfffHN9EUHLDERKCJgyla9DIL5Ey/FZ4xpCmBD0iYGiRQbIDAgDRN+YJWaDPjGYdAu0rK2hp1/0hwFjgGmnF52y/MBnZli+zIvBPuM5rvX8dM/6fFFe5mvhhReux9FPBkg9mSNpaByYPmaMEVa+utFj5zLnnHO+qd0MGBNHu9WBwbOPvjqW1rvPoBljZstnmurFJKqXejBw6kavW9R6QsvGGs5PPvJnTpXL3DKW9J1pFsiwfEzdtJs0+hzt61jtwrgyhe1YbSI/ptJ5GXCoqzTyUFe/syVq1hgri4nWhvL1e2svv7eyHGt/u19CmX67dg72KU9by0tf0/K23+9hQOO7vNTH7+jl70EbytPAKYRpgSliXl18LkqjdxeYUegXvvCFcuCBB9YRI9F2QRI90dqtttqqbrf0YOutt64RgN4QExcswWtC2BsXujI+9KEP1WPbUgWiSJiMYP/lX/6ljogJCNGQJ3NNiAnmTjvtVOvH9YtuEHFCljW0IYTxQeuYGnrHmNKi3pEwBoQR/OhHP1qjqgbnjmEmmV2RRbNdtI+JpEeMjfzolMG1NHvvvXfZb7/9anSVkRG9lKY3rS50l2GS3xe/+MWy//771ygdYylP7y0PkUR577HHHjWNAT0jLUq45557Vl1V95133rkGAOiwOslftFSddt1112rMGTkGlLaqC+0UWaTpopqMnECBMj784Q9Xvf385z9fI9L0lll37v1FOy+99NK1bvJyLsqQlzx33333stdee9VIrHox7s3E03aDhn322af88z//c03DaKsfQ6iN1MUMoTwOOOCAer7y0HbMrv0MO+Pazme33Xar0ddmSvVZ/cEgRj/EcG+xxRZl++23r8be34O62r7vvvvW31Jbtt8yT2MI0wpTxLy6EE2huMgJtikZAk4UTfkb7bqwXYCEbmJIIz3hbKPXicHAEl7RWB0GgWFsW4RBXsRS50IsmFym2AjbcYRROoIWQgjjgjkRzaMT/R3o0hZaxNh5p0Eim6JqPjNgTBIzY6qbERP9o6Gm2B2nLGl6Q3dbpE/ajTfeuBop0VPRX2XZJw19pKWMJG2lkXRwl112qUbOtHVfGFJRRufMrNJW5TBWTJ78mCnaKkpreZalEPbLTyDDuyUGjlU3fYHvzonhU5/+wrhqH4MGfQszqjxtpD1FQW23ZEHdnTfTaRmA45h1/YG6tnpqH7/nmmuuWYMebQmIvAwGlMncSuO3cmwbbOin9CPMNPMpP2n6g3NQZ/2jtpSvMvShgjwCL979lurgHEVlmfEQpgWmWOSVkIkCECgXJrEk2sTEhekzEejPyJTxlA9z2V8xgOOIZYvE+qxcZXoRG/uIgnzta2Wps84gkdcQwvigH7SCqaAd/YXeNH2iO743naJNtBM0T/5tv2itiJw0TGdv6K7tTJrlBj/4wQ9qNNDLjbVnnHFGDRgojyE24+X70UcfXfd7rJfvdE+acaFeTNMpp5xSvv71r9e8v/a1r5WDDz64mkJBC5rpePV2ju28HOs86L/zsN13fQLzzKx59RfHtvbz8lm+3u2zTRm+Q9s0Tbfm2E116i+qqq20j1lB+6U1OHAfyLe+9a3y5S9/uaZp90aAOXWzsoi0pQI//elP6w3E2l6aVm5/aPXUZt7VXR30kZYT+H1E6NVXPf70pz/V5W32O6cQpnamiHmdEAS2iayXzxODADbjSlj6GkojfVMrpoNc0P3Jszd907/T+oUQpk2YjGYoDdgZx96aQUNsM6Vumrev4ZwY49Kfpk/j0yZGiAkyKG8vEUHRTpE9psv3ddZZp0YgRXwZJjNN1oyKrk5ohktahpNhl7foq6inm1xFeO1rhrI/OI92Tl7vhv6WqY6iqa19RD3NEFqiwVwz6H4vbeL3laZ3IKbl0SLjzls72Gc5hmMZ2Hd6Pn3bbVy/Zaur37Ld4xHC1M4UMa8uPhe8i84F3EaHTcjbdxd/EwKM70InlswrUTE91250IHjeRQvcqWk0bZplYoKhfspVvrTyFBXwuS1RaNNCziOEEMYHnTClTNdokXdaQp9M/bsZ5/e//31dH9nfZUh0h041vaRPtE5+7XGAzFRvpFcXpnKjjTaq61FFAr/3ve+V73znO/URhzvssEOta4uOWipg3ac1r6bK3cjkXoC2nKsZSy/QdJFGazy/8Y1v1Pz/4z/+oz6VwX0FliqMy1Api347h959AJPss4itc6bJk4vWPvoSa3r7to/oqvbRfm1dryVkIp7Oz/ph5pbp1R7a0G+hPawLth7V+mHnZK2qv4WGc/UbOs5+x2rj1q7jQl2ZVWt53TOijq2uX/3qV+uyBmVLF8LUzhQxry4mo3lrdwi2C9naHBcrUTCaNUp1dyYxhIu7CVpfpCG4burSERBYa6uk9U5sRV2t6ZLnxC5mIiaaK708PApHvgwrEXUzGazHMp0VQgjjgymzZpP5aneH0zImhZ7QK5pkPT1N6Q8io3TPunyaaa2mGSaDc9Pz9on29UYZjJkoqKCBu/3pLtNE33yXlzoa7P/yl7+s2kn3aKJXX5wD3ZaH/aJ+cLc/XW8DfTdEtf90KG1fBCCsPbXPY6pMszOxzHzTb+3T8p8cCFgwpta3mqlzc5b+w0BDtNl39VCvZiy1p+O0o2UEfg8DCO3iu2eNe7qB85feb9Da0XGMLpyn9PK1PpYxntANwfJh5PVnyha5b7+l2cX2W+aGrTCtMP0bI8gRPZ/fhovBuh93jzKLE8MFTLwIkYvUVAYBd9ESK5EBQkCcrAPycuG5IE1ZuavfRSoP4mq/i5lg9DaNxEB+DK+L3+NLrD3yrD/TXC5g0zdGxcSPyJu2USedgGkyGCW3x6Uon5Cpq47BHaqep6jjIU7tZi95yN9zyHQKDHmisSFMG3iGJ0NGE2nVuKAhNIGhbAN0A2IGkTYaIItqtpuUDN6ZUBprAE3bHMfQ0DY3TNEsOghmj95Z++imJ9E2NxvRTxrMHNNL2kTTmB7bpW31kAcdlcYNSIwW3aNrztGjr5iqdkOYuklPuxlVeTGX8mfW5d+O9RxTbSRfdaOv0tNOmikSKy9tpA1pPKPoWLrL2Gkbmuw86K1zYjLpd2sHMJr03RMVpNWXKBcinW74Ur6pfFHLFh3V3gIqbg6T3nZ1pPke08WUtvbR9n4zAwD10O72ax+DEgMQ59n6FaaUmWRipfd7Op9WB/2Jemmn1lYGNfpGbe2mMcbUcgNPEpB/Wyvst1QXdfU7ajPp/H4GL9o2/VHoOq6Ho48+uq7Dp3/jYkDNqwuImBACptEF7aIjAt5duISH2BAogkdwGUMiQgRdoF7yIg5t9N03QkH0CGfrINrFLw8jelMrynexG51KI58muLBNOUywTsO7zsTFT1yIjPraJz9toNy2nMBdnvIjTiGEqZ/+mFd61wbXtITpYQzpHe1hCBkz2kHrmBHHMHY0yjYaQ3/omzv5mRL5MTbyY26kYcAsCaBRzCE9o4PyakZPmepBsxg6eig/x8hbvtJ5MXaCB+rACHo6DD21zzk5lr7b7zwYP3Wim/RavdSBXjPo7RzVtWm5tK1PaBrOwDvWNrptGt852Nf0Wx/BINrWG+3HROpLlKEd0Orp/Gi1vkA9/A6QfzPT2kd656DdnZf2Uab6On952c8Mq7f+QNu0fPwWzlv/5jfyO6grQ6oDdu7OTx+ljbS182K61dt5r7zyyrU+2lobtSfz+FvzvbWXNvFbOt7+9luqq3qG0GX6Y14H9D9shRDC1Iyx/sT+w1YIIYRJ5z31H7ZCCCGEEEJ4t8S8hhBCCCGEzhDzGkIIIYQQOkPMawghhBBC6AwxryGEEEIIoTPEvIYQQgghhM4Q8xpCCCGEEDpDzGsIIYQQQugMMa8hhBBCCKEzxLyGEEIIIYTOEPMaQgghhBA6Q8xrCCGEEELoDDGvIYQQQgihM8S8hhBCCCGEzhDzGkIIIYQQOkPMawghhBBC6AwxryGEEEIIoTPEvIYQQgghhM4Q8xpCCCGEEDpDzGsIIYQQQugMg15/g57Pb2PUqFFlzz33LNttt12Zd955e7aGEMK0yaWXXlruu+++qonTTZexfwghDDSPPfZYOfXUU8vhhx9ehg0b1rP1rUzUvO6+++5l8803L3PNNVfP1hBCmDa55pprysMPP1w222yzmNcQQpgMPPnkk+Wss84qRx555KSb1+HDh5fRo0eXIUOG9GwNIYRpkxEjRpQxY8ZUTRw8eHDP1hBCCAPF2LFjy9ChQ8vIkSPHa14TOgghhBBCCJ0h5jWEEEIIIXSGmNcQQgghhNAZYl5DCCGEEEJniHkNIYQQQgidIeY1hBBCCCF0hpjXEEIIIYTQGWJeQwghhBBCZ4h5DSGEEEIInSHmNYQQQgghdIaY1xBCCCGE0BliXkMIIYQQQmeIeQ0hhBBCCJ0h5jWEEEIIIXSGmNcQQgghhNAZYl5DCCGEEEJniHkNIYQQQgidIeY1hBBCCCF0hpjXEEIIIYTQGWJeQwghhBBCZxj0+hv0fH4bo0aNKsOHDy+jR48uQ4YM6dn6dmTx4IMPlptvvrlcffXV5YknniiDBw8uiy66aFlrrbXKEkssUeaYY44yaNCgniMGjqeeeqpcd9115bzzzivPPPNMee2112o5M844Y1lyySXLGmusUZZbbrky66yzlieffLJceuml5fLLLy/PPvtsTw6l1nW++eYrq622WllhhRXKwgsvPFnqGkLoNiNGjChjxoypmkg3xsULL7xQbrnllnLhhReWu+++u2drKTPNNFNZaKGFyqqrrlpWWWWVMuecc5bHH3+8XHbZZWXs2LFVyxr0S9rll1++api0M8wwQ8/eEEKYeqGHQ4cOLSNHjizDhg3r2fpWBiTy+thjj5Ubb7yxXHHFFeXee++tRvb+++8vt912Wzn//PPrO2M5OXj++edr2X/5y1/qu/IfeuihWv61115brrrqqnL77bdXU6sOzPVZZ51V6ySNtA888EC56667qrG95pprqvmWPoQQ3ikvv/xyueOOO8pFF11UNYW+NE266aab6kD7zjvvrANohpVuXnDBBeX666+v6dqLRtGvK6+8smpsNCmEEP4f048QShgPjNwZZ5xRdt111xoFGB8ElgAzknvuuWfZYYcdygc+8IEyzzzzlNNOO62mETmYa6653oyMtsjmq6++Wl555ZX6Pt1009X9xP/FF1+sL/vQ+5je6AAYz4cffrjst99+Zeeddy4f//jHa/nPPfdc7UREXFdfffWa9tZbb60Rk6985Svl05/+dE27xRZb1AiHjkYHM//889fX9NNP31NKCCGUOvClKTRxfPrw0ksvVXPqfaONNipf/epXy8c+9rGy6aab1hmgc889t8w888xl3nnnrZpm5mixxRYrn/zkJ6uGbbfddjXqQINEbi+++OKy+OKLlwUXXPAtZdJMWtk0VHmivr6bDfNqWmpf09jeWkpv7Wt6Kw1aOvTOe3xpeufjXbloZdlvnzq1bWh195Kf93ZOrc6wr21r9ZBn29fyCyF0H4P3o48+umy11VbjnfUfEPPK9D399NN1ecCaa65ZhdkUl6mvJqJMociCpQWzzTZbNbaESrT073//e51mW3rppWuUlOE9/PDDyzHHHFOn+AnVAgssUIW/r0gxpI4RpVhnnXVqullmmaWmI3L2SWP5AnMt8iGyKi1DzcjqENRJxFhdZ5999noumaYLIfTmnZhXekJjLEeiJV4G1GaHGC/Lk2gl8wqaY6kTGLJm2OxfeeWVyyKLLPKWpQrqcfrpp9cZJjNcp5xySvnVr35VAwnKEdW1vOGII44op556atU+y6NoHW2mq+ryhz/8oRx11FHlN7/5TQ1EqCd9VjcabbZKmkMOOaScdNJJtT7qpb7q6HzvueeeN8uXj+iy/Oeee+6q248++mg5/vjj6zIJ+qxdoD+45JJLanSZWffunOj5CSecUOvsnBl35/nHP/6xHHrooeV3v/tdPX/laxe/RQxsCFMH/TGvA7JsgCASMOaUwDzyyCNVnAnX+9///moUl1lmmSqKN9xwQ51GM7r2YlrblBixNX3mnQneeuut67pZwmgKjvlso+0J0SIOBFOZRJEAjk/c5EnsRWgZ3gmlDSGESYFGWrpkMN1M3fhommSgDXrUV5Po4X333VcDADTLAH3zzTeva2uto2VoafOGG25Y9ZTBEyhgqpuJFihQJ+twN9tsszr4b/cuyJ9e03SfzWbJn/lVJhPrXAQmrFGTr7W88nGfASOsTzAr5tzVldYztQ31oNOOlcb5MqXyp/1mxJhd/YQItPL0KWbLGFd1VUfHhhCmHQbEvIqYGhmLvorCmhZzswJhcaOWm6C4ZwaWQSRgBJNRFKEgtoSqiSUh/uAHP1iXIHzkIx+pEQqGtk0h9YXQEzWRYuUSaHXwXRR1xRVXrGW0SIbRv4gucT/nnHPqy2ciSphFmaUNIYRJhWZZpiQKSWNEbZlCekUzGUsYbIs00KumR160lOFbaqmlaiTUQHxc0CqR2Y9+9KNl9913r8ECplCQ4H3ve1/Zaaed6vIoRpDJpL80kElUH9prqdfnPve5alDpOB2m0dIxvaLHos3ylyetZmrprvws3WIgGdfPfOYzdemDOgsi9Dar/UF5jD2jvMkmm9R8RGQZXO3mBg71aEvBnJO+RDuGEKYNBsShmeradtttq0Aahf/3f/93+dd//ddy0EEH1YgpcTMFxeAypkTRNiJJtI2srfmyjxATfdsJUhPl7bfffpzLBkA0rQ378Y9/XL74xS+Wz3/+8/UpCcRf1JXINTNKSHUS3/zmN8u+++5b9thjj7L//vuXn/zkJzV/UQpmW11CCGFSYVyPPfbYss8++9SB+AEHHFBOPvnkstJKK9XIpHsAwHQZdNMveuRl7aupfCbxE5/4RFl22WXHaV7plGinNbEG3gbpTCrdFCwwpU57BRGY5bam1ECduXWcwb0AgaUEjpUPjfYSsWVsBRPkLY20BviOp722qZs8zbopg8l03gzohJacjQtmlQmWh+ADI85kazNPXnAuzlu9rRu2xICJHV9wI4Qw9TEgj8oCwWqjcFM/RMx0v9H5euutV6MBROnEE0+swmO9FGNp2mrdddctG2+8cd3OWJpqIvyMsGks02Hrr79+Nbh9I6JG4+pnvZX1EYw0E6o+9slDucyvulm7RQillXeLyBJg4i4t8c6ygRBCX/rzqCyD8rPPPrvO5jCODJy0Iq50kdkS7Vx77bVrlPG3v/1tNX7MmIE2aJJjGVyD/qZTvaGt7klgUOkj48nA0U/RXhrICDuWJtO94447rkYtaZz6KZtB9B2ON82vHnvvvXc1qvITCLBMQEBBcEHAgW6L6tJMkVezWaK5zpGZVScveTi/ww47rBp32xhRWJ+rXrRZ8EOEVdTXsgCmnJZrL8e6f4HxVjYYe21C8w888MDaP9DxEEK3meyPyiLGIpnWIjGdhM9o2bTSBhtsUMXZyJgYMpJEh2g5hkBZjE/4mFj7CLwIg9G+Y5lWhtLarLbeSZl9IWBETrSBSVa2l+PtY6J1KOqns7DezAieqZaOmKozQ03IY1xDCO8WWkIP6QudMatDZ0QimT2zSzSJ3tBA+tW0yzE0ypIB2tjXuA4E9JaxZFRpYdNDT0ZgHkU4GVemUR3Vh75aH+u4BpPNjDOzdFs63y0bo/H0/92ifPqsb2h1tcTBsjJRYSaftocQpg3elSIK2hrdGz2b9iJUjKntRvIiAu3uWVM/zZzabwE+dy2q0NZ+MadMLkNLlIz8iSjD6gaEdzI1ROyaIXa86a0JBJlDCGGyIzLIaNGjppX/CNRDYEG017IAyxS+/OUvly996Utlt912q7rriQCCEta9ioJaBmBZlgip71B/9zGIrDK7W265ZX1coTWvlh2IxDKvzLcynbO+wHFtts5rfNDx1maMvyUU6qiuX/jCF8o//dM/VRMb8xrCtMW7Mq9tYT2TSrzcJGXKyNSO6SWiJcLKcIpCSC/qwFRKbxrK1L1IqPSiER618te//rXuJ1xe7xTCqA6mm+RjCiviFkL4R0KTDM7dhU8P6d74bsKa3NBD0V43zNJoy6uYSUbVo6ssE2AqTc3TTdFV7wypY5hS0FrHW47lEVfysa13pNhnxzPL+gc6ryym1/Iwkd3xoUymmFkW8NB2jtOnmFGzzEDwJDdshTBt8a7nophL00Wmm4yQ//M//7Ouk/3a175Wb1YQRTWV5CaoJmLWJlmf1R68zcza7rt8TKf96Ec/KnvttVc1s2hTQ+MSe1EMQnbwwQfXtU8itt7dHKGDcMeqSHDMawhhSsGY/frXv64RQjeR0iTPrqZDpt/NSk3K4HwgYJ5FXXfccceqt3RbVJXuWqbV1v/TTqbQc1Wdx3/913/V5QCCFm02y2yaqChjKh//AMZNu8pgOtt9CJZNmAnzzFllyUsb0f8Jwbx6PJZ+hM5/5zvfqcfrG3zXb8j3H9WWIYQpz4D8kwLG0MuNAUbUxMgou61RaneFMq9e7lI1dcRYEvEWFWV+5dMMKkNrzZg1WR7VIl1fgWqjbWU2wfXy2d221l+5SUC+LSLAMDPTBDWGNoTQX/rzTwoadIzG0b6mSTSRnlk3ahvkY40ok9e29QfLoWimYAB9pme9t9smz1ZP2imNtbXq5LN3271oqFk0hpN20lvGsek2fWcU7XPvgrQ+qzOj2vKhtfa554D2Om9t0dL43DsvgQztoq6tzXxuwQr1l6f+wHc6Li9p6DjzbJ+8Qwjdx4D66In8k4IBe9pAf1AUc+s5rB5tRXSNqNt/WwkhhPcy/XnaQAghhElnsj9t4J0iIuCRKCIX1k4ZNRsxhxBCCCGE0B+mmHl185b/GmMtlJuoGFfT96aBQgghhBBC6A9TzLxaM2UdljVW1ntZd2WNle0hhBBCCCH0hynmHC3a32ijjeoaWs8A9PDtLLAPIYQQQgjvhIQ9QwghhBBCZ4h5DSGEEEIInSHmNYQQQgghdIaY1xBCCCGE0BliXkMIIYQQQmeIeQ0hhBBCCJ0h5jWEEEIIIXSGmNcQQgghhNAZYl5DCCGEEEJniHkNIYQQQgidIeY1hBBCCCF0hpjXEEIIIYTQGWJeQwghhBBCZ4h5DSGEEEIInSHmNYQQQgghdIaY1xBCCCGE0BkGvf4GPZ/fxqhRo8ruu+9eNt544zLnnHP2bA0hhGmTG264oTz88MNVE6ebLmP/EEIYaJ566qly3nnnlSOPPLIMGzasZ+tbmah53XPPPcsOO+xQ5p9//p6tIYQwbXLRRReVe+65p2ri9NNP37M1hBDCQPHII4+Uk08+uRx++OGTbl6HDx9eRo8eXYYMGdKzNYQQpk1GjBhRxowZUzVx8ODBPVtDCCEMFGPHji1Dhw4tI0eOHK95zbxXCCGEEELoDDGvIYQQQgihM8S8hhBCCCGEzhDzGkIIIYQQOkPMawghhBBC6AwxryGEEEIIoTPEvIYQQgghhM4Q8xpCCCGEEDpDzGsIIYQQQugMMa8hhBBCCKEzxLyGEEIIIYTOEPMaQgghhBA6Q8xrCCGEEELoDDGvIYQQQgihM8S8hhBCCCGEzhDzGkIIIYQQOkPMawghhBBC6AwxryGEEEIIoTNMcfP6+uuvl1deeaW+QgghhBBCeCdMUfPajOsTTzxRX6+99lrPnhBCCCGEECbOoDcM5es9n9/GqFGjyvDhw8vo0aPLkCFDera+neuuu66cd9555corr6zfp5tuujL33HOXpZdeuqy//vplqaWWKnPOOWc1rg8++GA555xzyqBBg8pHPvKRMsccc5Tpp5++HtdfXn755fLAAw+UP/7xj+XOO+8szz77bN2u3IUWWqisuuqq5f3vf39ZcMEFq2G+5ZZbyqmnnlqPefHFF2taqOMKK6xQ1lxzzXrMjDPOWOsVQgjjYsSIEWXMmDFVEwcPHtyz9a08//zzVRPPOuusctttt/VsLWXmmWcuiy22WHnf+95XX/TnkUceqdp52WWXlccff7wnZSkzzTRTWXTRRasurbfeejXt+MoLIYSpibFjx5ahQ4eWkSNHlmHDhvVsfSsDEnl9+OGHq0jffffdZfbZZ69CO8sss5RnnnmmCvO1115bHn300WoMCfA888xT0zCbk4KI7VNPPVUuvfTSaoZnmGGGMu+889Z8GeTbb7+9nH/++bUzeOmll2r9Lrroohrt1SlI66WODO0ll1xSDW4zwSGEMKnQoPvvv79qCu2Za665qjbRxqeffrpq0a233lo1jObcdNNNVbNoVdMmxxho2ye9fDJTFUII/4/pRwgljIdrrrmmnHHGGWXXXXetEc3xIfpJiEVYDzzwwPKhD32oRhZmm222cvbZZ5fnnnuuzDrrrDWSIPogIrr44ou/GXUl9tIwuI899ljNi3Dbx+D2jYa++uqrNR2Dutlmm5Wddtqp7LjjjmXzzTeveTO0F1xwQVlttdVqHXxndD/xiU+UT33qU+VjH/tY2XLLLcsaa6xRDbbzVIeFF164dhohhDAuRFPvuOOOqonjmzFiQmniCy+8UNZdd92y3377VU0UQTV4vvDCC6sOzjfffFXfRGlpz0c/+tHyuc99rmrTxhtvXA0vE0y7llxyyarBvctUzpNPPlkjvUywwTkNpaU00otZtk069THQb5pqVsosluPoqZdj7WvaK43jHM9AS6s829tMVctHmqbhdJXZbvmoi2CCd9/bedB5ZXqpm7yb/kuvbGXY1+ohWm1fm0UTEOnbR4QQustDDz1Ujj766LLVVluNd9Z/wMwrkSVia6+9dhVoL+Z0/vnnr1EG4rTssstWcfvTn/5UbrjhhrL88stXUSJ2F198cTnssMPKr371q/LnP/+5dhAEXR5Esje9zSvDbHkCoSdgBNOJ6xCctOUKxE50dfXVV6+m2TbIl2klisRwueWWq1GPEEIYF+/EvBo00xqDaDrHZDFn995775uDZbM/tApLLLFENalg8BxDz0yhrbzyyjV976UDdPWUU06pM1u00DKqww8/vFx11VW1DgzkX/7yl6qrlk2JBNNxmkqfpTFb9vvf/74cccQR5de//nXVfMaabqsbU2o52O9+97vys5/9rJx00knlxhtvrOXTXW0gzV133VVOPvnkWv5vfvObWh/nyKALINDg4447rppfgQwzb5AXM3/FFVeURRZZpC6fOO200+pM3vHHH19uvvnmWh/nrm7qesghh5QTTzyxlknDLcVQjxjYEKYO+mNeJ9sNW8SX+DGXBEZkwIia0IkGeDGhBJaxJNCitXvssUeNkBJPwkygiGx/IPRMrbIcL4o6oXViTKtG0skQVJ1FCCFMDuhNi3KaIZrQLE+LVAoKMGXMWV+z3KKdNJIp3X777cvee+9dDTADa8mWNf2f+cxn6myTNGeeeWbNk+4y4cyg/Lfeeuuy11571Y7CEgYmko5effXV1Rwzu3vuuWdNw7QyzsqQzz333FM/S6+z+fznP19nwa6//vp6LH11PuraosIN2m6b/oDZZe4ZXee0zjrrlE022aQaYHkxuTTaGjjnucACC1STq+9oUdgQwrTBZH3aAANr1E0cCTeR6rtuS7SWwTTq3nTTTasAE0BRWdFZQjYhYTJyd/OEiICRv8iI6K4lAUSvRW2VS2BFdaX1Eo0Q9VDPFVdcsa5JCyGEgYBJZf5ERJvmmGFiBBnANstDA0VAmc2W7g9/+EO9sZXxW2WVVepgfFyRXtoqSMCkMow77LBDWWuttWqeDKHZJnrq5odlllmmRjIZaMaYQRQhFvG1rIHB3WijjapWM4WMKUOpngILljXIX570lD7TdEEJ9WQ83fzayjPTJmraV/Mnhv7A+aqLmTy6LPqrPmbHtt122zfrwfwyyG0pQwhh2mCKPCqLADKgXr0FhvAyt0SK4DGbBIogMZ3N9E4o8mp66tBDDy0//OEP68uUE9Emos04w2j/r3/9a51yamlNpxFv03rWo2XJQAhhoLjvvvuq5hx88MFVb/7rv/6r6hXj2pYMgCYaRJsmb9rkLtu//e1v1bAya2awxjUzZJuBvsG/2SO6Ka1tTKkIL7PcbqSlg/SYeWU4bWtLrkRGLSlQH59FUi1XYIpFZOkqo8pc0lZrYGkzg+q79KK6ggfK+/jHP151VYT0nSAivcEGG9QlXs6JMWWU5aPdfGfA1d25iSD3jeiGEKZupoh5JahEiFiLcvaGaBI7EdNvfetbdcrJ9NQPfvCDKv4Tmw4SLfjRj35UjjnmmHLssceWb3/723V0bv1WW2sLIr/bbrvVTkFar1/+8pfln//5n8sHPvCBWr++dQshhEmFgaQ51pPSG+v5991332oAzz333Do9zyjSHQP4f/3Xf31Tm6T9/ve/X6f83ejKpPUX+bVB+/hoBtVjv+juLrvsUtfx7rPPPuW3v/1tNYTMqKUJlhD8/Oc/r1P10tBY90I0mGWzZoyq6PF3v/vd8m//9m81kMAgv1PUvfc5iNwyppY4fP3rX6919fLZWlwRbv3EO43whhC6y2R1awTHCL9FUo3GextEYkN4LNY3TeXZrJ4aYE2TaSwj64mtQxUttcZLR+ElUiAKIWIrb+8ghEbuLSrhZRpNWjdVxLiGEAaSduOT6XN6Y2mS6X165RF9lkS1aKGIJ5PatMkAXOTU8W0WaqARTKCX22233ZuGkNnef//9yyc/+ckakaXNlhfQTtq88847l2222aY+f7ZBo82aWaP64Q9/uC4voOWOs1ZVNPbd0Mys5RCWC3z2s5+tL/dHCHSol/LHtawihDB1Mtkcm5Gwm6GIn1G+6SvmtbcI2276RwTCcgGPvfr0pz9dBao9VuadmEr5QRlevmc0HkJ4r0CXmD1T94xr06wpDWNt4M8wuymKAWQIPXaQAbWUymyU58yKFDPTtNlLlNWUPtTfzBmjSmutUbXMgZab9TJ7JoDBWCrTlL/lB9IKaoj+eo0P+q8fYE4NAjxCTB0ZbTf2WtLASFu2EPMawrTDgJnXJkZMKHEy2nazgsdiiSoQmHEtG3Ac0SHopqhMVRE8kViiZ9uEUCaRbOV6DI2bH2xjltu6shBCmJIwpwbxtMmLntEmNxhZ1ymyObGZpcmF8gUUBBjc9GqZABMpIuy5srSb0XQO9JnppqmixdI6DzCvtNraXi/3EDhXuuyYpu2Mq+gtoyu9spRtaRfjOz70F2bG9B/K9GQBdXS8fNrTEPreTxFCmLoZMPPqcSnukLWma/fddy/f+c536j8KMP2/xRZb1Cn6vhAmz+gjTCIR3/zmN8sBBxxQb1wg9MwnQWpTa+PCEwa+9rWv1aiB9Vj/9//+3xrJNfpXZsxrCOEfgeeqHnXUUVUP6RNtPPLII+sNT+3fZjN4/whEKldaaaW6RIuJdFOZKfjvfe97NXjgsVqinbSbBvtX4c7joIMOqk8sEJBo60wth7BMwDKtH//4x/WfMvzkJz+paTwRwA1qyhPhFUXVTyhLXtrIvgkhnw033LC2meDEN77xjXq8G259l//kWloRQnhvMugNYRrvcJVgDR8+vD6KanwPioURsbVNTCOICEEigNZvGeGbgiJ0oqMEC4TNqNyifiNwLzhOZMAon7G1LrW3wDGzzK3Hzrjjta1rBcPLEFtbZqSvLkbql19+eX3kjLyIYQghvFP8Txc3OdHE8T1DWtSxRQl737BE6+iataz0SUTRTJM76UG32nR8f6CPNJc20jWRXBrLRAom+OyRgaKfbRlX++ctNBYimCKvop+0WZ3UjbGWn/pZOtBmwmi5exFEUuXfpuwt/5KP8xaxpfeCB6b6LU+gw+2pAfKS3npe5QkwMJ/KVUfRWeU7rt2opptiqvURors0v/d64nHN6oUQugnt9Lg9N9gbYI+LATGvIYQwLdAf8xpCCGHS6Y95zVA1hBBCCCF0hpjXEEIIIYTQGWJeQwghhBBCZ4h5DSGEEEIInSHmNYQQQgghdIaY1xBCCCGE0BliXkMIIYQQQmeIeQ0hhBBCCJ0h5jWEEEIIIXSGmNcQQgghhNAZYl5DCCGEEEJniHkNIYQQQgidIeY1hBBCCCF0hpjXEEIIIYTQGWJeQwghhBBCZ4h5DSGEEEIInSHmNYQQQgghdIaY1xBCCCGE0BliXkMIIYQQQmcY9Pob9Hx+G6NGjSoHHnhgOe2008pqq63WszWEEKZNvve975Wzzz67auLgwYN7toYQQhgorr322rLtttuWn/70p2XYsGE9W9/KRM3rbrvtVlZdddUy66yz9mwNIYRpk7vvvrs89dRTVRMHDRrUszWEEMJA8dxzz5XrrruuHHXUUZNuXvfaa6+y++67l4UWWqhna5iSpIMM4b3DmWeeWW677bayxx57lOmmy6qrEEIYaB588MFyxBFHlEMPPXTSzevw4cPL6NGjy5AhQ3q2hhDCtMmIESPKmDFjqiZm2UAIIQw8Y8eOLUOHDi0jR44cr3lN6CCEEEIIIXSGmNcQQgghhNAZYl5DCCGEEEJniHkNIYQQQgidIeY1hBBCCCF0hpjXEEIIIYTQGWJeQwghhBBCZ4h5DSGEEEIInSHmNYQQQgghdIaY1xBCCCGE0BliXkMIIYQQQmeIeQ0hhBBCCJ0h5jWEEEIIIXSGmNcQQgghhNAZYl5DCCGEEEJniHkNIYQQQgidIeY1hBBCCCF0hpjXEEIIIYTQGWJeQwghhBBCZ4h5DSGEjvL666+XV199tbz22mv1c5h0tJ921J5pyxDe28S8hhBCB3n55ZfLgw8+WA499NBy1llnlccee6xnT5gU7r333vK3v/2t/Pa3vy133XVXz9YQwnuR6Ue8Qc/nt3HNNdeUM844o+y6665loYUW6tn6du68885y3nnnldNPP71cdNFF9XXZZZeVm266qTz33HNlpplmKrPMMkt56aWXylVXXVXOP//8Kg7zzjtvGTx4cJluurd6aMfceuut5Q9/+EN55JFHygwzzFBmnXXWKtRjx44tTz31VD2273EhhDA5YRLvuOOOqonTTz99z9a38uKLL5bbbrutGqHRo0e/qYlXXHFFPZYOzj777FX7Bg0a1HPUO0eE8PHHH69lzDnnnGXxxRcvc8wxR8/eiSPKqK4XXHBB1esHHnigzD///OOs15NPPlmuu+66qvFMsvJo8j8S9bjlllvKDTfcUOabb7533Z76F33W/fffX5ZeeumywAIL9OwJIUxJHnrooXL00UeXrbbaqgwZMqRn61sZEPdHkM8888xywgknlL///e/VyDKo3seMGVON6DPPPFNeeOGFKpLSnXTSSeX222+vQt6XRx99tFx88cXlkEMOKX/+85+rOZbuvvvuq/ky1a+88kqmdkII7zloFRPE6J188slv6iGTeO6551aNvPvuu8vzzz/fc8Q/BvpJk9Vp1KhRNVjAwIro9obJ1ZnQeFFe74IK/2iYV8GMs88+uzz99NPpD0KYhhiw0OViiy1Wdthhh/I///M/5Zhjjim/+MUvyt57713F8Oqrr37LNMyzzz5bxdt2UdbeECAm9frrr6/i1FdIQwihCyy//PJlt912K0cccUTVxJ/+9Kdlu+22q9pG+xjC9wq09tprr62BAoGG3ojO0mSBB9odQgj/aAZs2QCTinXXXbfMPPPMZcYZZ6wjdvu8zzXXXGXhhReuAum7/YRwxRVXrFNQlgYwroSTSJqiWnTRResxyy67bFlkkUXqaF+UV14rr7xyPebdTBOFEMI7oT/LBkRe6R5zSqtMe9E709qirQbuoG0LLrhgTW+m6Xe/+101uX/605/qYJ+2mQ5Xjs/079JLLy2HHXZYjeg6xlS3qfOlllqqliHC6ztttLSKplrCIOpLe02Ht/zsU7bopXqpi+3qpdymrbTd1PyNN95YlzusuuqqZYUVVqhLDBznePVRL9Fm6eRt2l1ZzO8999xTZ9tEeH//+9/X+kgz22yz1ZeZNP2N6K/pQm2hTGnGtySA4bZO1fvaa69d87AsTf4PP/xwnbVTnjpZambp2txzz13zUW/LOKxvNbi45JJLys0331yeeOKJmvdKK6305vnJU32OO+64cuqpp9b20Mept/Qnnnhi/U0to/B7+01Eg/2t6Dctm/N7hBD6xxRbNjAurMcijKalXLy910eJ0lqfZb/1RYQFhIpAN6FZffXVq1iGEELXYa4YObrH+NBF092isAwSo7TkkktWg2mNqQitl+MM6i1FuPDCC+tafwN7ZpPOOs4MFf30zqQyiz4LFDCvzJVZLsatrwlkMJkshk065kyekCeNZhCXW265qt1Nk+XNYAo0qO8yyyxT9zsnZpCxVKb8BAJJALQAAB5ISURBVCRo+zzzzFOWWGKJav6Yb0bXMjFpHMMMykNZjpW/NnCeE6OZZG1k8KB95WUdsDbWftpRvRnVNrvH+AuOMMj6HucM52EgwGiri7y8nJd6eW8BlN4zid61ud/t3a7DDSGMmwEzr4TDaJcgEE9i7CImaoSRODSIn21G+C564kUwiIrv3okEcRZNCCGErsHIMH7MnaiiSB/TY0DPMDFyDJ01sEzbeuutV774xS+WL33pS3XgThcZOvlIx0jRx6233rrss88+5dOf/nQ1nAwSRP18Z7qkN7PFwLYoLnNJT/uaKXrrWPvVzbF0myYz2pYMyEt0U+SS2W163UzymmuuWYYPH17rL1KiTAZOXRhT5+9YS8v222+/8olPfKIaUubRTWfSaCf9gqj2V77ylbLhhhvWspQhbTOVE4JhZLwNDj74wQ/WdvrMZz7zprFVVovQ6q9WW221cuCBB9YyzRoyvNpHWfb7zbS5c5fXvvvu+6aBdS8HY7z++utXM+4c9X+OMcDwe4repg8LYeAZMPNKGEz5uLit89prr73KyJEjqxiZYmJEG0a/LmiCR9yJBAEkMC5+gkWEiXZ/RtwhhPBeg9k86qijyh577FHN0Re+8IU6xWzJk/WwZqMYRdHHNdZYo07Ht4gss2TanQlkuJpJFJF0LLPZDCdtZZ68BAQcz2wyht5NwTG4ZrvGFQVkWBk6QQVp6K5jmFNl+2y/5Vv0mE7Lh05vuumm1ZButtlmtVxLwAQq1MOxzK/opLR0niGHPkFfscUWW9RlAfoDZaizNmH+eufd3wimGTvnsM4669TotDZWF/2QOjDTzo/51NZrrbVWPUY69da+0jlP522JyEYbbVR/M+2tjRzjnPwm6uw3EE02APnv//7vavbVwe+ZJ+KEMHkYsCuLOBCib33rW+U//uM/yve+9706CidoRtQEumFUSwRMjxE3YmWdELEgeESFkBBVAhpCCF3DEoDtt9++/O///b+rHtLFnXbaqZqnyy+//M1ZJi/Gs0X9vJqJZaJEEhlGMFqMHFPUDGT7zFCJBDJOjK7IJ8MojahnW+85LmyXNxOtfo71bnodoo3MG7Pm1aDlZtoOP/zwGi094IADyn/+53/WiHGrM50fOnRo7SPOOeecctBBB5Xvf//7dSkBM+lcmb9tttmmmkjrZ//X//pf9eZfEVJljK/efWltoo28t++tjeTlpc21l3a33Uuadoz9zpPZPv7448u3v/3tsv/++9co7cEHH1yfIKGv0s6OYWAZcsbV4MJLe8orhDDwDJh5ZUaNWomURbamtphZo19TQtYg9RY9wixiYFrFOiPm1pokI3DbmlASmhBC6BrMoujbhz/84aqHXqbCLRcw5UwXmaRmqHprXfve9jd6f+4Lo8SMMVJML031Yg5pau/7DsYFTWa65KNuzLXAg+0MKG1Wn1Yn+mw/gyvCS7PdJCb62kwhbHdjLmMsH+3ieMZUOzDJ+g8zcZZLMLLaqK05tdSCSZzQuQ80re4MrfNxXl7aUfuKjKsrAwz182JYtYugzJSsbwjTGpNtTsPFT/REUImdpQIEtV3QLnqCRdREFtxFS8yMzo3yHRtCCFMLjFCbnqZ5Xk0n23R2M4bWnPouqmc/UwQ66jgGqU3h++w4KINB9M5U0lVmka42ozU+7BdQkF5Aod2BT6et0e2N8pTt5igRyE022aR84xvfKP/+7/9el0g0Y+dcGFvnJzK544471uUTn/rUp2qUUsCCUXZezsMa1F122aX8y7/8S9lggw1qOziHgTKD2lvbiMwym+rlXLx8d07Kka4FUgw6RJQ9mEcU/Zvf/OabSx6YdL9HW4/svNt62N43f4UQBpbJZl4JEVG78sor6/e2rqmNaEHcmnl156mpNOuTeq+PDSGEqQEGzPIog3SGkM7RO+v7PW7K9DujJ52bXU35i0IyUJYCMFxMEaPE1DFH/tGLPC2xAmMmX9FWazDpb4uIToxmpK1tpd8eM8XQ0W6R0N4wZcyz/cpk4mDNqlk2a0Xtl4/z8ggw/wzBOYEpbzCQvdP4ri7tNZCoqwGEAAnD7OYqgwTt7v6L9pQA9dPu2t9/RxPBlt75+g0seRARltY+xlUbW98sMus8nZM2CCEMPANmXgmof4do5P31r3+9jk5/+ctfVgNrKopJ7StEhIQwWlpAJAg0MSfsIYTQZZi4tn5TJNG6Sc8VZWhMkdM8N2W15VUG8P/n//yf8t3vfreaVwZLRJPZYqREJS1DOO2008oPf/jD+t+uREatc21LAmisKC0dtebWcc3M9gfHqwstZmTdqCRSzDj3hrlTjulz53PCCSdUzf/Nb35Tjav6MOEtP/W2xMA/r3F+xx57bI0G6xdEdb2kY+x/9KMf1TbzrFR9gbv21WUgjKw8BE3UW/uL/Iqm+gcSIrzK0y9Jp92Urf/y2/zgBz+ov+Epp5xSBw/aVP/mUVraQJ7Owc1i8nAMQ9zW/oYQBo4B+ScFRv3t5ioXLbwTAuJnrZOL2jZRVqN4wkwU21SWbUb80juOGLjoCQiRYXJta2Lo+CYyIYQwJejPPykQlWTcaCJ98rJNejrGhNJEn0UsRexomQggUwT3D3jkVHsUllkrZpFhEt2UP520RIAWtie6yE9ebjQSwZTeo5yUZXtf1EvU0bH01/pORrGZU+aN/vrc0jLFXpYXMKmij6K8zpcZp+vNjDLBypav+niJXvru0VT0Xt+ins5T/6ANnJ9jtYH2Uk5frZcPtAOD2dbkymeVVVZ504iqt7ZVjjop2z59jz5Gezo/+7Sj+mrXVm9tKuoq0i1/AwOmW/1g2YP2sGRAlNu5aBNp5eN76+dCCBPHzftHT+SfFAx648Ie76Ic00ae3Td69OjxZhBCCNMKxvpjxoypmtg3GvlegWlqU92MsUc9icCGEEIXsIzKzf8etzps2LCerW9lsq15DSGEMGURizCVbcmCiKLIZltSEEIIUwsxryGEMBVgut2NRG58cgORKWtT+JYBhBDC1ETMawghTAW4J8C6U+tGrd+0BtPazvGtzQ0hhK4S8xpCCFMB1rd6OsG//du/lZ133nmcT3gJIYSpgZjXEEIIIYTQGWJeQwghhBBCZ4h5DSGEEEIInSHmNYQQQgghdIaY1xBCCCGE0BliXkMIIYQQQmeIeQ0hhBBCCJ0h5jWEEEIIIXSGmNcQQgghhNAZYl5DCCGEEEJniHkNIYQQQgidIeY1hBBCCCF0hpjXEEIIIYTQGWJeQwghhBBCZ4h5DSGEEEIInSHmNYQQQgghdIZBr79Bz+e3MWrUqLLnnnuWrbfeusw777w9W0MIYdrksssuK/fff3/ZZpttynTTZewfQggDzWOPPVZOP/30cvjhh5dhw4b1bH0rEzWve+yxR9liiy3K3HPP3bM1hBCmTcaOHVsefPDBsuWWW8a8hhDCZOCJJ54oY8aMKUccccSkm9fhw4eX0aNHlyFDhvRsDSGEaZMRI0ZUUaWJgwcP7tkaQghhoBAkGDp0aBk5cuR4zWtCByGEEEIIoTPEvIYQQgghhM4Q8xpCCCGEEDpDzGsIIYQQQugMMa8hhBBCCKEzxLyGEEIIIYTOEPMaQgghhBA6Q8xrCCGEEELoDDGvIYQQQgihM8S8hhBCCCGEzhDzGkIIIYQQOkPMawghhBBC6AwxryGEEEIIoTPEvIYQQgghhM4Q8xpCCCGEEDpDzGsIIYQQQugMMa8hhBBCCKEzxLyGEEIIIYTOEPMaQgghhBA6Q8xrCCGEEELoDINef4Oez29j1KhRZfjw4WX06NFlyJAhPVvfzs0331zuuuuuIquNN964zDTTTGW66f5/X3z77beX+++/v7z66qtlnXXWKbPOOmvPnsnHyy+/XC699NLy2muvlYUWWqgsv/zyPXveirpdfvnlZezYseWVV16p26affvoyxxxzlOWWW66sssoq9VjbBg0aVPdPiMcff7yW6/gllliiLLbYYj17QghdZ8SIEWXMmDFVEwcPHtyz9a288MILVRPvueeeMs8881TNm2GGGd7UDzp40003lUceeaTMNttsZe21167bJzdPPPFE1abZZ5+9LL744vU1Lq655ppy5ZVXlhtuuKFnSykzzjhjmXPOOctKK61UNZG20cT+oB1uvPHGevyyyy5b5ptvvp49IYTwdvixoUOHlpEjR5Zhw4b1bH0rAxJ5ve+++8rVV19drrrqqvLSSy9VE9ubhx56qArhddddV/dPCRhRgnn99deXBx54oGfr21G3K664olx44YXl7rvvrgLPgNquAYk48W3GdmI888wztR10To8++mjP1hDCtIKB85133ll1hQ4wq70xoL733nurHt566609Wyc/zz77bNUmujghbaKDl112WTW6Dz74YNVE6emogf61115bt/cXJl3/cMstt5SnnnqqZ2sIIUw6/7BlAwSckWX2nnzyyfL000/XiIXtDSb4xRdffDON1/PPP/+mkWz7bfOSR/vsGO/yfO655+qrbyfSEBHYcsstyze/+c3ys5/9rPzkJz8pX//618siiyxShZ6Qy0t5yvaZCKuPctRB3t51EMqURpk+O85LGt97Hzsusx9CmPYYlz7QlN76QB+loXXSSOt70zZpfW/603TVd9rU9LK3No0L2vfRj360fP/736+a+MMf/rDsv//+dUZNZJbxhuOZdfmpj5dy6Jq69i6rfW7n5EVP+x4rv/HRypKf99YOrUwvn21r/YF6tPPs2+9oP2l69w3S9s7HS1m969XOW5rev5dt9imn1bV34MM+dfdSpn0+y0fa3n1Ca792jt7tsz2EaZ3pR5gHGw9E6owzzii77rprnXofH6IMlgW44EyBmWLqvWxAlOHhhx+uF93qq69elxWIbJ533nnlsMMOK7/5zW/KOeecU0Vg/vnnr8sKpHVB/+1vfyvHHXdcOfLII8uf/vSn8thjj5VZZpmlLLDAAlUc/vznP5ezzjqrRlgtc7B8QZT3hBNOqNN7Lfqh/EUXXbROmfWtm/rDdJgpLdN7zkH5hNbLPttNB5500knl8MMPL7///e+rsSVC6nzuueeWX/3qV/VcRBruuOOOKkimyhx72223ldNPP7388pe/LCeffHJtX2224IIL1vL6sywhhPCPg9a4rmni+KbNGQyaIjppYLzaaqu9ZdkAbbPfDA8ts79tsxzhF7/4RTnxxBPrrA9jY+mR4xkdedKQo446quoijaMxlikpi2b97ne/q1HTSy65pKYROTWzRLd6axOjRJv6ao8IKX22nV7TNudqmUQz1D7TROZKPX/729/Wep922mlVb+ma+qjL8ccfX84///wa9aW39i2zzDJVN81u/eEPfyiHHHJIOfXUU2u9nGtb0tC7XvSe3v7xj3+ss2HaSrleItjyEzVWHh3++9//XqO+dH/mmWeuuq/NL7744jfbT/+iT7G8QxsqTxtqJ/2J/km/o3/TbzH1LY0I9LHHHlvzOuWUU6qe+z2dt3bSzuo677zz1vzhOGmZ/7nnnrtGs/Vhf/nLX2p6n+WvH1JXv9nRRx9d+7MLLrig/iZzzTVXXW4SwtQK/fF3v9VWW413yeo/xLwSUxcqgSXMBNTFTZgdSywJtYtV3gznyiuvXAWNGBExJpeYEDOGksgvueSSZcUVV6xiJT+iTgSI7Pvf//66n7j0FsRxmVfnQWQYX+URLOtfrY9Vb1NovhNgdVA+M62eRNII2ZqwNddcs6y11lq1PsTVscR1hRVWKEsttVQVaUsu1JUYOTaE8N5lcpjXVVddtQ66aRmdsMaeJtIWWulYxoru0EyaRY/pCB10rHyYIbrLeNEV5cmLJhog05imTWusscab2sSI9tbEcZlXeiy4cNFFF9XPdHvppZeuywjMTtFf5ylvJlJ/oI40Td40m+ZZ/ytPdWXgaKI60V7HajtRRpqo3N7riuXLGNNl+dFldWAOtbU6M9Z0Xl+hTeSnH1h44YWroWQ4tY/2oOHeHaeNpdd+zlGgoRl0eTl3fYL0fhfnrH9Unt9BmfIQRFGW31gbOD99l7bQDtrJQEJd9B/eBT2Ycb+5spyTOp955pl1v2PVVf+iH1VH23r/TYUwNTFFzSvBI5gubO8E1XYv+bjomlATaNtcoNtvv329yUv+jB1BJ/iESwTV53XXXbd88IMfrDcLEA1CQtwYTWLhGIKx9dZbV7Fx8RNt24mz4z/wgQ/U8vte7DoC5pPQEAWjcCaVSDonx7zvfe+rokVgdCaEW6M2o06M7Fc2IdPJEKwNNtigdhAQZdbpSbfDDjvUPImP89EJOheCHkJ47/JOzCtdYcRA25oe0hf6x7QxXnRNlFR6BvNTn/pU1aympbSTUZOvfGgFPdtkk02qFjGQtIsmisr5zmAyQ6b+6aHPNNJgXHm0iZHsa1xB99SxGSXRQWaOJtJudaHj6kGjGUm6t91221UDy3DRNVrHJDPYTJ5j1Fla2i/qSaNp9Sc+8Ym637F0FuqrH2gwr6395CmvjTbaqBo722m4NtCnrL/++rUt5a/OzpnBZSa1wTbbbFM222yzaqibrjPa7ZzovuDDRz7ykarr+jMdaut3/H7y1W/pC+i5AYa209baVZ7qqvOVTjv7DdVBgEQ7aBd56Qs+/OEP199dPtpbNFa+W2yxRf29BEj8towxs+z8Yl7D1Eh/zOuArXklHKZXvvzlL5d999237L333m++DjrooDptBKJKaIxAiUcbyRIFRo95JJqMHOHddtttq/AQUSNPwklYpHMRg8htuOGGVcilIQTvBB2MKSg+Xn2/+MUvlm9/+9u1jkRD4zUxU6cPfehDVWAYV50PITF9ZmTeF3Uk1M5ZveRHkOXnXAgYA01kQwhTDwyIqWdrRffZZ5839XC//fYrP//5z2sUkD4wNIwrXWC6DNiZH/rA2DHLjJDIJGNGE0Xo6Im0PjMxzShDVI85ZXjkOz6jPT6YZkubvvrVr9Y6H3DAAeXHP/5xNY3qKJpLkwUeaCL99Z0BVCZdp2nMWV9aFJfRk5auOhf1pKX0nIGkm+OCdjLFylAeLaajAgbMKHOp/bzrVxhieTH++g13Mesr2rGCELSbSZc3w8qI033tql7Mp7QCE34zfRYYYmZY+6qT/q8Z2f6iLqLRjL/66nf83s6hRc199jvrb7SfejDAIUyrDMijss4+++waWXRBuehd7ISsYXqoTaGJOpoOMeomkEaPLnwXJAPoojcKNwolfCId1lQRHmla5KAJJoElhJtuumkdIRMkyMvaJ8cQNaP0cWGKyPkRNWmIFBGz/orRFOFQHhFTjoiC8xWFEDkhekT6k5/85JumVrkEh4gRJOmsBxNdUR91lB+R0nGpn+MtbXinxjuEMOUwwJ3Yo7Jc7zTCgJ0ZcjOotC1KRgNomnTMFs20tpI+0JIWUaMN0tIUBpI5orHKp6miE9IY7NM/posJkhdTSL9oS8Mg2f0FDChtYhrHhTW11oXSXzNejBq9o8Xq2pZgQX1N41viJY360Ennu+OOO9aoYaszU6pOzJpgx8EHH1wH9WhmkJ46lpZ/7nOfq1HVZrzl3foabUpbGVTm1HZ5Mfj6BvhumQWNFymn3daU2t6CHKK5jK3v2k+dnbffzjIOkVO/gf6Befz4xz9e+wTRZgOO1jepA2MpION3ou0irPo6j/qxTZ/oN7dOVrlmCrWVtvObS6cdRIL/+te/1j6jBWugq9Y3ic6mvwhTM1PsUVlwgZmiN4p1ca233npvvggowQRR9hJZZYiJmakfgiBELLLALIoiECTi6AJu6YywxzW93jqGSYFYMq2EnyAwxepNtIiFd2IlGiBaQjCklc75EmNR2AlBgIm3aIjjnAsBJrQ6CMLY2/CHELoNQ9TWefbWQ/pIx0zxN+gXDWIqaYPX5ptvXg3Oxz72saoxBvvNVJqapon0yrIA5mcgoefKVB9lKMtnJo4ZbZrIuIoMM9jOTb3punOZmJ7RUe2jPdo5CwCILDt3ZrC/ut76lQlhv99E/USPlddMPx22nZFlXAVb2gBAOn0Yo9wQiPEbyMd5O1YbMNYML5P6Tuldfya2/T3oL0S4BVeYVgMCv036izAtM8X/+l1wIrNEi0DtvvvudVrNVL2RtrVIpryYV3eLElFR2C984Qt16q1FR/uL0WpbXtAfmEydig6HkFnXZArHSJp5Ncq2NmuXXXapyyOICbPdRscNZbZyibQ8RROIpPP40pe+VI//p3/6pyqgDHrEKIRpC4aF5jA+pohpHV2gDzRv5513roaO5hlIi/TRCjNY9tNMy61MN/eX3trUH9rgXjkiptZ/ihgy0epDqxlQ9aZtNJyhbhFT0GHRRu/OuS25kqeZNvpvacJee+1Vo59MoyDFQGmifGi0IIE+RCRWv+O1xx571IgyHaf5IqHS65+0sfPyWbtD24l2awPnSdN32mmn2gYi4voI+chDG3kx+86/LWHwfXxob7+nvwd5f/7zn69/D9ros5/9bI3uxryGaZ0p+tdPtFyYBIShM6ViisQUPyEQ1RRZII5G9S56IucY34k3M2lU3F9MNclnAqsj3oZRL+Ewva8sZTKv6iAfIkg41JlQmS5zDr1RpvRNNEWl5WFkLpqsXvJ2vhbs2xZCmLZoRk4UT7SOcRLZpA+WSJk+c0Mos2Qb00OX6CfNsRTA2tF3oh9Nm96JJjLXbQmCMmk0M6ZONK4t11IP0/KisfY3lEX/1J+pFQE1xU/T3YRkuYA6OdbyCSaQyRsotBfz6TxMyaufMr0EJSwvsEZZHbSPPsfv4hwszxBNZdydhzSisyeccEI9zu/md+xtJh3r5XdzvL7C76Wv0OdNKDIrquulbvpE7a3dGF9/HwYM8nsnv18IUxv/kEdlGXEzdMTJ0gDPvfP4ElNSblAQlSUy0hBvYsPoykMUVOTWFI501jERG58tTSBSaGLp4rd2iYBYh0o0CU1D3dQfIqPybSab2IgqEGrTfKbmfLdeV7sQWHV2Xspmyr0TPOus1I3gqJuRtLoRLutpvayJIuRtWYV2CyG8d5lcz3mld9LQOHpIHxgj2kYz2533jmWc3IlOYxhdOmpmh0YzaMwgrWp61KBLTJABM8PGQLVHPPXWRGaYXtIjZbd7GJwvTWSqmSczULZZzmANsOe1ahvnJT3Na0salKXtDPadQ9NrdWLoPA/WDb8MJI1WrnNqeg5ptZs8zM7Rc3Vr7U2btbcIKnxXNxqvX9I29msDAwLtrF9hoNVHnsoUvNA+zkk769v0O7bru/RR0smH0fZbNUNMy0WNGXPpGV39j7W2jKffU/s5d/2N7/oEbW3pgfZ0zv4unJ/2UEdt65FaBgnq2QJAIUyN0J+jp8SjsogRwRFdJAJ9xdB+IuNidNFJ67t3JpO4yd/i/La2yMVr2sh+FyzRcNHKXzr5yA/eTaMQpmaalU88fFcO8XesfPvWzTbH269e9jvO8ermJTKiPvZDZ6MOxJmYqZvzJ2otjfMgmIRM3WxvBlU6xxNaeSuj1T2E8N6kP+YVNMQ1zhzSBdd2b92hazSBPtAmGkQfaB1Nso8m0RazQL5LQ3d6ayb9oT1e0tMc+32Wt3QNdWjf6al60SYD9d51YxKVR59673e+rZ6MKb1UH/tpPp1tGq3e7dxtb7rrXNXNdmXQ2Ja/PB3vfJ0XrexdL2gbZdovvWPhnLW3fK1Vbdvsl059vKtLa0N1YiLpr35HP6L91Uu5ypen/b37nWaCm847B+2u7ta/qpsybHe8vNrv5dzk4V37KE891NtLG/udbJcnnIN6O56pV5eWbwhTI/0xrwPytIEQQpgW6M/TBkIIIUw6U/RpAyGEEEIIIUxuYl5DCCGEEEJniHkNIYQQQgidIeY1hBBCCCF0hpjXEEIIIYTQGWJeQwghhBBCZ4h5DSGEEEIInSHmNYQQQgghdIaY1xBCCCGE0BliXkMIIYQQQmeIeQ0hhBBCCJ0h5jWEEEIIIXSGmNcQQgghhNAZYl5DCCGEEEJniHkNIYQQQgidIeY1hBBCCCF0hpjXEEIIIYTQGWJeQwghhBBCZ4h5DSGEEEIInSHmNYQQQgghdIZBr79Bz+e3MWrUqLL77ruXDTbYoMw555w9W0MIYdrkxhtvLI8++mjVxOmmy9g/hBAGmqeeeqpceOGF5cgjjyzDhg3r2fpWJmheL7/88nLMMcf0fAshhBBCCGHys8suu5S1116759tbmaB5DSGEEEII4b1E5r1CCCGEEEJniHkNIYQQQgidIeY1hBBCCCF0hpjXEEIIIYTQGWJeQwghhBBCZ4h5DSGEEEIInSHmNYQQQgghdIaY1xBCCCGE0BliXkMIIYQQQmeIeQ0hhBBCCB2hlP8PznhV22I3LFcAAAAASUVORK5CYII=)"
      ],
      "metadata": {
        "id": "aJV4KIxSnxay"
      }
    },
    {
      "cell_type": "code",
      "source": [],
      "metadata": {
        "id": "U2sUSoUk9IVz"
      },
      "execution_count": null,
      "outputs": []
    },
    {
      "cell_type": "markdown",
      "source": [
        "### Check Unique Values for each variable."
      ],
      "metadata": {
        "id": "u3PMJOP6ngxN"
      }
    },
    {
      "cell_type": "code",
      "source": [
        "# Check Unique Values for each variable."
      ],
      "metadata": {
        "id": "zms12Yq5n-jE"
      },
      "execution_count": null,
      "outputs": []
    },
    {
      "cell_type": "markdown",
      "source": [
        "## 3. ***Data Wrangling***"
      ],
      "metadata": {
        "id": "dauF4eBmngu3"
      }
    },
    {
      "cell_type": "markdown",
      "source": [
        "### Data Wrangling Code"
      ],
      "metadata": {
        "id": "bKJF3rekwFvQ"
      }
    },
    {
      "cell_type": "code",
      "source": [
        "# Write your code to make your dataset analysis ready."
      ],
      "metadata": {
        "id": "wk-9a2fpoLcV"
      },
      "execution_count": null,
      "outputs": []
    },
    {
      "cell_type": "markdown",
      "source": [
        "### What all manipulations have you done and insights you found?"
      ],
      "metadata": {
        "id": "MSa1f5Uengrz"
      }
    },
    {
      "cell_type": "markdown",
      "source": [
        "Answer Here."
      ],
      "metadata": {
        "id": "LbyXE7I1olp8"
      }
    },
    {
      "cell_type": "markdown",
      "source": [
        "## ***4. Data Vizualization, Storytelling & Experimenting with charts : Understand the relationships between variables***"
      ],
      "metadata": {
        "id": "GF8Ens_Soomf"
      }
    },
    {
      "cell_type": "markdown",
      "source": [
        "#### Chart - 1"
      ],
      "metadata": {
        "id": "0wOQAZs5pc--"
      }
    },
    {
      "cell_type": "code",
      "source": [
        "# Chart - 1 visualization code"
      ],
      "metadata": {
        "id": "7v_ESjsspbW7"
      },
      "execution_count": null,
      "outputs": []
    },
    {
      "cell_type": "markdown",
      "source": [
        "##### 1. Why did you pick the specific chart?"
      ],
      "metadata": {
        "id": "K5QZ13OEpz2H"
      }
    },
    {
      "cell_type": "markdown",
      "source": [
        "Answer Here."
      ],
      "metadata": {
        "id": "XESiWehPqBRc"
      }
    },
    {
      "cell_type": "markdown",
      "source": [
        "##### 2. What is/are the insight(s) found from the chart?"
      ],
      "metadata": {
        "id": "lQ7QKXXCp7Bj"
      }
    },
    {
      "cell_type": "markdown",
      "source": [
        "Answer Here"
      ],
      "metadata": {
        "id": "C_j1G7yiqdRP"
      }
    },
    {
      "cell_type": "markdown",
      "source": [
        "##### 3. Will the gained insights help creating a positive business impact? \n",
        "Are there any insights that lead to negative growth? Justify with specific reason."
      ],
      "metadata": {
        "id": "448CDAPjqfQr"
      }
    },
    {
      "cell_type": "markdown",
      "source": [
        "Answer Here"
      ],
      "metadata": {
        "id": "3cspy4FjqxJW"
      }
    },
    {
      "cell_type": "markdown",
      "source": [
        "#### Chart - 2"
      ],
      "metadata": {
        "id": "KSlN3yHqYklG"
      }
    },
    {
      "cell_type": "code",
      "source": [
        "# Chart - 2 visualization code"
      ],
      "metadata": {
        "id": "R4YgtaqtYklH"
      },
      "execution_count": null,
      "outputs": []
    },
    {
      "cell_type": "markdown",
      "source": [
        "##### 1. Why did you pick the specific chart?"
      ],
      "metadata": {
        "id": "t6dVpIINYklI"
      }
    },
    {
      "cell_type": "markdown",
      "source": [
        "Answer Here."
      ],
      "metadata": {
        "id": "5aaW0BYyYklI"
      }
    },
    {
      "cell_type": "markdown",
      "source": [
        "##### 2. What is/are the insight(s) found from the chart?"
      ],
      "metadata": {
        "id": "ijmpgYnKYklI"
      }
    },
    {
      "cell_type": "markdown",
      "source": [
        "Answer Here"
      ],
      "metadata": {
        "id": "PSx9atu2YklI"
      }
    },
    {
      "cell_type": "markdown",
      "source": [
        "##### 3. Will the gained insights help creating a positive business impact? \n",
        "Are there any insights that lead to negative growth? Justify with specific reason."
      ],
      "metadata": {
        "id": "-JiQyfWJYklI"
      }
    },
    {
      "cell_type": "markdown",
      "source": [
        "Answer Here"
      ],
      "metadata": {
        "id": "BcBbebzrYklV"
      }
    },
    {
      "cell_type": "markdown",
      "source": [
        "#### Chart - 3"
      ],
      "metadata": {
        "id": "EM7whBJCYoAo"
      }
    },
    {
      "cell_type": "code",
      "source": [
        "# Chart - 3 visualization code"
      ],
      "metadata": {
        "id": "t6GMdE67YoAp"
      },
      "execution_count": null,
      "outputs": []
    },
    {
      "cell_type": "markdown",
      "source": [
        "##### 1. Why did you pick the specific chart?"
      ],
      "metadata": {
        "id": "fge-S5ZAYoAp"
      }
    },
    {
      "cell_type": "markdown",
      "source": [
        "Answer Here."
      ],
      "metadata": {
        "id": "5dBItgRVYoAp"
      }
    },
    {
      "cell_type": "markdown",
      "source": [
        "##### 2. What is/are the insight(s) found from the chart?"
      ],
      "metadata": {
        "id": "85gYPyotYoAp"
      }
    },
    {
      "cell_type": "markdown",
      "source": [
        "Answer Here"
      ],
      "metadata": {
        "id": "4jstXR6OYoAp"
      }
    },
    {
      "cell_type": "markdown",
      "source": [
        "##### 3. Will the gained insights help creating a positive business impact? \n",
        "Are there any insights that lead to negative growth? Justify with specific reason."
      ],
      "metadata": {
        "id": "RoGjAbkUYoAp"
      }
    },
    {
      "cell_type": "markdown",
      "source": [
        "Answer Here"
      ],
      "metadata": {
        "id": "zfJ8IqMcYoAp"
      }
    },
    {
      "cell_type": "markdown",
      "source": [
        "#### Chart - 4"
      ],
      "metadata": {
        "id": "4Of9eVA-YrdM"
      }
    },
    {
      "cell_type": "code",
      "source": [
        "# Chart - 4 visualization code"
      ],
      "metadata": {
        "id": "irlUoxc8YrdO"
      },
      "execution_count": null,
      "outputs": []
    },
    {
      "cell_type": "markdown",
      "source": [
        "##### 1. Why did you pick the specific chart?"
      ],
      "metadata": {
        "id": "iky9q4vBYrdO"
      }
    },
    {
      "cell_type": "markdown",
      "source": [
        "Answer Here."
      ],
      "metadata": {
        "id": "aJRCwT6DYrdO"
      }
    },
    {
      "cell_type": "markdown",
      "source": [
        "##### 2. What is/are the insight(s) found from the chart?"
      ],
      "metadata": {
        "id": "F6T5p64dYrdO"
      }
    },
    {
      "cell_type": "markdown",
      "source": [
        "Answer Here"
      ],
      "metadata": {
        "id": "Xx8WAJvtYrdO"
      }
    },
    {
      "cell_type": "markdown",
      "source": [
        "##### 3. Will the gained insights help creating a positive business impact? \n",
        "Are there any insights that lead to negative growth? Justify with specific reason."
      ],
      "metadata": {
        "id": "y-Ehk30pYrdP"
      }
    },
    {
      "cell_type": "markdown",
      "source": [
        "Answer Here"
      ],
      "metadata": {
        "id": "jLNxxz7MYrdP"
      }
    },
    {
      "cell_type": "markdown",
      "source": [
        "#### Chart - 5"
      ],
      "metadata": {
        "id": "bamQiAODYuh1"
      }
    },
    {
      "cell_type": "code",
      "source": [
        "# Chart - 5 visualization code"
      ],
      "metadata": {
        "id": "TIJwrbroYuh3"
      },
      "execution_count": null,
      "outputs": []
    },
    {
      "cell_type": "markdown",
      "source": [
        "##### 1. Why did you pick the specific chart?"
      ],
      "metadata": {
        "id": "QHF8YVU7Yuh3"
      }
    },
    {
      "cell_type": "markdown",
      "source": [
        "Answer Here."
      ],
      "metadata": {
        "id": "dcxuIMRPYuh3"
      }
    },
    {
      "cell_type": "markdown",
      "source": [
        "##### 2. What is/are the insight(s) found from the chart?"
      ],
      "metadata": {
        "id": "GwzvFGzlYuh3"
      }
    },
    {
      "cell_type": "markdown",
      "source": [
        "Answer Here"
      ],
      "metadata": {
        "id": "uyqkiB8YYuh3"
      }
    },
    {
      "cell_type": "markdown",
      "source": [
        "##### 3. Will the gained insights help creating a positive business impact? \n",
        "Are there any insights that lead to negative growth? Justify with specific reason."
      ],
      "metadata": {
        "id": "qYpmQ266Yuh3"
      }
    },
    {
      "cell_type": "markdown",
      "source": [
        "Answer Here"
      ],
      "metadata": {
        "id": "_WtzZ_hCYuh4"
      }
    },
    {
      "cell_type": "markdown",
      "source": [
        "#### Chart - 6"
      ],
      "metadata": {
        "id": "OH-pJp9IphqM"
      }
    },
    {
      "cell_type": "code",
      "source": [
        "# Chart - 6 visualization code"
      ],
      "metadata": {
        "id": "kuRf4wtuphqN"
      },
      "execution_count": null,
      "outputs": []
    },
    {
      "cell_type": "markdown",
      "source": [
        "##### 1. Why did you pick the specific chart?"
      ],
      "metadata": {
        "id": "bbFf2-_FphqN"
      }
    },
    {
      "cell_type": "markdown",
      "source": [
        "Answer Here."
      ],
      "metadata": {
        "id": "loh7H2nzphqN"
      }
    },
    {
      "cell_type": "markdown",
      "source": [
        "##### 2. What is/are the insight(s) found from the chart?"
      ],
      "metadata": {
        "id": "_ouA3fa0phqN"
      }
    },
    {
      "cell_type": "markdown",
      "source": [
        "Answer Here"
      ],
      "metadata": {
        "id": "VECbqPI7phqN"
      }
    },
    {
      "cell_type": "markdown",
      "source": [
        "##### 3. Will the gained insights help creating a positive business impact? \n",
        "Are there any insights that lead to negative growth? Justify with specific reason."
      ],
      "metadata": {
        "id": "Seke61FWphqN"
      }
    },
    {
      "cell_type": "markdown",
      "source": [
        "Answer Here"
      ],
      "metadata": {
        "id": "DW4_bGpfphqN"
      }
    },
    {
      "cell_type": "markdown",
      "source": [
        "#### Chart - 7"
      ],
      "metadata": {
        "id": "PIIx-8_IphqN"
      }
    },
    {
      "cell_type": "code",
      "source": [
        "# Chart - 7 visualization code"
      ],
      "metadata": {
        "id": "lqAIGUfyphqO"
      },
      "execution_count": null,
      "outputs": []
    },
    {
      "cell_type": "markdown",
      "source": [
        "##### 1. Why did you pick the specific chart?"
      ],
      "metadata": {
        "id": "t27r6nlMphqO"
      }
    },
    {
      "cell_type": "markdown",
      "source": [
        "Answer Here."
      ],
      "metadata": {
        "id": "iv6ro40sphqO"
      }
    },
    {
      "cell_type": "markdown",
      "source": [
        "##### 2. What is/are the insight(s) found from the chart?"
      ],
      "metadata": {
        "id": "r2jJGEOYphqO"
      }
    },
    {
      "cell_type": "markdown",
      "source": [
        "Answer Here"
      ],
      "metadata": {
        "id": "Po6ZPi4hphqO"
      }
    },
    {
      "cell_type": "markdown",
      "source": [
        "##### 3. Will the gained insights help creating a positive business impact? \n",
        "Are there any insights that lead to negative growth? Justify with specific reason."
      ],
      "metadata": {
        "id": "b0JNsNcRphqO"
      }
    },
    {
      "cell_type": "markdown",
      "source": [
        "Answer Here"
      ],
      "metadata": {
        "id": "xvSq8iUTphqO"
      }
    },
    {
      "cell_type": "markdown",
      "source": [
        "#### Chart - 8"
      ],
      "metadata": {
        "id": "BZR9WyysphqO"
      }
    },
    {
      "cell_type": "code",
      "source": [
        "# Chart - 8 visualization code"
      ],
      "metadata": {
        "id": "TdPTWpAVphqO"
      },
      "execution_count": null,
      "outputs": []
    },
    {
      "cell_type": "markdown",
      "source": [
        "##### 1. Why did you pick the specific chart?"
      ],
      "metadata": {
        "id": "jj7wYXLtphqO"
      }
    },
    {
      "cell_type": "markdown",
      "source": [
        "Answer Here."
      ],
      "metadata": {
        "id": "Ob8u6rCTphqO"
      }
    },
    {
      "cell_type": "markdown",
      "source": [
        "##### 2. What is/are the insight(s) found from the chart?"
      ],
      "metadata": {
        "id": "eZrbJ2SmphqO"
      }
    },
    {
      "cell_type": "markdown",
      "source": [
        "Answer Here"
      ],
      "metadata": {
        "id": "mZtgC_hjphqO"
      }
    },
    {
      "cell_type": "markdown",
      "source": [
        "##### 3. Will the gained insights help creating a positive business impact? \n",
        "Are there any insights that lead to negative growth? Justify with specific reason."
      ],
      "metadata": {
        "id": "rFu4xreNphqO"
      }
    },
    {
      "cell_type": "markdown",
      "source": [
        "Answer Here"
      ],
      "metadata": {
        "id": "ey_0qi68phqO"
      }
    },
    {
      "cell_type": "markdown",
      "source": [
        "#### Chart - 9"
      ],
      "metadata": {
        "id": "YJ55k-q6phqO"
      }
    },
    {
      "cell_type": "code",
      "source": [
        "# Chart - 9 visualization code"
      ],
      "metadata": {
        "id": "B2aS4O1ophqO"
      },
      "execution_count": null,
      "outputs": []
    },
    {
      "cell_type": "markdown",
      "source": [
        "##### 1. Why did you pick the specific chart?"
      ],
      "metadata": {
        "id": "gCFgpxoyphqP"
      }
    },
    {
      "cell_type": "markdown",
      "source": [
        "Answer Here."
      ],
      "metadata": {
        "id": "TVxDimi2phqP"
      }
    },
    {
      "cell_type": "markdown",
      "source": [
        "##### 2. What is/are the insight(s) found from the chart?"
      ],
      "metadata": {
        "id": "OVtJsKN_phqQ"
      }
    },
    {
      "cell_type": "markdown",
      "source": [
        "Answer Here"
      ],
      "metadata": {
        "id": "ngGi97qjphqQ"
      }
    },
    {
      "cell_type": "markdown",
      "source": [
        "##### 3. Will the gained insights help creating a positive business impact? \n",
        "Are there any insights that lead to negative growth? Justify with specific reason."
      ],
      "metadata": {
        "id": "lssrdh5qphqQ"
      }
    },
    {
      "cell_type": "markdown",
      "source": [
        "Answer Here"
      ],
      "metadata": {
        "id": "tBpY5ekJphqQ"
      }
    },
    {
      "cell_type": "markdown",
      "source": [
        "#### Chart - 10"
      ],
      "metadata": {
        "id": "U2RJ9gkRphqQ"
      }
    },
    {
      "cell_type": "code",
      "source": [
        "# Chart - 10 visualization code"
      ],
      "metadata": {
        "id": "GM7a4YP4phqQ"
      },
      "execution_count": null,
      "outputs": []
    },
    {
      "cell_type": "markdown",
      "source": [
        "##### 1. Why did you pick the specific chart?"
      ],
      "metadata": {
        "id": "1M8mcRywphqQ"
      }
    },
    {
      "cell_type": "markdown",
      "source": [
        "Answer Here."
      ],
      "metadata": {
        "id": "8agQvks0phqQ"
      }
    },
    {
      "cell_type": "markdown",
      "source": [
        "##### 2. What is/are the insight(s) found from the chart?"
      ],
      "metadata": {
        "id": "tgIPom80phqQ"
      }
    },
    {
      "cell_type": "markdown",
      "source": [
        "Answer Here"
      ],
      "metadata": {
        "id": "Qp13pnNzphqQ"
      }
    },
    {
      "cell_type": "markdown",
      "source": [
        "##### 3. Will the gained insights help creating a positive business impact? \n",
        "Are there any insights that lead to negative growth? Justify with specific reason."
      ],
      "metadata": {
        "id": "JMzcOPDDphqR"
      }
    },
    {
      "cell_type": "markdown",
      "source": [
        "Answer Here"
      ],
      "metadata": {
        "id": "R4Ka1PC2phqR"
      }
    },
    {
      "cell_type": "markdown",
      "source": [
        "#### Chart - 11"
      ],
      "metadata": {
        "id": "x-EpHcCOp1ci"
      }
    },
    {
      "cell_type": "code",
      "source": [
        "# Chart - 11 visualization code"
      ],
      "metadata": {
        "id": "mAQTIvtqp1cj"
      },
      "execution_count": null,
      "outputs": []
    },
    {
      "cell_type": "markdown",
      "source": [
        "##### 1. Why did you pick the specific chart?"
      ],
      "metadata": {
        "id": "X_VqEhTip1ck"
      }
    },
    {
      "cell_type": "markdown",
      "source": [
        "Answer Here."
      ],
      "metadata": {
        "id": "-vsMzt_np1ck"
      }
    },
    {
      "cell_type": "markdown",
      "source": [
        "##### 2. What is/are the insight(s) found from the chart?"
      ],
      "metadata": {
        "id": "8zGJKyg5p1ck"
      }
    },
    {
      "cell_type": "markdown",
      "source": [
        "Answer Here"
      ],
      "metadata": {
        "id": "ZYdMsrqVp1ck"
      }
    },
    {
      "cell_type": "markdown",
      "source": [
        "##### 3. Will the gained insights help creating a positive business impact? \n",
        "Are there any insights that lead to negative growth? Justify with specific reason."
      ],
      "metadata": {
        "id": "PVzmfK_Ep1ck"
      }
    },
    {
      "cell_type": "markdown",
      "source": [
        "Answer Here"
      ],
      "metadata": {
        "id": "druuKYZpp1ck"
      }
    },
    {
      "cell_type": "markdown",
      "source": [
        "#### Chart - 12"
      ],
      "metadata": {
        "id": "n3dbpmDWp1ck"
      }
    },
    {
      "cell_type": "code",
      "source": [
        "# Chart - 12 visualization code"
      ],
      "metadata": {
        "id": "bwevp1tKp1ck"
      },
      "execution_count": null,
      "outputs": []
    },
    {
      "cell_type": "markdown",
      "source": [
        "##### 1. Why did you pick the specific chart?"
      ],
      "metadata": {
        "id": "ylSl6qgtp1ck"
      }
    },
    {
      "cell_type": "markdown",
      "source": [
        "Answer Here."
      ],
      "metadata": {
        "id": "m2xqNkiQp1ck"
      }
    },
    {
      "cell_type": "markdown",
      "source": [
        "##### 2. What is/are the insight(s) found from the chart?"
      ],
      "metadata": {
        "id": "ZWILFDl5p1ck"
      }
    },
    {
      "cell_type": "markdown",
      "source": [
        "Answer Here"
      ],
      "metadata": {
        "id": "x-lUsV2mp1ck"
      }
    },
    {
      "cell_type": "markdown",
      "source": [
        "##### 3. Will the gained insights help creating a positive business impact? \n",
        "Are there any insights that lead to negative growth? Justify with specific reason."
      ],
      "metadata": {
        "id": "M7G43BXep1ck"
      }
    },
    {
      "cell_type": "markdown",
      "source": [
        "Answer Here"
      ],
      "metadata": {
        "id": "5wwDJXsLp1cl"
      }
    },
    {
      "cell_type": "markdown",
      "source": [
        "#### Chart - 13"
      ],
      "metadata": {
        "id": "Ag9LCva-p1cl"
      }
    },
    {
      "cell_type": "code",
      "source": [
        "# Chart - 13 visualization code"
      ],
      "metadata": {
        "id": "EUfxeq9-p1cl"
      },
      "execution_count": null,
      "outputs": []
    },
    {
      "cell_type": "markdown",
      "source": [
        "##### 1. Why did you pick the specific chart?"
      ],
      "metadata": {
        "id": "E6MkPsBcp1cl"
      }
    },
    {
      "cell_type": "markdown",
      "source": [
        "Answer Here."
      ],
      "metadata": {
        "id": "V22bRsFWp1cl"
      }
    },
    {
      "cell_type": "markdown",
      "source": [
        "##### 2. What is/are the insight(s) found from the chart?"
      ],
      "metadata": {
        "id": "2cELzS2fp1cl"
      }
    },
    {
      "cell_type": "markdown",
      "source": [
        "Answer Here"
      ],
      "metadata": {
        "id": "ozQPc2_Ip1cl"
      }
    },
    {
      "cell_type": "markdown",
      "source": [
        "##### 3. Will the gained insights help creating a positive business impact? \n",
        "Are there any insights that lead to negative growth? Justify with specific reason."
      ],
      "metadata": {
        "id": "3MPXvC8up1cl"
      }
    },
    {
      "cell_type": "markdown",
      "source": [
        "Answer Here"
      ],
      "metadata": {
        "id": "GL8l1tdLp1cl"
      }
    },
    {
      "cell_type": "markdown",
      "source": [
        "#### Chart - 14 - Correlation Heatmap"
      ],
      "metadata": {
        "id": "NC_X3p0fY2L0"
      }
    },
    {
      "cell_type": "code",
      "source": [
        "# Correlation Heatmap visualization code"
      ],
      "metadata": {
        "id": "xyC9zolEZNRQ"
      },
      "execution_count": null,
      "outputs": []
    },
    {
      "cell_type": "markdown",
      "source": [
        "##### 1. Why did you pick the specific chart?"
      ],
      "metadata": {
        "id": "UV0SzAkaZNRQ"
      }
    },
    {
      "cell_type": "markdown",
      "source": [
        "Answer Here."
      ],
      "metadata": {
        "id": "DVPuT8LYZNRQ"
      }
    },
    {
      "cell_type": "markdown",
      "source": [
        "##### 2. What is/are the insight(s) found from the chart?"
      ],
      "metadata": {
        "id": "YPEH6qLeZNRQ"
      }
    },
    {
      "cell_type": "markdown",
      "source": [
        "Answer Here"
      ],
      "metadata": {
        "id": "bfSqtnDqZNRR"
      }
    },
    {
      "cell_type": "markdown",
      "source": [
        "#### Chart - 15 - Pair Plot "
      ],
      "metadata": {
        "id": "q29F0dvdveiT"
      }
    },
    {
      "cell_type": "code",
      "source": [
        "# Pair Plot visualization code"
      ],
      "metadata": {
        "id": "o58-TEIhveiU"
      },
      "execution_count": null,
      "outputs": []
    },
    {
      "cell_type": "markdown",
      "source": [
        "##### 1. Why did you pick the specific chart?"
      ],
      "metadata": {
        "id": "EXh0U9oCveiU"
      }
    },
    {
      "cell_type": "markdown",
      "source": [
        "Answer Here."
      ],
      "metadata": {
        "id": "eMmPjTByveiU"
      }
    },
    {
      "cell_type": "markdown",
      "source": [
        "##### 2. What is/are the insight(s) found from the chart?"
      ],
      "metadata": {
        "id": "22aHeOlLveiV"
      }
    },
    {
      "cell_type": "markdown",
      "source": [
        "Answer Here"
      ],
      "metadata": {
        "id": "uPQ8RGwHveiV"
      }
    },
    {
      "cell_type": "markdown",
      "source": [
        "## ***5. Hypothesis Testing***"
      ],
      "metadata": {
        "id": "g-ATYxFrGrvw"
      }
    },
    {
      "cell_type": "markdown",
      "source": [
        "### Based on your chart experiments, define three hypothetical statements from the dataset. In the next three questions, perform hypothesis testing to obtain final conclusion about the statements through your code and statistical testing."
      ],
      "metadata": {
        "id": "Yfr_Vlr8HBkt"
      }
    },
    {
      "cell_type": "markdown",
      "source": [
        "Answer Here."
      ],
      "metadata": {
        "id": "-7MS06SUHkB-"
      }
    },
    {
      "cell_type": "markdown",
      "source": [
        "### Hypothetical Statement - 1"
      ],
      "metadata": {
        "id": "8yEUt7NnHlrM"
      }
    },
    {
      "cell_type": "markdown",
      "source": [
        "#### 1. State Your research hypothesis as a null hypothesis and alternate hypothesis."
      ],
      "metadata": {
        "id": "tEA2Xm5dHt1r"
      }
    },
    {
      "cell_type": "markdown",
      "source": [
        "Answer Here."
      ],
      "metadata": {
        "id": "HI9ZP0laH0D-"
      }
    },
    {
      "cell_type": "markdown",
      "source": [
        "#### 2. Perform an appropriate statistical test."
      ],
      "metadata": {
        "id": "I79__PHVH19G"
      }
    },
    {
      "cell_type": "code",
      "source": [
        "# Perform Statistical Test to obtain P-Value"
      ],
      "metadata": {
        "id": "oZrfquKtyian"
      },
      "execution_count": null,
      "outputs": []
    },
    {
      "cell_type": "markdown",
      "source": [
        "##### Which statistical test have you done to obtain P-Value?"
      ],
      "metadata": {
        "id": "Ou-I18pAyIpj"
      }
    },
    {
      "cell_type": "markdown",
      "source": [
        "Answer Here."
      ],
      "metadata": {
        "id": "s2U0kk00ygSB"
      }
    },
    {
      "cell_type": "markdown",
      "source": [
        "##### Why did you choose the specific statistical test?"
      ],
      "metadata": {
        "id": "fF3858GYyt-u"
      }
    },
    {
      "cell_type": "markdown",
      "source": [
        "Answer Here."
      ],
      "metadata": {
        "id": "HO4K0gP5y3B4"
      }
    },
    {
      "cell_type": "markdown",
      "source": [
        "### Hypothetical Statement - 2"
      ],
      "metadata": {
        "id": "4_0_7-oCpUZd"
      }
    },
    {
      "cell_type": "markdown",
      "source": [
        "#### 1. State Your research hypothesis as a null hypothesis and alternate hypothesis."
      ],
      "metadata": {
        "id": "hwyV_J3ipUZe"
      }
    },
    {
      "cell_type": "markdown",
      "source": [
        "Answer Here."
      ],
      "metadata": {
        "id": "FnpLGJ-4pUZe"
      }
    },
    {
      "cell_type": "markdown",
      "source": [
        "#### 2. Perform an appropriate statistical test."
      ],
      "metadata": {
        "id": "3yB-zSqbpUZe"
      }
    },
    {
      "cell_type": "code",
      "source": [
        "# Perform Statistical Test to obtain P-Value"
      ],
      "metadata": {
        "id": "sWxdNTXNpUZe"
      },
      "execution_count": null,
      "outputs": []
    },
    {
      "cell_type": "markdown",
      "source": [
        "##### Which statistical test have you done to obtain P-Value?"
      ],
      "metadata": {
        "id": "dEUvejAfpUZe"
      }
    },
    {
      "cell_type": "markdown",
      "source": [
        "Answer Here."
      ],
      "metadata": {
        "id": "oLDrPz7HpUZf"
      }
    },
    {
      "cell_type": "markdown",
      "source": [
        "##### Why did you choose the specific statistical test?"
      ],
      "metadata": {
        "id": "Fd15vwWVpUZf"
      }
    },
    {
      "cell_type": "markdown",
      "source": [
        "Answer Here."
      ],
      "metadata": {
        "id": "4xOGYyiBpUZf"
      }
    },
    {
      "cell_type": "markdown",
      "source": [
        "### Hypothetical Statement - 3"
      ],
      "metadata": {
        "id": "bn_IUdTipZyH"
      }
    },
    {
      "cell_type": "markdown",
      "source": [
        "#### 1. State Your research hypothesis as a null hypothesis and alternate hypothesis."
      ],
      "metadata": {
        "id": "49K5P_iCpZyH"
      }
    },
    {
      "cell_type": "markdown",
      "source": [
        "Answer Here."
      ],
      "metadata": {
        "id": "7gWI5rT9pZyH"
      }
    },
    {
      "cell_type": "markdown",
      "source": [
        "#### 2. Perform an appropriate statistical test."
      ],
      "metadata": {
        "id": "Nff-vKELpZyI"
      }
    },
    {
      "cell_type": "code",
      "source": [
        "# Perform Statistical Test to obtain P-Value"
      ],
      "metadata": {
        "id": "s6AnJQjtpZyI"
      },
      "execution_count": null,
      "outputs": []
    },
    {
      "cell_type": "markdown",
      "source": [
        "##### Which statistical test have you done to obtain P-Value?"
      ],
      "metadata": {
        "id": "kLW572S8pZyI"
      }
    },
    {
      "cell_type": "markdown",
      "source": [
        "Answer Here."
      ],
      "metadata": {
        "id": "ytWJ8v15pZyI"
      }
    },
    {
      "cell_type": "markdown",
      "source": [
        "##### Why did you choose the specific statistical test?"
      ],
      "metadata": {
        "id": "dWbDXHzopZyI"
      }
    },
    {
      "cell_type": "markdown",
      "source": [
        "Answer Here."
      ],
      "metadata": {
        "id": "M99G98V6pZyI"
      }
    },
    {
      "cell_type": "markdown",
      "source": [
        "## ***6. Feature Engineering & Data Pre-processing***"
      ],
      "metadata": {
        "id": "yLjJCtPM0KBk"
      }
    },
    {
      "cell_type": "markdown",
      "source": [
        "### 1. Handling Missing Values"
      ],
      "metadata": {
        "id": "xiyOF9F70UgQ"
      }
    },
    {
      "cell_type": "code",
      "source": [
        "# Handling Missing Values & Missing Value Imputation"
      ],
      "metadata": {
        "id": "iRsAHk1K0fpS"
      },
      "execution_count": null,
      "outputs": []
    },
    {
      "cell_type": "markdown",
      "source": [
        "#### What all missing value imputation techniques have you used and why did you use those techniques?"
      ],
      "metadata": {
        "id": "7wuGOrhz0itI"
      }
    },
    {
      "cell_type": "markdown",
      "source": [
        "Answer Here."
      ],
      "metadata": {
        "id": "1ixusLtI0pqI"
      }
    },
    {
      "cell_type": "markdown",
      "source": [
        "### 2. Handling Outliers"
      ],
      "metadata": {
        "id": "id1riN9m0vUs"
      }
    },
    {
      "cell_type": "code",
      "source": [
        "# Handling Outliers & Outlier treatments"
      ],
      "metadata": {
        "id": "M6w2CzZf04JK"
      },
      "execution_count": null,
      "outputs": []
    },
    {
      "cell_type": "markdown",
      "source": [
        "##### What all outlier treatment techniques have you used and why did you use those techniques?"
      ],
      "metadata": {
        "id": "578E2V7j08f6"
      }
    },
    {
      "cell_type": "markdown",
      "source": [
        "Answer Here."
      ],
      "metadata": {
        "id": "uGZz5OrT1HH-"
      }
    },
    {
      "cell_type": "markdown",
      "source": [
        "### 3. Categorical Encoding"
      ],
      "metadata": {
        "id": "89xtkJwZ18nB"
      }
    },
    {
      "cell_type": "code",
      "source": [
        "# Encode your categorical columns"
      ],
      "metadata": {
        "id": "21JmIYMG2hEo"
      },
      "execution_count": null,
      "outputs": []
    },
    {
      "cell_type": "markdown",
      "source": [
        "#### What all categorical encoding techniques have you used & why did you use those techniques?"
      ],
      "metadata": {
        "id": "67NQN5KX2AMe"
      }
    },
    {
      "cell_type": "markdown",
      "source": [
        "Answer Here."
      ],
      "metadata": {
        "id": "UDaue5h32n_G"
      }
    },
    {
      "cell_type": "markdown",
      "source": [
        "### 4. Textual Data Preprocessing \n",
        "(It's mandatory for textual dataset i.e., NLP, Sentiment Analysis, Text Clustering etc.)"
      ],
      "metadata": {
        "id": "Iwf50b-R2tYG"
      }
    },
    {
      "cell_type": "markdown",
      "source": [
        "#### 1. Expand Contraction"
      ],
      "metadata": {
        "id": "GMQiZwjn3iu7"
      }
    },
    {
      "cell_type": "code",
      "source": [
        "# Expand Contraction"
      ],
      "metadata": {
        "id": "PTouz10C3oNN"
      },
      "execution_count": null,
      "outputs": []
    },
    {
      "cell_type": "markdown",
      "source": [
        "#### 2. Lower Casing"
      ],
      "metadata": {
        "id": "WVIkgGqN3qsr"
      }
    },
    {
      "cell_type": "code",
      "source": [
        "# Lower Casing"
      ],
      "metadata": {
        "id": "88JnJ1jN3w7j"
      },
      "execution_count": null,
      "outputs": []
    },
    {
      "cell_type": "markdown",
      "source": [
        "#### 3. Removing Punctuations"
      ],
      "metadata": {
        "id": "XkPnILGE3zoT"
      }
    },
    {
      "cell_type": "code",
      "source": [
        "# Remove Punctuations"
      ],
      "metadata": {
        "id": "vqbBqNaA33c0"
      },
      "execution_count": null,
      "outputs": []
    },
    {
      "cell_type": "markdown",
      "source": [
        "#### 4. Removing URLs & Removing words and digits contain digits."
      ],
      "metadata": {
        "id": "Hlsf0x5436Go"
      }
    },
    {
      "cell_type": "code",
      "source": [
        "# Remove URLs & Remove words and digits contain digits"
      ],
      "metadata": {
        "id": "2sxKgKxu4Ip3"
      },
      "execution_count": null,
      "outputs": []
    },
    {
      "cell_type": "markdown",
      "source": [
        "#### 5. Removing Stopwords & Removing White spaces"
      ],
      "metadata": {
        "id": "mT9DMSJo4nBL"
      }
    },
    {
      "cell_type": "code",
      "source": [
        "# Remove Stopwords"
      ],
      "metadata": {
        "id": "T2LSJh154s8W"
      },
      "execution_count": null,
      "outputs": []
    },
    {
      "cell_type": "code",
      "source": [
        "# Remove White spaces"
      ],
      "metadata": {
        "id": "EgLJGffy4vm0"
      },
      "execution_count": null,
      "outputs": []
    },
    {
      "cell_type": "markdown",
      "source": [
        "#### 6. Rephrase Text"
      ],
      "metadata": {
        "id": "c49ITxTc407N"
      }
    },
    {
      "cell_type": "code",
      "source": [
        "# Rephrase Text"
      ],
      "metadata": {
        "id": "foqY80Qu48N2"
      },
      "execution_count": null,
      "outputs": []
    },
    {
      "cell_type": "markdown",
      "source": [
        "#### 7. Tokenization"
      ],
      "metadata": {
        "id": "OeJFEK0N496M"
      }
    },
    {
      "cell_type": "code",
      "source": [
        "# Tokenization"
      ],
      "metadata": {
        "id": "ijx1rUOS5CUU"
      },
      "execution_count": null,
      "outputs": []
    },
    {
      "cell_type": "markdown",
      "source": [
        "#### 8. Text Normalization"
      ],
      "metadata": {
        "id": "9ExmJH0g5HBk"
      }
    },
    {
      "cell_type": "code",
      "source": [
        "# Normalizing Text (i.e., Stemming, Lemmatization etc.)"
      ],
      "metadata": {
        "id": "AIJ1a-Zc5PY8"
      },
      "execution_count": null,
      "outputs": []
    },
    {
      "cell_type": "markdown",
      "source": [
        "##### Which text normalization technique have you used and why?"
      ],
      "metadata": {
        "id": "cJNqERVU536h"
      }
    },
    {
      "cell_type": "markdown",
      "source": [
        "Answer Here."
      ],
      "metadata": {
        "id": "Z9jKVxE06BC1"
      }
    },
    {
      "cell_type": "markdown",
      "source": [
        "#### 9. Part of speech tagging"
      ],
      "metadata": {
        "id": "k5UmGsbsOxih"
      }
    },
    {
      "cell_type": "code",
      "source": [
        "# POS Taging"
      ],
      "metadata": {
        "id": "btT3ZJBAO6Ik"
      },
      "execution_count": null,
      "outputs": []
    },
    {
      "cell_type": "markdown",
      "source": [
        "#### 10. Text Vectorization"
      ],
      "metadata": {
        "id": "T0VqWOYE6DLQ"
      }
    },
    {
      "cell_type": "code",
      "source": [
        "# Vectorizing Text"
      ],
      "metadata": {
        "id": "yBRtdhth6JDE"
      },
      "execution_count": null,
      "outputs": []
    },
    {
      "cell_type": "markdown",
      "source": [
        "##### Which text vectorization technique have you used and why?"
      ],
      "metadata": {
        "id": "qBMux9mC6MCf"
      }
    },
    {
      "cell_type": "markdown",
      "source": [
        "Answer Here."
      ],
      "metadata": {
        "id": "su2EnbCh6UKQ"
      }
    },
    {
      "cell_type": "markdown",
      "source": [
        "### 4. Feature Manipulation & Selection"
      ],
      "metadata": {
        "id": "-oLEiFgy-5Pf"
      }
    },
    {
      "cell_type": "markdown",
      "source": [
        "#### 1. Feature Manipulation"
      ],
      "metadata": {
        "id": "C74aWNz2AliB"
      }
    },
    {
      "cell_type": "code",
      "source": [
        "# Manipulate Features to minimize feature correlation and create new features"
      ],
      "metadata": {
        "id": "h1qC4yhBApWC"
      },
      "execution_count": null,
      "outputs": []
    },
    {
      "cell_type": "markdown",
      "source": [
        "#### 2. Feature Selection"
      ],
      "metadata": {
        "id": "2DejudWSA-a0"
      }
    },
    {
      "cell_type": "code",
      "source": [
        "# Select your features wisely to avoid overfitting"
      ],
      "metadata": {
        "id": "YLhe8UmaBCEE"
      },
      "execution_count": null,
      "outputs": []
    },
    {
      "cell_type": "markdown",
      "source": [
        "##### What all feature selection methods have you used  and why?"
      ],
      "metadata": {
        "id": "pEMng2IbBLp7"
      }
    },
    {
      "cell_type": "markdown",
      "source": [
        "Answer Here."
      ],
      "metadata": {
        "id": "rb2Lh6Z8BgGs"
      }
    },
    {
      "cell_type": "markdown",
      "source": [
        "##### Which all features you found important and why?"
      ],
      "metadata": {
        "id": "rAdphbQ9Bhjc"
      }
    },
    {
      "cell_type": "markdown",
      "source": [
        "Answer Here."
      ],
      "metadata": {
        "id": "fGgaEstsBnaf"
      }
    },
    {
      "cell_type": "markdown",
      "source": [
        "### 5. Data Transformation"
      ],
      "metadata": {
        "id": "TNVZ9zx19K6k"
      }
    },
    {
      "cell_type": "markdown",
      "source": [
        "#### Do you think that your data needs to be transformed? If yes, which transformation have you used. Explain Why?"
      ],
      "metadata": {
        "id": "nqoHp30x9hH9"
      }
    },
    {
      "cell_type": "code",
      "source": [
        "# Transform Your data"
      ],
      "metadata": {
        "id": "I6quWQ1T9rtH"
      },
      "execution_count": null,
      "outputs": []
    },
    {
      "cell_type": "markdown",
      "source": [
        "### 6. Data Scaling"
      ],
      "metadata": {
        "id": "rMDnDkt2B6du"
      }
    },
    {
      "cell_type": "code",
      "source": [
        "# Scaling your data"
      ],
      "metadata": {
        "id": "dL9LWpySC6x_"
      },
      "execution_count": null,
      "outputs": []
    },
    {
      "cell_type": "markdown",
      "source": [
        "##### Which method have you used to scale you data and why?"
      ],
      "metadata": {
        "id": "yiiVWRdJDDil"
      }
    },
    {
      "cell_type": "markdown",
      "source": [
        "### 7. Dimesionality Reduction"
      ],
      "metadata": {
        "id": "1UUpS68QDMuG"
      }
    },
    {
      "cell_type": "markdown",
      "source": [
        "##### Do you think that dimensionality reduction is needed? Explain Why?"
      ],
      "metadata": {
        "id": "kexQrXU-DjzY"
      }
    },
    {
      "cell_type": "markdown",
      "source": [
        "Answer Here."
      ],
      "metadata": {
        "id": "GGRlBsSGDtTQ"
      }
    },
    {
      "cell_type": "code",
      "source": [
        "# DImensionality Reduction (If needed)"
      ],
      "metadata": {
        "id": "kQfvxBBHDvCa"
      },
      "execution_count": null,
      "outputs": []
    },
    {
      "cell_type": "markdown",
      "source": [
        "##### Which dimensionality reduction technique have you used and why? (If dimensionality reduction done on dataset.)"
      ],
      "metadata": {
        "id": "T5CmagL3EC8N"
      }
    },
    {
      "cell_type": "markdown",
      "source": [
        "Answer Here."
      ],
      "metadata": {
        "id": "ZKr75IDuEM7t"
      }
    },
    {
      "cell_type": "markdown",
      "source": [
        "### 8. Data Splitting"
      ],
      "metadata": {
        "id": "BhH2vgX9EjGr"
      }
    },
    {
      "cell_type": "code",
      "source": [
        "# Split your data to train and test. Choose Splitting ratio wisely."
      ],
      "metadata": {
        "id": "0CTyd2UwEyNM"
      },
      "execution_count": null,
      "outputs": []
    },
    {
      "cell_type": "markdown",
      "source": [
        "##### What data splitting ratio have you used and why? "
      ],
      "metadata": {
        "id": "qjKvONjwE8ra"
      }
    },
    {
      "cell_type": "markdown",
      "source": [
        "Answer Here."
      ],
      "metadata": {
        "id": "Y2lJ8cobFDb_"
      }
    },
    {
      "cell_type": "markdown",
      "source": [
        "### 9. Handling Imbalanced Dataset"
      ],
      "metadata": {
        "id": "P1XJ9OREExlT"
      }
    },
    {
      "cell_type": "markdown",
      "source": [
        "##### Do you think the dataset is imbalanced? Explain Why."
      ],
      "metadata": {
        "id": "VFOzZv6IFROw"
      }
    },
    {
      "cell_type": "markdown",
      "source": [
        "Answer Here."
      ],
      "metadata": {
        "id": "GeKDIv7pFgcC"
      }
    },
    {
      "cell_type": "code",
      "source": [
        "# Handling Imbalanced Dataset (If needed)"
      ],
      "metadata": {
        "id": "nQsRhhZLFiDs"
      },
      "execution_count": null,
      "outputs": []
    },
    {
      "cell_type": "markdown",
      "source": [
        "##### What technique did you use to handle the imbalance dataset and why? (If needed to be balanced)"
      ],
      "metadata": {
        "id": "TIqpNgepFxVj"
      }
    },
    {
      "cell_type": "markdown",
      "source": [
        "Answer Here."
      ],
      "metadata": {
        "id": "qbet1HwdGDTz"
      }
    },
    {
      "cell_type": "markdown",
      "source": [
        "## ***7. ML Model Implementation***"
      ],
      "metadata": {
        "id": "VfCC591jGiD4"
      }
    },
    {
      "cell_type": "markdown",
      "source": [
        "### ML Model - 1"
      ],
      "metadata": {
        "id": "OB4l2ZhMeS1U"
      }
    },
    {
      "cell_type": "code",
      "source": [
        "# ML Model - 1 Implementation\n",
        "\n",
        "# Fit the Algorithm\n",
        "\n",
        "# Predict on the model"
      ],
      "metadata": {
        "id": "7ebyywQieS1U"
      },
      "execution_count": null,
      "outputs": []
    },
    {
      "cell_type": "markdown",
      "source": [
        "#### 1. Explain the ML Model used and it's performance using Evaluation metric Score Chart."
      ],
      "metadata": {
        "id": "ArJBuiUVfxKd"
      }
    },
    {
      "cell_type": "code",
      "source": [
        "# Visualizing evaluation Metric Score chart"
      ],
      "metadata": {
        "id": "rqD5ZohzfxKe"
      },
      "execution_count": null,
      "outputs": []
    },
    {
      "cell_type": "markdown",
      "source": [
        "#### 2. Cross- Validation & Hyperparameter Tuning"
      ],
      "metadata": {
        "id": "4qY1EAkEfxKe"
      }
    },
    {
      "cell_type": "code",
      "source": [
        "# ML Model - 1 Implementation with hyperparameter optimization techniques (i.e., GridSearch CV, RandomSearch CV, Bayesian Optimization etc.)\n",
        "\n",
        "# Fit the Algorithm\n",
        "\n",
        "# Predict on the model"
      ],
      "metadata": {
        "id": "Dy61ujd6fxKe"
      },
      "execution_count": null,
      "outputs": []
    },
    {
      "cell_type": "markdown",
      "source": [
        "##### Which hyperparameter optimization technique have you used and why?"
      ],
      "metadata": {
        "id": "PiV4Ypx8fxKe"
      }
    },
    {
      "cell_type": "markdown",
      "source": [
        "Answer Here."
      ],
      "metadata": {
        "id": "negyGRa7fxKf"
      }
    },
    {
      "cell_type": "markdown",
      "source": [
        "##### Have you seen any improvement? Note down the improvement with updates Evaluation metric Score Chart."
      ],
      "metadata": {
        "id": "TfvqoZmBfxKf"
      }
    },
    {
      "cell_type": "markdown",
      "source": [
        "Answer Here."
      ],
      "metadata": {
        "id": "OaLui8CcfxKf"
      }
    },
    {
      "cell_type": "markdown",
      "source": [
        "### ML Model - 2"
      ],
      "metadata": {
        "id": "dJ2tPlVmpsJ0"
      }
    },
    {
      "cell_type": "markdown",
      "source": [
        "#### 1. Explain the ML Model used and it's performance using Evaluation metric Score Chart."
      ],
      "metadata": {
        "id": "JWYfwnehpsJ1"
      }
    },
    {
      "cell_type": "code",
      "source": [
        "# Visualizing evaluation Metric Score chart"
      ],
      "metadata": {
        "id": "yEl-hgQWpsJ1"
      },
      "execution_count": null,
      "outputs": []
    },
    {
      "cell_type": "markdown",
      "source": [
        "#### 2. Cross- Validation & Hyperparameter Tuning"
      ],
      "metadata": {
        "id": "-jK_YjpMpsJ2"
      }
    },
    {
      "cell_type": "code",
      "source": [
        "# ML Model - 1 Implementation with hyperparameter optimization techniques (i.e., GridSearch CV, RandomSearch CV, Bayesian Optimization etc.)\n",
        "\n",
        "# Fit the Algorithm\n",
        "\n",
        "# Predict on the model"
      ],
      "metadata": {
        "id": "Dn0EOfS6psJ2"
      },
      "execution_count": null,
      "outputs": []
    },
    {
      "cell_type": "markdown",
      "source": [
        "##### Which hyperparameter optimization technique have you used and why?"
      ],
      "metadata": {
        "id": "HAih1iBOpsJ2"
      }
    },
    {
      "cell_type": "markdown",
      "source": [
        "Answer Here."
      ],
      "metadata": {
        "id": "9kBgjYcdpsJ2"
      }
    },
    {
      "cell_type": "markdown",
      "source": [
        "##### Have you seen any improvement? Note down the improvement with updates Evaluation metric Score Chart."
      ],
      "metadata": {
        "id": "zVGeBEFhpsJ2"
      }
    },
    {
      "cell_type": "markdown",
      "source": [
        "Answer Here."
      ],
      "metadata": {
        "id": "74yRdG6UpsJ3"
      }
    },
    {
      "cell_type": "markdown",
      "source": [
        "#### 3. Explain each evaluation metric's indication towards business and the business impact pf the ML model used."
      ],
      "metadata": {
        "id": "bmKjuQ-FpsJ3"
      }
    },
    {
      "cell_type": "markdown",
      "source": [
        "Answer Here."
      ],
      "metadata": {
        "id": "BDKtOrBQpsJ3"
      }
    },
    {
      "cell_type": "markdown",
      "source": [
        "### ML Model - 3"
      ],
      "metadata": {
        "id": "Fze-IPXLpx6K"
      }
    },
    {
      "cell_type": "code",
      "source": [
        "# ML Model - 3 Implementation\n",
        "\n",
        "# Fit the Algorithm\n",
        "\n",
        "# Predict on the model"
      ],
      "metadata": {
        "id": "FFrSXAtrpx6M"
      },
      "execution_count": null,
      "outputs": []
    },
    {
      "cell_type": "markdown",
      "source": [
        "#### 1. Explain the ML Model used and it's performance using Evaluation metric Score Chart."
      ],
      "metadata": {
        "id": "7AN1z2sKpx6M"
      }
    },
    {
      "cell_type": "code",
      "source": [
        "# Visualizing evaluation Metric Score chart"
      ],
      "metadata": {
        "id": "xIY4lxxGpx6M"
      },
      "execution_count": null,
      "outputs": []
    },
    {
      "cell_type": "markdown",
      "source": [
        "#### 2. Cross- Validation & Hyperparameter Tuning"
      ],
      "metadata": {
        "id": "9PIHJqyupx6M"
      }
    },
    {
      "cell_type": "code",
      "source": [
        "# ML Model - 3 Implementation with hyperparameter optimization techniques (i.e., GridSearch CV, RandomSearch CV, Bayesian Optimization etc.)\n",
        "\n",
        "# Fit the Algorithm\n",
        "\n",
        "# Predict on the model"
      ],
      "metadata": {
        "id": "eSVXuaSKpx6M"
      },
      "execution_count": null,
      "outputs": []
    },
    {
      "cell_type": "markdown",
      "source": [
        "##### Which hyperparameter optimization technique have you used and why?"
      ],
      "metadata": {
        "id": "_-qAgymDpx6N"
      }
    },
    {
      "cell_type": "markdown",
      "source": [
        "Answer Here."
      ],
      "metadata": {
        "id": "lQMffxkwpx6N"
      }
    },
    {
      "cell_type": "markdown",
      "source": [
        "##### Have you seen any improvement? Note down the improvement with updates Evaluation metric Score Chart."
      ],
      "metadata": {
        "id": "Z-hykwinpx6N"
      }
    },
    {
      "cell_type": "markdown",
      "source": [
        "Answer Here."
      ],
      "metadata": {
        "id": "MzVzZC6opx6N"
      }
    },
    {
      "cell_type": "markdown",
      "source": [
        "### 1. Which Evaluation metrics did you consider for a positive business impact and why?"
      ],
      "metadata": {
        "id": "h_CCil-SKHpo"
      }
    },
    {
      "cell_type": "markdown",
      "source": [
        "Answer Here."
      ],
      "metadata": {
        "id": "jHVz9hHDKFms"
      }
    },
    {
      "cell_type": "markdown",
      "source": [
        "### 2. Which ML model did you choose from the above created models as your final prediction model and why?"
      ],
      "metadata": {
        "id": "cBFFvTBNJzUa"
      }
    },
    {
      "cell_type": "markdown",
      "source": [
        "Answer Here."
      ],
      "metadata": {
        "id": "6ksF5Q1LKTVm"
      }
    },
    {
      "cell_type": "markdown",
      "source": [
        "### 3. Explain the model which you have used and the feature importance using any model explainability tool?"
      ],
      "metadata": {
        "id": "HvGl1hHyA_VK"
      }
    },
    {
      "cell_type": "markdown",
      "source": [
        "Answer Here."
      ],
      "metadata": {
        "id": "YnvVTiIxBL-C"
      }
    },
    {
      "cell_type": "markdown",
      "source": [
        "## ***8.*** ***Future Work (Optional)***"
      ],
      "metadata": {
        "id": "EyNgTHvd2WFk"
      }
    },
    {
      "cell_type": "markdown",
      "source": [
        "### 1. Save the best performing ml model in a pickle file or joblib file format for deployment process.\n"
      ],
      "metadata": {
        "id": "KH5McJBi2d8v"
      }
    },
    {
      "cell_type": "code",
      "source": [
        "# Save the File"
      ],
      "metadata": {
        "id": "bQIANRl32f4J"
      },
      "execution_count": null,
      "outputs": []
    },
    {
      "cell_type": "markdown",
      "source": [
        "### 2. Again Load the saved model file and try to predict unseen data for a sanity check.\n"
      ],
      "metadata": {
        "id": "iW_Lq9qf2h6X"
      }
    },
    {
      "cell_type": "code",
      "source": [
        "# Load the File and predict unseen data."
      ],
      "metadata": {
        "id": "oEXk9ydD2nVC"
      },
      "execution_count": null,
      "outputs": []
    },
    {
      "cell_type": "markdown",
      "source": [
        "### ***Congrats! Your model is successfully created and ready for deployment on a live server for a real user interaction !!!***"
      ],
      "metadata": {
        "id": "-Kee-DAl2viO"
      }
    },
    {
      "cell_type": "markdown",
      "source": [
        "# **Conclusion**"
      ],
      "metadata": {
        "id": "gCX9965dhzqZ"
      }
    },
    {
      "cell_type": "markdown",
      "source": [
        "Write the conclusion here."
      ],
      "metadata": {
        "id": "Fjb1IsQkh3yE"
      }
    },
    {
      "cell_type": "markdown",
      "source": [
        "### ***Hurrah! You have successfully completed your Machine Learning Capstone Project !!!***"
      ],
      "metadata": {
        "id": "gIfDvo9L0UH2"
      }
    }
  ]
}